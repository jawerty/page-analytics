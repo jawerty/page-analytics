{
 "cells": [
  {
   "cell_type": "code",
   "execution_count": 11,
   "metadata": {},
   "outputs": [],
   "source": [
    "import mongoORM\n",
    "import pandas as pd"
   ]
  },
  {
   "cell_type": "code",
   "execution_count": 3,
   "metadata": {},
   "outputs": [
    {
     "name": "stdout",
     "output_type": "stream",
     "text": [
      "Client Connected to server: mongodb://localhost:27017/\n",
      "Client Connected to database: pageAnalytics\n"
     ]
    }
   ],
   "source": [
    "ORM = mongoORM.MongoORM(database='pageAnalytics')"
   ]
  },
  {
   "cell_type": "markdown",
   "metadata": {},
   "source": [
    "## Browser Data"
   ]
  },
  {
   "cell_type": "code",
   "execution_count": 4,
   "metadata": {},
   "outputs": [],
   "source": [
    "ORM.setCollection(collection='browserInteractionData')"
   ]
  },
  {
   "cell_type": "code",
   "execution_count": 9,
   "metadata": {},
   "outputs": [
    {
     "name": "stdout",
     "output_type": "stream",
     "text": [
      "Found 196 Documents\n"
     ]
    }
   ],
   "source": [
    "data = ORM.findAll()"
   ]
  },
  {
   "cell_type": "code",
   "execution_count": 13,
   "metadata": {},
   "outputs": [],
   "source": [
    "frame = pd.DataFrame(data)"
   ]
  },
  {
   "cell_type": "code",
   "execution_count": 17,
   "metadata": {},
   "outputs": [],
   "source": [
    "frame['count'] = 1"
   ]
  },
  {
   "cell_type": "code",
   "execution_count": 18,
   "metadata": {},
   "outputs": [
    {
     "data": {
      "text/plain": [
       "Index(['_id', 'topic', 'config', 'experimentName', 'timestamp', 'sessionId',\n",
       "       'adInfo', 'count'],\n",
       "      dtype='object')"
      ]
     },
     "execution_count": 18,
     "metadata": {},
     "output_type": "execute_result"
    }
   ],
   "source": [
    "frame.columns"
   ]
  },
  {
   "cell_type": "code",
   "execution_count": 37,
   "metadata": {},
   "outputs": [
    {
     "data": {
      "text/html": [
       "<div>\n",
       "<style scoped>\n",
       "    .dataframe tbody tr th:only-of-type {\n",
       "        vertical-align: middle;\n",
       "    }\n",
       "\n",
       "    .dataframe tbody tr th {\n",
       "        vertical-align: top;\n",
       "    }\n",
       "\n",
       "    .dataframe thead th {\n",
       "        text-align: right;\n",
       "    }\n",
       "</style>\n",
       "<table border=\"1\" class=\"dataframe\">\n",
       "  <thead>\n",
       "    <tr style=\"text-align: right;\">\n",
       "      <th></th>\n",
       "      <th>_id</th>\n",
       "      <th>topic</th>\n",
       "      <th>config</th>\n",
       "      <th>experimentName</th>\n",
       "      <th>sessionId</th>\n",
       "      <th>adInfo</th>\n",
       "      <th>count</th>\n",
       "    </tr>\n",
       "    <tr>\n",
       "      <th>timestamp</th>\n",
       "      <th></th>\n",
       "      <th></th>\n",
       "      <th></th>\n",
       "      <th></th>\n",
       "      <th></th>\n",
       "      <th></th>\n",
       "      <th></th>\n",
       "    </tr>\n",
       "  </thead>\n",
       "  <tbody>\n",
       "    <tr>\n",
       "      <th>2021/09/09T20:35:35</th>\n",
       "      <td>1</td>\n",
       "      <td>1</td>\n",
       "      <td>1</td>\n",
       "      <td>1</td>\n",
       "      <td>1</td>\n",
       "      <td>0</td>\n",
       "      <td>1</td>\n",
       "    </tr>\n",
       "    <tr>\n",
       "      <th>2021/09/09T20:44:26</th>\n",
       "      <td>1</td>\n",
       "      <td>1</td>\n",
       "      <td>1</td>\n",
       "      <td>1</td>\n",
       "      <td>1</td>\n",
       "      <td>0</td>\n",
       "      <td>1</td>\n",
       "    </tr>\n",
       "    <tr>\n",
       "      <th>2021/09/09T20:46:50</th>\n",
       "      <td>1</td>\n",
       "      <td>1</td>\n",
       "      <td>1</td>\n",
       "      <td>1</td>\n",
       "      <td>1</td>\n",
       "      <td>0</td>\n",
       "      <td>1</td>\n",
       "    </tr>\n",
       "    <tr>\n",
       "      <th>2021/09/09T20:48:26</th>\n",
       "      <td>1</td>\n",
       "      <td>1</td>\n",
       "      <td>1</td>\n",
       "      <td>1</td>\n",
       "      <td>1</td>\n",
       "      <td>0</td>\n",
       "      <td>1</td>\n",
       "    </tr>\n",
       "    <tr>\n",
       "      <th>2021/09/09T20:50:22</th>\n",
       "      <td>1</td>\n",
       "      <td>1</td>\n",
       "      <td>1</td>\n",
       "      <td>1</td>\n",
       "      <td>1</td>\n",
       "      <td>0</td>\n",
       "      <td>1</td>\n",
       "    </tr>\n",
       "    <tr>\n",
       "      <th>...</th>\n",
       "      <td>...</td>\n",
       "      <td>...</td>\n",
       "      <td>...</td>\n",
       "      <td>...</td>\n",
       "      <td>...</td>\n",
       "      <td>...</td>\n",
       "      <td>...</td>\n",
       "    </tr>\n",
       "    <tr>\n",
       "      <th>2021/10/06T04:29:35</th>\n",
       "      <td>1</td>\n",
       "      <td>1</td>\n",
       "      <td>1</td>\n",
       "      <td>1</td>\n",
       "      <td>1</td>\n",
       "      <td>1</td>\n",
       "      <td>1</td>\n",
       "    </tr>\n",
       "    <tr>\n",
       "      <th>2021/10/06T04:30:14</th>\n",
       "      <td>1</td>\n",
       "      <td>1</td>\n",
       "      <td>1</td>\n",
       "      <td>1</td>\n",
       "      <td>1</td>\n",
       "      <td>1</td>\n",
       "      <td>1</td>\n",
       "    </tr>\n",
       "    <tr>\n",
       "      <th>2021/10/06T04:33:51</th>\n",
       "      <td>1</td>\n",
       "      <td>1</td>\n",
       "      <td>1</td>\n",
       "      <td>1</td>\n",
       "      <td>1</td>\n",
       "      <td>1</td>\n",
       "      <td>1</td>\n",
       "    </tr>\n",
       "    <tr>\n",
       "      <th>2021/10/06T04:34:26</th>\n",
       "      <td>1</td>\n",
       "      <td>1</td>\n",
       "      <td>1</td>\n",
       "      <td>1</td>\n",
       "      <td>1</td>\n",
       "      <td>1</td>\n",
       "      <td>1</td>\n",
       "    </tr>\n",
       "    <tr>\n",
       "      <th>2021/10/06T04:39:28</th>\n",
       "      <td>1</td>\n",
       "      <td>1</td>\n",
       "      <td>1</td>\n",
       "      <td>1</td>\n",
       "      <td>1</td>\n",
       "      <td>1</td>\n",
       "      <td>1</td>\n",
       "    </tr>\n",
       "  </tbody>\n",
       "</table>\n",
       "<p>196 rows × 7 columns</p>\n",
       "</div>"
      ],
      "text/plain": [
       "                     _id  topic  config  experimentName  sessionId  adInfo  \\\n",
       "timestamp                                                                    \n",
       "2021/09/09T20:35:35    1      1       1               1          1       0   \n",
       "2021/09/09T20:44:26    1      1       1               1          1       0   \n",
       "2021/09/09T20:46:50    1      1       1               1          1       0   \n",
       "2021/09/09T20:48:26    1      1       1               1          1       0   \n",
       "2021/09/09T20:50:22    1      1       1               1          1       0   \n",
       "...                  ...    ...     ...             ...        ...     ...   \n",
       "2021/10/06T04:29:35    1      1       1               1          1       1   \n",
       "2021/10/06T04:30:14    1      1       1               1          1       1   \n",
       "2021/10/06T04:33:51    1      1       1               1          1       1   \n",
       "2021/10/06T04:34:26    1      1       1               1          1       1   \n",
       "2021/10/06T04:39:28    1      1       1               1          1       1   \n",
       "\n",
       "                     count  \n",
       "timestamp                   \n",
       "2021/09/09T20:35:35      1  \n",
       "2021/09/09T20:44:26      1  \n",
       "2021/09/09T20:46:50      1  \n",
       "2021/09/09T20:48:26      1  \n",
       "2021/09/09T20:50:22      1  \n",
       "...                    ...  \n",
       "2021/10/06T04:29:35      1  \n",
       "2021/10/06T04:30:14      1  \n",
       "2021/10/06T04:33:51      1  \n",
       "2021/10/06T04:34:26      1  \n",
       "2021/10/06T04:39:28      1  \n",
       "\n",
       "[196 rows x 7 columns]"
      ]
     },
     "execution_count": 37,
     "metadata": {},
     "output_type": "execute_result"
    }
   ],
   "source": [
    "frame.groupby(by='timestamp').agg('count')"
   ]
  },
  {
   "cell_type": "code",
   "execution_count": 38,
   "metadata": {},
   "outputs": [
    {
     "name": "stdout",
     "output_type": "stream",
     "text": [
      "Client Connected to server: mongodb://localhost:27017/\n",
      "Client Connected to database: pageAnalytics\n"
     ]
    }
   ],
   "source": [
    "ORM_rec = mongoORM.MongoORM(database='pageAnalytics')"
   ]
  },
  {
   "cell_type": "code",
   "execution_count": 110,
   "metadata": {},
   "outputs": [],
   "source": [
    "ORM.setCollection(collection='videoRecommendationData')"
   ]
  },
  {
   "cell_type": "code",
   "execution_count": 113,
   "metadata": {},
   "outputs": [
    {
     "name": "stdout",
     "output_type": "stream",
     "text": [
      "Found 379 Documents\n"
     ]
    }
   ],
   "source": [
    "rec_data = ORM.findAll()"
   ]
  },
  {
   "cell_type": "code",
   "execution_count": 114,
   "metadata": {},
   "outputs": [],
   "source": [
    "rec_frame = pd.DataFrame(rec_data)"
   ]
  },
  {
   "cell_type": "code",
   "execution_count": 115,
   "metadata": {},
   "outputs": [
    {
     "data": {
      "text/plain": [
       "0      [BHS, BCCHS, Birmingham High School, Birmingha...\n",
       "1      [Nightmare Before Christmas, Live, Jack's Lame...\n",
       "2      [lego stop motion, lego stop motion animation,...\n",
       "3                                [Batman, Danny, Elfman]\n",
       "4      [Tim, Burton, The Nightmare Before Christmas, ...\n",
       "                             ...                        \n",
       "374    [grinch, grinch evolution, evolution of grinch...\n",
       "375    [gamingcanbefun, gaming, can, be, fun, gaming ...\n",
       "376    [Nirvana, GEFFEN, Rock, remastered, Nirvana sm...\n",
       "377    [Nightmare Before Christmas, Live, Jack's Lame...\n",
       "378    [video, sharing, camera phone, video phone, fr...\n",
       "Name: keywords, Length: 379, dtype: object"
      ]
     },
     "execution_count": 115,
     "metadata": {},
     "output_type": "execute_result"
    }
   ],
   "source": [
    "rec_frame.keywords"
   ]
  },
  {
   "cell_type": "code",
   "execution_count": 116,
   "metadata": {},
   "outputs": [],
   "source": [
    "import plotly.graph_objects as go"
   ]
  },
  {
   "cell_type": "code",
   "execution_count": 117,
   "metadata": {},
   "outputs": [
    {
     "data": {
      "text/plain": [
       "Index(['_id', 'topic', 'config', 'experimentName', 'timestamp', 'sessionId',\n",
       "       'adInfo', 'count'],\n",
       "      dtype='object')"
      ]
     },
     "execution_count": 117,
     "metadata": {},
     "output_type": "execute_result"
    }
   ],
   "source": [
    "frame.columns"
   ]
  },
  {
   "cell_type": "code",
   "execution_count": 118,
   "metadata": {},
   "outputs": [
    {
     "data": {
      "application/vnd.plotly.v1+json": {
       "config": {
        "plotlyServerURL": "https://plot.ly"
       },
       "data": [
        {
         "customdata": [
          [
           "nightmare before christmas jack",
           "A"
          ]
         ],
         "hovertemplate": "sessionId=373f0ebc-a879-4535-b6c3-27220dd9f046<br>timestamp=%{x}<br>count=%{y}<br>topic=%{customdata[0]}<br>experimentName=%{customdata[1]}<extra></extra>",
         "legendgroup": "373f0ebc-a879-4535-b6c3-27220dd9f046",
         "marker": {
          "color": "#636efa",
          "symbol": "circle"
         },
         "mode": "markers",
         "name": "373f0ebc-a879-4535-b6c3-27220dd9f046",
         "orientation": "v",
         "showlegend": true,
         "type": "scatter",
         "x": [
          "2021/09/09T20:35:35"
         ],
         "xaxis": "x",
         "y": [
          1
         ],
         "yaxis": "y"
        },
        {
         "customdata": [
          [
           "tim burton",
           "A"
          ],
          [
           "animation stop motion tim burton",
           "A"
          ],
          [
           "pumpkin king",
           "A"
          ],
          [
           "best jack skellington scenes",
           "A"
          ],
          [
           "oogie boogie jack skellington",
           "A"
          ],
          [
           "nightmare before xmas",
           "A"
          ],
          [
           "pumpkin king",
           "A"
          ],
          [
           "oogie boogie",
           "A"
          ],
          [
           "oogy boogy",
           "A"
          ],
          [
           "pumpkin king",
           "A"
          ],
          [
           "jack skellington real life",
           "A"
          ],
          [
           "santa from nightmare before christmas",
           "A"
          ],
          [
           "oogie boogie",
           "A"
          ],
          [
           "jack and sally montage",
           "A"
          ],
          [
           "jack nightmare before christmas",
           "A"
          ],
          [
           "tim burton",
           "A"
          ],
          [
           "jack nightmare before christmas",
           "A"
          ],
          [
           "tim burton",
           "A"
          ],
          [
           "jack nightmare before christmas",
           "A"
          ],
          [
           "oogy boogy",
           "A"
          ],
          [
           "nightmare before xmas",
           "A"
          ],
          [
           "jack skellington",
           "A"
          ],
          [
           "nightmare before christmas sally",
           "A"
          ],
          [
           "pumpkin king",
           "A"
          ],
          [
           "jack skellington real life",
           "A"
          ],
          [
           "jack skellington broadway",
           "A"
          ],
          [
           "jack skellington real life",
           "A"
          ],
          [
           "tim burton nightmare christmas",
           "A"
          ],
          [
           "jack's obsession",
           "A"
          ],
          [
           "nightmare before xmas",
           "A"
          ],
          [
           "jack nightmare before christmas",
           "A"
          ],
          [
           "danny elfman soundtrack",
           "A"
          ],
          [
           "danny elfman soundtrack",
           "A"
          ],
          [
           "jack and sally montage",
           "A"
          ],
          [
           "danny elfman soundtrack",
           "A"
          ],
          [
           "nightmare before xmas",
           "A"
          ],
          [
           "jack skellington broadway",
           "A"
          ],
          [
           "jack and sally montage",
           "A"
          ],
          [
           "santa from nightmare before christmas",
           "A"
          ],
          [
           "this is halloween",
           "A"
          ],
          [
           "tim burton nightmare christmas",
           "A"
          ],
          [
           "nightmare before christmas sally",
           "A"
          ],
          [
           "jack skellington broadway",
           "A"
          ],
          [
           "nightmare before christmas sally",
           "A"
          ],
          [
           "tim burton nightmare christmas",
           "A"
          ],
          [
           "oogie boogie",
           "A"
          ],
          [
           "sally and jack",
           "A"
          ],
          [
           "jack nightmare before christmas",
           "A"
          ],
          [
           "jack skellington real life",
           "A"
          ],
          [
           "jack skellington real life",
           "A"
          ],
          [
           "best jack skellington scenes",
           "A"
          ],
          [
           "nightmare before xmas",
           "A"
          ],
          [
           "danny elfman soundtrack",
           "A"
          ],
          [
           "jack skellington",
           "A"
          ],
          [
           "jack skellington real life",
           "A"
          ],
          [
           "best jack skellington scenes",
           "A"
          ],
          [
           "oogie boogie jack skellington",
           "A"
          ],
          [
           "pumpkin king",
           "A"
          ],
          [
           "tim burton nightmare christmas",
           "A"
          ],
          [
           "danny elfman soundtrack",
           "A"
          ],
          [
           "oogy boogy",
           "A"
          ],
          [
           "pumpkin king",
           "A"
          ],
          [
           "nightmare before christmas sally",
           "A"
          ],
          [
           "this is halloween",
           "A"
          ],
          [
           "jack nightmare before christmas",
           "A"
          ],
          [
           "santa from nightmare before christmas",
           "A"
          ],
          [
           "jack skellington real life",
           "A"
          ],
          [
           "this is halloween",
           "A"
          ],
          [
           "nightmare before xmas",
           "A"
          ],
          [
           "jack skellington broadway",
           "A"
          ],
          [
           "nightmare before christmas sally",
           "A"
          ],
          [
           "making christmas",
           "A"
          ],
          [
           "santa from nightmare before christmas",
           "A"
          ],
          [
           "jack skellington",
           "A"
          ],
          [
           "best jack skellington scenes",
           "A"
          ],
          [
           "sally and jack",
           "A"
          ],
          [
           "santa from nightmare before christmas",
           "A"
          ],
          [
           "oogie boogie",
           "A"
          ],
          [
           "jack skellington",
           "A"
          ],
          [
           "santa from nightmare before christmas",
           "A"
          ],
          [
           "pumpkin king",
           "A"
          ],
          [
           "this is halloween",
           "A"
          ]
         ],
         "hovertemplate": "sessionId=d85a129f-0fbd-4f9a-8b55-b25272942b70<br>timestamp=%{x}<br>count=%{y}<br>topic=%{customdata[0]}<br>experimentName=%{customdata[1]}<extra></extra>",
         "legendgroup": "d85a129f-0fbd-4f9a-8b55-b25272942b70",
         "marker": {
          "color": "#EF553B",
          "symbol": "circle"
         },
         "mode": "markers",
         "name": "d85a129f-0fbd-4f9a-8b55-b25272942b70",
         "orientation": "v",
         "showlegend": true,
         "type": "scatter",
         "x": [
          "2021/09/09T20:44:26",
          "2021/09/09T20:46:50",
          "2021/09/09T20:48:26",
          "2021/09/09T20:50:22",
          "2021/09/09T20:52:47",
          "2021/09/09T20:54:47",
          "2021/09/09T20:56:25",
          "2021/09/09T20:58:55",
          "2021/09/09T21:00:49",
          "2021/09/09T21:02:48",
          "2021/09/09T21:04:50",
          "2021/09/09T21:06:51",
          "2021/09/09T21:08:54",
          "2021/09/09T21:10:53",
          "2021/09/09T21:12:52",
          "2021/09/09T21:14:52",
          "2021/09/09T21:16:51",
          "2021/09/09T21:18:54",
          "2021/09/09T21:20:49",
          "2021/09/09T21:22:41",
          "2021/09/09T21:24:57",
          "2021/09/09T21:26:37",
          "2021/09/09T21:28:52",
          "2021/09/09T21:30:48",
          "2021/09/09T21:32:50",
          "2021/09/09T21:34:53",
          "2021/09/09T21:36:52",
          "2021/09/09T21:38:53",
          "2021/09/09T21:40:52",
          "2021/09/09T21:42:51",
          "2021/09/09T21:44:52",
          "2021/09/09T21:46:51",
          "2021/09/09T21:48:36",
          "2021/09/09T21:50:49",
          "2021/09/09T21:52:52",
          "2021/09/09T21:54:54",
          "2021/09/09T21:56:49",
          "2021/09/09T21:58:57",
          "2021/09/09T22:00:53",
          "2021/09/09T22:02:52",
          "2021/09/09T22:04:49",
          "2021/09/09T22:06:52",
          "2021/09/09T22:08:52",
          "2021/09/09T22:10:53",
          "2021/09/09T22:12:48",
          "2021/09/09T22:14:49",
          "2021/09/09T22:16:54",
          "2021/09/09T22:18:55",
          "2021/09/09T22:20:48",
          "2021/09/09T22:22:52",
          "2021/09/09T22:24:49",
          "2021/09/09T22:26:43",
          "2021/09/09T22:28:56",
          "2021/09/09T22:30:53",
          "2021/09/09T22:32:49",
          "2021/09/09T22:34:36",
          "2021/09/09T22:36:53",
          "2021/09/09T22:38:52",
          "2021/09/09T22:40:54",
          "2021/09/09T22:42:52",
          "2021/09/09T22:44:49",
          "2021/09/09T22:46:49",
          "2021/09/09T22:48:54",
          "2021/09/09T22:50:52",
          "2021/09/09T22:52:53",
          "2021/09/09T22:54:49",
          "2021/09/09T22:56:49",
          "2021/09/09T22:58:48",
          "2021/09/09T23:00:26",
          "2021/09/09T23:02:21",
          "2021/09/09T23:04:47",
          "2021/09/09T23:06:22",
          "2021/09/09T23:08:59",
          "2021/09/09T23:10:21",
          "2021/09/09T23:12:22",
          "2021/09/09T23:14:49",
          "2021/09/09T23:16:48",
          "2021/09/09T23:18:25",
          "2021/09/09T23:20:22",
          "2021/09/09T23:22:47",
          "2021/09/09T23:24:20",
          "2021/09/09T23:26:21"
         ],
         "xaxis": "x",
         "y": [
          1,
          1,
          1,
          1,
          1,
          1,
          1,
          1,
          1,
          1,
          1,
          1,
          1,
          1,
          1,
          1,
          1,
          1,
          1,
          1,
          1,
          1,
          1,
          1,
          1,
          1,
          1,
          1,
          1,
          1,
          1,
          1,
          1,
          1,
          1,
          1,
          1,
          1,
          1,
          1,
          1,
          1,
          1,
          1,
          1,
          1,
          1,
          1,
          1,
          1,
          1,
          1,
          1,
          1,
          1,
          1,
          1,
          1,
          1,
          1,
          1,
          1,
          1,
          1,
          1,
          1,
          1,
          1,
          1,
          1,
          1,
          1,
          1,
          1,
          1,
          1,
          1,
          1,
          1,
          1,
          1,
          1
         ],
         "yaxis": "y"
        },
        {
         "customdata": [
          [
           "nightmare before christmas",
           "A"
          ],
          [
           "best jack skellington scenes",
           "A"
          ],
          [
           "nightmare before christmas jack",
           "A"
          ],
          [
           "this is halloween",
           "A"
          ],
          [
           "sally and jack",
           "A"
          ],
          [
           "making christmas",
           "A"
          ],
          [
           "pumpkin king",
           "A"
          ],
          [
           "jack skellington",
           "A"
          ],
          [
           "best jack skellington scenes",
           "A"
          ],
          [
           "best jack skellington scenes",
           "A"
          ],
          [
           "oogie boogie jack skellington",
           "A"
          ],
          [
           "jack skellington",
           "A"
          ],
          [
           "oogie boogie jack skellington",
           "A"
          ],
          [
           "jack skellington broadway",
           "A"
          ],
          [
           "oogie boogie jack skellington",
           "A"
          ],
          [
           "danny elfman soundtrack",
           "A"
          ],
          [
           "nightmare before christmas jack",
           "A"
          ],
          [
           "tim burton nightmare christmas",
           "A"
          ],
          [
           "nightmare before christmas jack",
           "A"
          ],
          [
           "jack skellington real life",
           "A"
          ],
          [
           "sally and jack",
           "A"
          ],
          [
           "animation stop motion tim burton",
           "A"
          ],
          [
           "nightmare before xmas",
           "A"
          ],
          [
           "tim burton",
           "A"
          ],
          [
           "danny elfman soundtrack",
           "A"
          ],
          [
           "tim burton",
           "A"
          ],
          [
           "jack skellington broadway",
           "A"
          ],
          [
           "jack nightmare before christmas",
           "A"
          ],
          [
           "this is halloween",
           "A"
          ],
          [
           "sally and jack",
           "A"
          ],
          [
           "danny elfman soundtrack",
           "A"
          ],
          [
           "sally and jack",
           "A"
          ],
          [
           "nightmare before christmas jack",
           "A"
          ],
          [
           "jack skellington broadway",
           "A"
          ],
          [
           "nightmare before xmas",
           "A"
          ],
          [
           "jack skellington real life",
           "A"
          ],
          [
           "animation stop motion tim burton",
           "A"
          ],
          [
           "jack skellington broadway",
           "A"
          ],
          [
           "animation stop motion tim burton",
           "A"
          ],
          [
           "nightmare before christmas jack",
           "A"
          ],
          [
           "danny elfman soundtrack",
           "A"
          ],
          [
           "oogy boogy",
           "A"
          ],
          [
           "nightmare before christmas",
           "A"
          ],
          [
           "this is halloween",
           "A"
          ],
          [
           "nightmare before christmas sally",
           "A"
          ],
          [
           "tim burton nightmare christmas",
           "A"
          ],
          [
           "jack nightmare before christmas",
           "A"
          ],
          [
           "santa from nightmare before christmas",
           "A"
          ],
          [
           "jack and sally montage",
           "A"
          ],
          [
           "this is halloween",
           "A"
          ],
          [
           "oogie boogie",
           "A"
          ]
         ],
         "hovertemplate": "sessionId=e5ede6af-234b-4bc0-b775-b63f1c4bdc96<br>timestamp=%{x}<br>count=%{y}<br>topic=%{customdata[0]}<br>experimentName=%{customdata[1]}<extra></extra>",
         "legendgroup": "e5ede6af-234b-4bc0-b775-b63f1c4bdc96",
         "marker": {
          "color": "#00cc96",
          "symbol": "circle"
         },
         "mode": "markers",
         "name": "e5ede6af-234b-4bc0-b775-b63f1c4bdc96",
         "orientation": "v",
         "showlegend": true,
         "type": "scatter",
         "x": [
          "2021/10/05T22:37:20",
          "2021/10/05T22:39:15",
          "2021/10/05T22:41:43",
          "2021/10/05T22:43:22",
          "2021/10/05T22:45:42",
          "2021/10/05T22:47:22",
          "2021/10/05T22:49:25",
          "2021/10/05T22:51:13",
          "2021/10/05T22:53:14",
          "2021/10/05T22:55:16",
          "2021/10/05T22:57:22",
          "2021/10/05T22:59:22",
          "2021/10/05T23:01:19",
          "2021/10/05T23:03:38",
          "2021/10/05T23:05:22",
          "2021/10/05T23:07:25",
          "2021/10/05T23:09:18",
          "2021/10/05T23:11:16",
          "2021/10/05T23:13:14",
          "2021/10/05T23:15:14",
          "2021/10/05T23:17:13",
          "2021/10/05T23:19:18",
          "2021/10/05T23:21:20",
          "2021/10/05T23:23:14",
          "2021/10/05T23:25:15",
          "2021/10/05T23:27:14",
          "2021/10/05T23:29:21",
          "2021/10/05T23:31:23",
          "2021/10/05T23:33:21",
          "2021/10/05T23:35:22",
          "2021/10/05T23:37:18",
          "2021/10/05T23:39:22",
          "2021/10/05T23:41:27",
          "2021/10/05T23:43:24",
          "2021/10/05T23:45:25",
          "2021/10/05T23:47:22",
          "2021/10/05T23:49:34",
          "2021/10/05T23:51:21",
          "2021/10/05T23:53:25",
          "2021/10/05T23:55:24",
          "2021/10/05T23:57:43",
          "2021/10/06T00:00:58",
          "2021/10/06T00:01:33",
          "2021/10/06T00:03:52",
          "2021/10/06T00:05:28",
          "2021/10/06T00:07:56",
          "2021/10/06T00:09:59",
          "2021/10/06T00:11:33",
          "2021/10/06T00:13:54",
          "2021/10/06T00:16:47",
          "2021/10/06T00:20:22"
         ],
         "xaxis": "x",
         "y": [
          1,
          1,
          1,
          1,
          1,
          1,
          1,
          1,
          1,
          1,
          1,
          1,
          1,
          1,
          1,
          1,
          1,
          1,
          1,
          1,
          1,
          1,
          1,
          1,
          1,
          1,
          1,
          1,
          1,
          1,
          1,
          1,
          1,
          1,
          1,
          1,
          1,
          1,
          1,
          1,
          1,
          1,
          1,
          1,
          1,
          1,
          1,
          1,
          1,
          1,
          1
         ],
         "yaxis": "y"
        },
        {
         "customdata": [
          [
           "oogy boogy",
           "A"
          ],
          [
           "tim burton nightmare christmas",
           "A"
          ],
          [
           "animation stop motion tim burton",
           "A"
          ],
          [
           "oogie boogie",
           "A"
          ],
          [
           "jack skellington real life",
           "A"
          ],
          [
           "oogy boogy",
           "A"
          ],
          [
           "oogie boogie",
           "A"
          ],
          [
           "nightmare before christmas sally",
           "A"
          ],
          [
           "oogy boogy",
           "A"
          ],
          [
           "making christmas",
           "A"
          ],
          [
           "animation stop motion tim burton",
           "A"
          ],
          [
           "santa from nightmare before christmas",
           "A"
          ],
          [
           "sally and jack",
           "A"
          ],
          [
           "nightmare before xmas",
           "A"
          ],
          [
           "pumpkin king",
           "A"
          ],
          [
           "jack's obsession",
           "A"
          ],
          [
           "jack's obsession",
           "A"
          ],
          [
           "santa from nightmare before christmas",
           "A"
          ],
          [
           "jack's obsession",
           "A"
          ],
          [
           "pumpkin king",
           "A"
          ],
          [
           "nightmare before christmas",
           "A"
          ],
          [
           "oogie boogie jack skellington",
           "A"
          ],
          [
           "tim burton",
           "A"
          ],
          [
           "tim burton",
           "A"
          ],
          [
           "oogie boogie jack skellington",
           "A"
          ],
          [
           "jack skellington",
           "A"
          ],
          [
           "oogie boogie",
           "A"
          ],
          [
           "tim burton nightmare christmas",
           "A"
          ],
          [
           "santa from nightmare before christmas",
           "A"
          ],
          [
           "jack nightmare before christmas",
           "A"
          ],
          [
           "oogy boogy",
           "A"
          ],
          [
           "tim burton nightmare christmas",
           "A"
          ],
          [
           "nightmare before christmas jack",
           "A"
          ],
          [
           "tim burton",
           "A"
          ],
          [
           "sally and jack",
           "A"
          ],
          [
           "jack skellington real life",
           "A"
          ],
          [
           "jack nightmare before christmas",
           "A"
          ],
          [
           "tim burton nightmare christmas",
           "A"
          ],
          [
           "nightmare before christmas",
           "A"
          ],
          [
           "jack and sally montage",
           "A"
          ],
          [
           "jack skellington",
           "A"
          ],
          [
           "danny elfman soundtrack",
           "A"
          ],
          [
           "nightmare before xmas",
           "A"
          ],
          [
           "santa from nightmare before christmas",
           "A"
          ],
          [
           "oogie boogie",
           "A"
          ],
          [
           "danny elfman soundtrack",
           "A"
          ],
          [
           "making christmas",
           "A"
          ],
          [
           "oogy boogy",
           "A"
          ],
          [
           "oogie boogie",
           "A"
          ],
          [
           "nightmare before christmas jack",
           "A"
          ],
          [
           "jack and sally montage",
           "A"
          ],
          [
           "tim burton nightmare christmas",
           "A"
          ],
          [
           "danny elfman soundtrack",
           "A"
          ],
          [
           "jack and sally montage",
           "A"
          ],
          [
           "this is halloween",
           "A"
          ],
          [
           "tim burton",
           "A"
          ],
          [
           "sally and jack",
           "A"
          ],
          [
           "jack skellington broadway",
           "A"
          ],
          [
           "nightmare before xmas",
           "A"
          ],
          [
           "nightmare before christmas sally",
           "A"
          ],
          [
           "jack skellington",
           "A"
          ],
          [
           "nightmare before christmas",
           "A"
          ]
         ],
         "hovertemplate": "sessionId=6a24c05f-d0d5-4aeb-b899-464b7b5e8fac<br>timestamp=%{x}<br>count=%{y}<br>topic=%{customdata[0]}<br>experimentName=%{customdata[1]}<extra></extra>",
         "legendgroup": "6a24c05f-d0d5-4aeb-b899-464b7b5e8fac",
         "marker": {
          "color": "#ab63fa",
          "symbol": "circle"
         },
         "mode": "markers",
         "name": "6a24c05f-d0d5-4aeb-b899-464b7b5e8fac",
         "orientation": "v",
         "showlegend": true,
         "type": "scatter",
         "x": [
          "2021/10/06T01:40:13",
          "2021/10/06T01:42:00",
          "2021/10/06T01:44:29",
          "2021/10/06T01:45:58",
          "2021/10/06T01:47:57",
          "2021/10/06T01:49:58",
          "2021/10/06T01:51:58",
          "2021/10/06T01:54:06",
          "2021/10/06T01:56:00",
          "2021/10/06T01:58:01",
          "2021/10/06T02:00:37",
          "2021/10/06T02:02:00",
          "2021/10/06T02:04:00",
          "2021/10/06T02:06:10",
          "2021/10/06T02:08:10",
          "2021/10/06T02:10:09",
          "2021/10/06T02:12:07",
          "2021/10/06T02:14:06",
          "2021/10/06T02:16:04",
          "2021/10/06T02:18:12",
          "2021/10/06T02:20:13",
          "2021/10/06T02:22:07",
          "2021/10/06T02:24:15",
          "2021/10/06T02:26:26",
          "2021/10/06T02:28:23",
          "2021/10/06T02:30:31",
          "2021/10/06T03:08:04",
          "2021/10/06T03:09:36",
          "2021/10/06T03:11:28",
          "2021/10/06T03:13:29",
          "2021/10/06T03:15:34",
          "2021/10/06T03:17:32",
          "2021/10/06T03:19:47",
          "2021/10/06T03:21:51",
          "2021/10/06T03:23:48",
          "2021/10/06T03:25:36",
          "2021/10/06T03:27:42",
          "2021/10/06T03:29:44",
          "2021/10/06T03:32:24",
          "2021/10/06T03:34:23",
          "2021/10/06T03:36:08",
          "2021/10/06T03:38:07",
          "2021/10/06T03:40:07",
          "2021/10/06T03:41:59",
          "2021/10/06T03:44:05",
          "2021/10/06T03:46:10",
          "2021/10/06T03:48:11",
          "2021/10/06T03:50:38",
          "2021/10/06T03:54:12",
          "2021/10/06T03:56:11",
          "2021/10/06T04:00:11",
          "2021/10/06T04:02:24",
          "2021/10/06T04:05:01",
          "2021/10/06T04:11:00",
          "2021/10/06T04:17:05",
          "2021/10/06T04:20:51",
          "2021/10/06T04:24:30",
          "2021/10/06T04:29:35",
          "2021/10/06T04:30:14",
          "2021/10/06T04:33:51",
          "2021/10/06T04:34:26",
          "2021/10/06T04:39:28"
         ],
         "xaxis": "x",
         "y": [
          1,
          1,
          1,
          1,
          1,
          1,
          1,
          1,
          1,
          1,
          1,
          1,
          1,
          1,
          1,
          1,
          1,
          1,
          1,
          1,
          1,
          1,
          1,
          1,
          1,
          1,
          1,
          1,
          1,
          1,
          1,
          1,
          1,
          1,
          1,
          1,
          1,
          1,
          1,
          1,
          1,
          1,
          1,
          1,
          1,
          1,
          1,
          1,
          1,
          1,
          1,
          1,
          1,
          1,
          1,
          1,
          1,
          1,
          1,
          1,
          1,
          1
         ],
         "yaxis": "y"
        }
       ],
       "layout": {
        "legend": {
         "title": {
          "text": "sessionId"
         },
         "tracegroupgap": 0
        },
        "margin": {
         "t": 60
        },
        "template": {
         "data": {
          "bar": [
           {
            "error_x": {
             "color": "#2a3f5f"
            },
            "error_y": {
             "color": "#2a3f5f"
            },
            "marker": {
             "line": {
              "color": "#E5ECF6",
              "width": 0.5
             }
            },
            "type": "bar"
           }
          ],
          "barpolar": [
           {
            "marker": {
             "line": {
              "color": "#E5ECF6",
              "width": 0.5
             }
            },
            "type": "barpolar"
           }
          ],
          "carpet": [
           {
            "aaxis": {
             "endlinecolor": "#2a3f5f",
             "gridcolor": "white",
             "linecolor": "white",
             "minorgridcolor": "white",
             "startlinecolor": "#2a3f5f"
            },
            "baxis": {
             "endlinecolor": "#2a3f5f",
             "gridcolor": "white",
             "linecolor": "white",
             "minorgridcolor": "white",
             "startlinecolor": "#2a3f5f"
            },
            "type": "carpet"
           }
          ],
          "choropleth": [
           {
            "colorbar": {
             "outlinewidth": 0,
             "ticks": ""
            },
            "type": "choropleth"
           }
          ],
          "contour": [
           {
            "colorbar": {
             "outlinewidth": 0,
             "ticks": ""
            },
            "colorscale": [
             [
              0,
              "#0d0887"
             ],
             [
              0.1111111111111111,
              "#46039f"
             ],
             [
              0.2222222222222222,
              "#7201a8"
             ],
             [
              0.3333333333333333,
              "#9c179e"
             ],
             [
              0.4444444444444444,
              "#bd3786"
             ],
             [
              0.5555555555555556,
              "#d8576b"
             ],
             [
              0.6666666666666666,
              "#ed7953"
             ],
             [
              0.7777777777777778,
              "#fb9f3a"
             ],
             [
              0.8888888888888888,
              "#fdca26"
             ],
             [
              1,
              "#f0f921"
             ]
            ],
            "type": "contour"
           }
          ],
          "contourcarpet": [
           {
            "colorbar": {
             "outlinewidth": 0,
             "ticks": ""
            },
            "type": "contourcarpet"
           }
          ],
          "heatmap": [
           {
            "colorbar": {
             "outlinewidth": 0,
             "ticks": ""
            },
            "colorscale": [
             [
              0,
              "#0d0887"
             ],
             [
              0.1111111111111111,
              "#46039f"
             ],
             [
              0.2222222222222222,
              "#7201a8"
             ],
             [
              0.3333333333333333,
              "#9c179e"
             ],
             [
              0.4444444444444444,
              "#bd3786"
             ],
             [
              0.5555555555555556,
              "#d8576b"
             ],
             [
              0.6666666666666666,
              "#ed7953"
             ],
             [
              0.7777777777777778,
              "#fb9f3a"
             ],
             [
              0.8888888888888888,
              "#fdca26"
             ],
             [
              1,
              "#f0f921"
             ]
            ],
            "type": "heatmap"
           }
          ],
          "heatmapgl": [
           {
            "colorbar": {
             "outlinewidth": 0,
             "ticks": ""
            },
            "colorscale": [
             [
              0,
              "#0d0887"
             ],
             [
              0.1111111111111111,
              "#46039f"
             ],
             [
              0.2222222222222222,
              "#7201a8"
             ],
             [
              0.3333333333333333,
              "#9c179e"
             ],
             [
              0.4444444444444444,
              "#bd3786"
             ],
             [
              0.5555555555555556,
              "#d8576b"
             ],
             [
              0.6666666666666666,
              "#ed7953"
             ],
             [
              0.7777777777777778,
              "#fb9f3a"
             ],
             [
              0.8888888888888888,
              "#fdca26"
             ],
             [
              1,
              "#f0f921"
             ]
            ],
            "type": "heatmapgl"
           }
          ],
          "histogram": [
           {
            "marker": {
             "colorbar": {
              "outlinewidth": 0,
              "ticks": ""
             }
            },
            "type": "histogram"
           }
          ],
          "histogram2d": [
           {
            "colorbar": {
             "outlinewidth": 0,
             "ticks": ""
            },
            "colorscale": [
             [
              0,
              "#0d0887"
             ],
             [
              0.1111111111111111,
              "#46039f"
             ],
             [
              0.2222222222222222,
              "#7201a8"
             ],
             [
              0.3333333333333333,
              "#9c179e"
             ],
             [
              0.4444444444444444,
              "#bd3786"
             ],
             [
              0.5555555555555556,
              "#d8576b"
             ],
             [
              0.6666666666666666,
              "#ed7953"
             ],
             [
              0.7777777777777778,
              "#fb9f3a"
             ],
             [
              0.8888888888888888,
              "#fdca26"
             ],
             [
              1,
              "#f0f921"
             ]
            ],
            "type": "histogram2d"
           }
          ],
          "histogram2dcontour": [
           {
            "colorbar": {
             "outlinewidth": 0,
             "ticks": ""
            },
            "colorscale": [
             [
              0,
              "#0d0887"
             ],
             [
              0.1111111111111111,
              "#46039f"
             ],
             [
              0.2222222222222222,
              "#7201a8"
             ],
             [
              0.3333333333333333,
              "#9c179e"
             ],
             [
              0.4444444444444444,
              "#bd3786"
             ],
             [
              0.5555555555555556,
              "#d8576b"
             ],
             [
              0.6666666666666666,
              "#ed7953"
             ],
             [
              0.7777777777777778,
              "#fb9f3a"
             ],
             [
              0.8888888888888888,
              "#fdca26"
             ],
             [
              1,
              "#f0f921"
             ]
            ],
            "type": "histogram2dcontour"
           }
          ],
          "mesh3d": [
           {
            "colorbar": {
             "outlinewidth": 0,
             "ticks": ""
            },
            "type": "mesh3d"
           }
          ],
          "parcoords": [
           {
            "line": {
             "colorbar": {
              "outlinewidth": 0,
              "ticks": ""
             }
            },
            "type": "parcoords"
           }
          ],
          "pie": [
           {
            "automargin": true,
            "type": "pie"
           }
          ],
          "scatter": [
           {
            "marker": {
             "colorbar": {
              "outlinewidth": 0,
              "ticks": ""
             }
            },
            "type": "scatter"
           }
          ],
          "scatter3d": [
           {
            "line": {
             "colorbar": {
              "outlinewidth": 0,
              "ticks": ""
             }
            },
            "marker": {
             "colorbar": {
              "outlinewidth": 0,
              "ticks": ""
             }
            },
            "type": "scatter3d"
           }
          ],
          "scattercarpet": [
           {
            "marker": {
             "colorbar": {
              "outlinewidth": 0,
              "ticks": ""
             }
            },
            "type": "scattercarpet"
           }
          ],
          "scattergeo": [
           {
            "marker": {
             "colorbar": {
              "outlinewidth": 0,
              "ticks": ""
             }
            },
            "type": "scattergeo"
           }
          ],
          "scattergl": [
           {
            "marker": {
             "colorbar": {
              "outlinewidth": 0,
              "ticks": ""
             }
            },
            "type": "scattergl"
           }
          ],
          "scattermapbox": [
           {
            "marker": {
             "colorbar": {
              "outlinewidth": 0,
              "ticks": ""
             }
            },
            "type": "scattermapbox"
           }
          ],
          "scatterpolar": [
           {
            "marker": {
             "colorbar": {
              "outlinewidth": 0,
              "ticks": ""
             }
            },
            "type": "scatterpolar"
           }
          ],
          "scatterpolargl": [
           {
            "marker": {
             "colorbar": {
              "outlinewidth": 0,
              "ticks": ""
             }
            },
            "type": "scatterpolargl"
           }
          ],
          "scatterternary": [
           {
            "marker": {
             "colorbar": {
              "outlinewidth": 0,
              "ticks": ""
             }
            },
            "type": "scatterternary"
           }
          ],
          "surface": [
           {
            "colorbar": {
             "outlinewidth": 0,
             "ticks": ""
            },
            "colorscale": [
             [
              0,
              "#0d0887"
             ],
             [
              0.1111111111111111,
              "#46039f"
             ],
             [
              0.2222222222222222,
              "#7201a8"
             ],
             [
              0.3333333333333333,
              "#9c179e"
             ],
             [
              0.4444444444444444,
              "#bd3786"
             ],
             [
              0.5555555555555556,
              "#d8576b"
             ],
             [
              0.6666666666666666,
              "#ed7953"
             ],
             [
              0.7777777777777778,
              "#fb9f3a"
             ],
             [
              0.8888888888888888,
              "#fdca26"
             ],
             [
              1,
              "#f0f921"
             ]
            ],
            "type": "surface"
           }
          ],
          "table": [
           {
            "cells": {
             "fill": {
              "color": "#EBF0F8"
             },
             "line": {
              "color": "white"
             }
            },
            "header": {
             "fill": {
              "color": "#C8D4E3"
             },
             "line": {
              "color": "white"
             }
            },
            "type": "table"
           }
          ]
         },
         "layout": {
          "annotationdefaults": {
           "arrowcolor": "#2a3f5f",
           "arrowhead": 0,
           "arrowwidth": 1
          },
          "coloraxis": {
           "colorbar": {
            "outlinewidth": 0,
            "ticks": ""
           }
          },
          "colorscale": {
           "diverging": [
            [
             0,
             "#8e0152"
            ],
            [
             0.1,
             "#c51b7d"
            ],
            [
             0.2,
             "#de77ae"
            ],
            [
             0.3,
             "#f1b6da"
            ],
            [
             0.4,
             "#fde0ef"
            ],
            [
             0.5,
             "#f7f7f7"
            ],
            [
             0.6,
             "#e6f5d0"
            ],
            [
             0.7,
             "#b8e186"
            ],
            [
             0.8,
             "#7fbc41"
            ],
            [
             0.9,
             "#4d9221"
            ],
            [
             1,
             "#276419"
            ]
           ],
           "sequential": [
            [
             0,
             "#0d0887"
            ],
            [
             0.1111111111111111,
             "#46039f"
            ],
            [
             0.2222222222222222,
             "#7201a8"
            ],
            [
             0.3333333333333333,
             "#9c179e"
            ],
            [
             0.4444444444444444,
             "#bd3786"
            ],
            [
             0.5555555555555556,
             "#d8576b"
            ],
            [
             0.6666666666666666,
             "#ed7953"
            ],
            [
             0.7777777777777778,
             "#fb9f3a"
            ],
            [
             0.8888888888888888,
             "#fdca26"
            ],
            [
             1,
             "#f0f921"
            ]
           ],
           "sequentialminus": [
            [
             0,
             "#0d0887"
            ],
            [
             0.1111111111111111,
             "#46039f"
            ],
            [
             0.2222222222222222,
             "#7201a8"
            ],
            [
             0.3333333333333333,
             "#9c179e"
            ],
            [
             0.4444444444444444,
             "#bd3786"
            ],
            [
             0.5555555555555556,
             "#d8576b"
            ],
            [
             0.6666666666666666,
             "#ed7953"
            ],
            [
             0.7777777777777778,
             "#fb9f3a"
            ],
            [
             0.8888888888888888,
             "#fdca26"
            ],
            [
             1,
             "#f0f921"
            ]
           ]
          },
          "colorway": [
           "#636efa",
           "#EF553B",
           "#00cc96",
           "#ab63fa",
           "#FFA15A",
           "#19d3f3",
           "#FF6692",
           "#B6E880",
           "#FF97FF",
           "#FECB52"
          ],
          "font": {
           "color": "#2a3f5f"
          },
          "geo": {
           "bgcolor": "white",
           "lakecolor": "white",
           "landcolor": "#E5ECF6",
           "showlakes": true,
           "showland": true,
           "subunitcolor": "white"
          },
          "hoverlabel": {
           "align": "left"
          },
          "hovermode": "closest",
          "mapbox": {
           "style": "light"
          },
          "paper_bgcolor": "white",
          "plot_bgcolor": "#E5ECF6",
          "polar": {
           "angularaxis": {
            "gridcolor": "white",
            "linecolor": "white",
            "ticks": ""
           },
           "bgcolor": "#E5ECF6",
           "radialaxis": {
            "gridcolor": "white",
            "linecolor": "white",
            "ticks": ""
           }
          },
          "scene": {
           "xaxis": {
            "backgroundcolor": "#E5ECF6",
            "gridcolor": "white",
            "gridwidth": 2,
            "linecolor": "white",
            "showbackground": true,
            "ticks": "",
            "zerolinecolor": "white"
           },
           "yaxis": {
            "backgroundcolor": "#E5ECF6",
            "gridcolor": "white",
            "gridwidth": 2,
            "linecolor": "white",
            "showbackground": true,
            "ticks": "",
            "zerolinecolor": "white"
           },
           "zaxis": {
            "backgroundcolor": "#E5ECF6",
            "gridcolor": "white",
            "gridwidth": 2,
            "linecolor": "white",
            "showbackground": true,
            "ticks": "",
            "zerolinecolor": "white"
           }
          },
          "shapedefaults": {
           "line": {
            "color": "#2a3f5f"
           }
          },
          "ternary": {
           "aaxis": {
            "gridcolor": "white",
            "linecolor": "white",
            "ticks": ""
           },
           "baxis": {
            "gridcolor": "white",
            "linecolor": "white",
            "ticks": ""
           },
           "bgcolor": "#E5ECF6",
           "caxis": {
            "gridcolor": "white",
            "linecolor": "white",
            "ticks": ""
           }
          },
          "title": {
           "x": 0.05
          },
          "xaxis": {
           "automargin": true,
           "gridcolor": "white",
           "linecolor": "white",
           "ticks": "",
           "title": {
            "standoff": 15
           },
           "zerolinecolor": "white",
           "zerolinewidth": 2
          },
          "yaxis": {
           "automargin": true,
           "gridcolor": "white",
           "linecolor": "white",
           "ticks": "",
           "title": {
            "standoff": 15
           },
           "zerolinecolor": "white",
           "zerolinewidth": 2
          }
         }
        },
        "xaxis": {
         "anchor": "y",
         "domain": [
          0,
          1
         ],
         "title": {
          "text": "timestamp"
         }
        },
        "yaxis": {
         "anchor": "x",
         "domain": [
          0,
          1
         ],
         "title": {
          "text": "count"
         }
        }
       }
      }
     },
     "metadata": {},
     "output_type": "display_data"
    }
   ],
   "source": [
    "import plotly.express as px\n",
    "fig = px.scatter(frame, x=\"timestamp\", y=\"count\", color=\"sessionId\", hover_data=[ 'topic', 'experimentName'])\n",
    "fig.show()"
   ]
  },
  {
   "cell_type": "code",
   "execution_count": 119,
   "metadata": {},
   "outputs": [],
   "source": [
    "rec_frame['count'] = 1\n"
   ]
  },
  {
   "cell_type": "code",
   "execution_count": 134,
   "metadata": {},
   "outputs": [
    {
     "data": {
      "text/plain": [
       "Index(['_id', 'timestamp', 'video_timeline_number', 'video_title', 'keywords',\n",
       "       'keyword_count', 'sessionId', 'experimentName', 'videoId',\n",
       "       'relativePublishTime', 'videoCreator', 'videoDescription',\n",
       "       'videoLength', 'videoViewsText', 'count', 'DATA_TYPE'],\n",
       "      dtype='object')"
      ]
     },
     "execution_count": 134,
     "metadata": {},
     "output_type": "execute_result"
    }
   ],
   "source": [
    "rec_frame.columns"
   ]
  },
  {
   "cell_type": "code",
   "execution_count": 136,
   "metadata": {},
   "outputs": [
    {
     "data": {
      "text/plain": [
       "0        NaN\n",
       "1        NaN\n",
       "2        NaN\n",
       "3        NaN\n",
       "4        NaN\n",
       "       ...  \n",
       "374     6:20\n",
       "375    46:18\n",
       "376      NaN\n",
       "377      NaN\n",
       "378     3:04\n",
       "Name: videoLength, Length: 379, dtype: object"
      ]
     },
     "execution_count": 136,
     "metadata": {},
     "output_type": "execute_result"
    }
   ],
   "source": [
    "# convert minutes to seconds \n",
    "rec_frame['videoLength']"
   ]
  },
  {
   "cell_type": "code",
   "execution_count": 135,
   "metadata": {},
   "outputs": [
    {
     "data": {
      "application/vnd.plotly.v1+json": {
       "config": {
        "plotlyServerURL": "https://plot.ly"
       },
       "data": [
        {
         "customdata": [
          [
           [
            "BHS",
            "BCCHS",
            "Birmingham High School",
            "Birmingham Community Charter",
            "musical",
            "Nightmare Before Christmas",
            "play",
            "production",
            "theater",
            "drama",
            "choir",
            "chorus",
            "chamber singers",
            "David Weiss",
            "Michael Suffolk",
            "2013"
           ]
          ],
          [
           [
            "Nightmare Before Christmas",
            "Live",
            "Jack's Lament",
            "jack skellington",
            "broadway",
            "halloween",
            "NmBC",
            "jack skellington live",
            "nightmare before xmas live",
            "danny elfman",
            "tim burton",
            "matthew patrick davis"
           ]
          ],
          [
           [
            "lego stop motion",
            "lego stop motion animation",
            "lego stop motion commercial",
            "lego stop motion minecraft",
            "lego stop motion minecraft adventures",
            "stop motion kid videos",
            "stop motion kids",
            "stop motion lego",
            "stop motion lego minecraft",
            "lego minecraft ender dragon stop motion",
            "lego minecraft mountain cave stop motion",
            "lego minecraft stop motion movie",
            "lego minecraft the bedrock adventures stop motion",
            "lego power miners stop motion",
            "funny lego",
            "animation",
            "brick",
            "brick film",
            "stopmotion"
           ]
          ],
          [
           [
            "Batman",
            "Danny",
            "Elfman"
           ]
          ],
          [
           [
            "Tim",
            "Burton",
            "The Nightmare Before Christmas",
            "Jack",
            "Skellington",
            "Danny",
            "Elfman",
            "Halloween",
            "Town",
            "The",
            "Nightmare",
            "before",
            "christmas",
            "night",
            "oogie",
            "boogie",
            "rack",
            "shack",
            "barrel",
            "and",
            "kidnap",
            "the",
            "sandy",
            "claws",
            "santa",
            "claus",
            "spiritedaway0tutu",
            "luckymasie"
           ]
          ],
          [
           [
            "skiing",
            "Italy",
            "Val di Fiemme",
            "Predazzo",
            "Obereggen",
            "Pampeago",
            "Bellamonte",
            "Alpe Lusia",
            "ski",
            "2018",
            "sony",
            "as200v",
            "action cam",
            "feiyutech",
            "feiyutech g4",
            "Moena",
            "ski trip",
            "vacation",
            "mountain",
            "60fps",
            "snow",
            "ski slope",
            "Dolomites",
            "winter"
           ]
          ],
          [
           [
            "video",
            "sharing",
            "camera phone",
            "video phone",
            "free",
            "upload"
           ]
          ],
          [
           [
            "Harvard T.H. Chan School of Public Health",
            "HSPH",
            "Public Health",
            "Harvard",
            "Marc Lipsitch"
           ]
          ]
         ],
         "hovertemplate": "sessionId=373f0ebc-a879-4535-b6c3-27220dd9f046<br>timestamp=%{x}<br>videoLength=%{y}<br>keywords=%{customdata[0]}<extra></extra>",
         "legendgroup": "373f0ebc-a879-4535-b6c3-27220dd9f046",
         "marker": {
          "color": "#636efa",
          "symbol": "circle"
         },
         "mode": "markers",
         "name": "373f0ebc-a879-4535-b6c3-27220dd9f046",
         "orientation": "v",
         "showlegend": true,
         "type": "scatter",
         "x": [
          "2021/09/09T20:35:38",
          "2021/09/09T20:35:39",
          "2021/09/09T20:35:39",
          "2021/09/09T20:35:40",
          "2021/09/09T20:35:41",
          "2021/09/09T20:35:41",
          "2021/09/09T20:35:41",
          "2021/09/09T20:35:42"
         ],
         "xaxis": "x",
         "y": [
          null,
          null,
          null,
          null,
          null,
          null,
          null,
          null
         ],
         "yaxis": "y"
        },
        {
         "customdata": [
          [
           [
            "DU Recorder"
           ]
          ],
          [
           [
            "Nightmare Before Christmas",
            "Live",
            "Jack's Lament",
            "jack skellington",
            "broadway",
            "halloween",
            "NmBC",
            "jack skellington live",
            "nightmare before xmas live",
            "danny elfman",
            "tim burton",
            "matthew patrick davis"
           ]
          ],
          [
           [
            "video",
            "sharing",
            "camera phone",
            "video phone",
            "free",
            "upload"
           ]
          ],
          [
           [
            "Batman",
            "Danny",
            "Elfman"
           ]
          ],
          [
           [
            "lego stop motion animation",
            "lego stop motion animation movies",
            "lego stop motion animation tips and tricks",
            "lego stop motion animation tutorial",
            "lego stop motion animation videos",
            "lego stop motion",
            "lego stop motion movie",
            "lego stop motion tutorial",
            "lego minecraft stop motion animation",
            "stop motion",
            "lego minecraft stop motion",
            "lego minecraft stop motion creepers",
            "lego minecraft stop motion mini movie",
            "lego minecraft stop motion movie",
            "animation",
            "lego minecraft",
            "brick film",
            "brickfilm"
           ]
          ],
          [
           [
            "skiing",
            "Italy",
            "Val di Fiemme",
            "Predazzo",
            "Obereggen",
            "Pampeago",
            "Bellamonte",
            "Alpe Lusia",
            "ski",
            "2018",
            "sony",
            "as200v",
            "action cam",
            "feiyutech",
            "feiyutech g4",
            "Moena",
            "ski trip",
            "vacation",
            "mountain",
            "60fps",
            "snow",
            "ski slope",
            "Dolomites",
            "winter"
           ]
          ],
          [
           [
            "The",
            "Nightmare",
            "Before",
            "Christmas",
            "Tim",
            "Burton",
            "Danny",
            "Elfman",
            "Jack",
            "Skellington",
            "Halloween",
            "Holidays",
            "Sally",
            "Soundtrack",
            "Black",
            "cat",
            "HD",
            "HQ",
            "spiritedaway0tutu"
           ]
          ],
          [
           [
            "video",
            "sharing",
            "camera phone",
            "video phone",
            "free",
            "upload"
           ]
          ],
          [
           [
            "Music",
            "Nightmare Before Christmas",
            "3D",
            "Minecraft",
            "The Nightmare Before Christmas (Film)",
            "Animation",
            "Instrumental",
            "Minecraft Animation",
            "This is Halloween",
            "Herobrine",
            "Special",
            "YouTube Animation",
            "Song",
            "Jack Skellington",
            "Cover",
            "Animation Channel",
            "Parody",
            "Halloween",
            "Music Video",
            "Minecraft songs"
           ]
          ],
          [
           [
            "Nightmare Before Christmas",
            "Live",
            "Jack's Lament",
            "jack skellington",
            "broadway",
            "halloween",
            "NmBC",
            "jack skellington live",
            "nightmare before xmas live",
            "danny elfman",
            "tim burton",
            "matthew patrick davis"
           ]
          ],
          [
           [
            "Beetlejuice",
            "Critter",
            "Sitters",
            "Clip",
            "Lydia",
            "Deetz",
            "Summoning",
            "Cartoon",
            "Tim",
            "Burton",
            "80's",
            "Pilot"
           ]
          ],
          [
           [
            "Batman",
            "Danny",
            "Elfman"
           ]
          ],
          [
           [
            "LEGO",
            "LEGOS",
            "LEGO sets",
            "LEGO build",
            "LEGO make",
            "LEGO animation",
            "LEGO series"
           ]
          ],
          [
           [
            "Tim",
            "Burton",
            "The Nightmare Before Christmas",
            "Jack",
            "Skellington",
            "Danny",
            "Elfman",
            "Halloween",
            "Town",
            "The",
            "Nightmare",
            "before",
            "christmas",
            "night",
            "oogie",
            "boogie",
            "rack",
            "shack",
            "barrel",
            "and",
            "kidnap",
            "the",
            "sandy",
            "claws",
            "santa",
            "claus",
            "spiritedaway0tutu",
            "luckymasie"
           ]
          ],
          [
           [
            "video",
            "sharing",
            "camera phone",
            "video phone",
            "free",
            "upload"
           ]
          ],
          [
           [
            "skiing",
            "ski",
            "POV",
            "Bellamonte",
            "Italy",
            "2016",
            "Alpe Lusia",
            "action cam",
            "Sony",
            "AS200V",
            "sony action cam",
            "Piste Lasté",
            "red slope",
            "ski slope",
            "60fps"
           ]
          ],
          [
           [
            "exxperior",
            "this",
            "is",
            "halloween",
            "sort",
            "of",
            "weird",
            "music",
            "video",
            "thrash",
            "metal",
            "version",
            "nighmare",
            "before",
            "christmas",
            "cover",
            "Rocky",
            "School",
            "Thrash Metal (Musical Genre)",
            "tim",
            "burton",
            "music danny elfman",
            "danny elfman metal",
            "frankenweenie",
            "frankenweene",
            "sweeney todd",
            "singer show",
            "just awesome",
            "quite good"
           ]
          ],
          [
           [
            "Nightmare Before Christmas",
            "Live",
            "Jack's Lament",
            "jack skellington",
            "broadway",
            "halloween",
            "NmBC",
            "jack skellington live",
            "nightmare before xmas live",
            "danny elfman",
            "tim burton",
            "matthew patrick davis"
           ]
          ],
          [
           [
            "Sing 2 Official Trailer 2021",
            "Sing 2 Official Trailer",
            "Sing 2 Trailer",
            "Sing 2 Trailer 2021",
            "Sing 2",
            "Sing 2 2021",
            "Sing",
            "Buster Moon",
            "reclusive rock star",
            "Clay Calloway",
            "Matthew McConaughey",
            "Johnny",
            "Taron Egerton",
            "Meena",
            "Tori Kelly",
            "Rosita",
            "Reese Witherspoon",
            "Gunter",
            "Nick Kroll",
            "Ash",
            "Scarlett Johansson",
            "Joblo Animated Videos"
           ]
          ],
          [
           [
            "The",
            "Nightmare",
            "Before",
            "Christmas",
            "Tim",
            "Burton",
            "Henry",
            "Selick",
            "Danny",
            "Elfman",
            "Pete",
            "Kozachik",
            "Stan",
            "Webb",
            "Caroline",
            "Thompson",
            "Jack",
            "Skellington",
            "Catherine",
            "O'Hara",
            "Sally",
            "Love",
            "Marriage",
            "Togetherness"
           ]
          ],
          [
           [
            "Nightmare Before Christmas",
            "Live",
            "Jack's Lament",
            "jack skellington",
            "broadway",
            "halloween",
            "NmBC",
            "jack skellington live",
            "nightmare before xmas live",
            "danny elfman",
            "tim burton",
            "matthew patrick davis"
           ]
          ],
          [
           [
            "LEGO",
            "LEGO 2016",
            "LEGO Toys",
            "LEGO Group",
            "Legos",
            "Lego 2015",
            "Official Lego",
            "New LEGO",
            "lego minecraft",
            "minecraft",
            "new minecraft sets",
            "steve",
            "zombie",
            "zombies",
            "creeper",
            "creepers",
            "gollum",
            "minecraft game",
            "minecraft sets",
            "designer video",
            "lego designer",
            "unboxing",
            "alex",
            "skeleton",
            "ocelot",
            "sheep",
            "farming",
            "enderman",
            "golem",
            "iron golem",
            "the village",
            "villager",
            "Cosy Cottage",
            "minecraft classic tales",
            "fans",
            "minecraft story"
           ]
          ],
          [
           [
            "Batman",
            "Danny",
            "Elfman"
           ]
          ],
          [
           [
            "The Nightmare Before Christmas (Film)",
            "Song",
            "Lyrics",
            "Entertainment",
            "Animation",
            "Film",
            "Movie",
            "Disney",
            "Oogie Boogie's Song",
            "Henry Selick (Film Writer)"
           ]
          ],
          [
           [
            "Nightmare Before Christmas",
            "Live",
            "Jack's Lament",
            "jack skellington",
            "broadway",
            "halloween",
            "NmBC",
            "jack skellington live",
            "nightmare before xmas live",
            "danny elfman",
            "tim burton",
            "matthew patrick davis"
           ]
          ],
          [
           [
            "video",
            "sharing",
            "camera phone",
            "video phone",
            "free",
            "upload"
           ]
          ],
          [
           [
            "Nightmare Before Christmas",
            "Live",
            "Jack's Lament",
            "jack skellington",
            "broadway",
            "halloween",
            "NmBC",
            "jack skellington live",
            "nightmare before xmas live",
            "danny elfman",
            "tim burton",
            "matthew patrick davis"
           ]
          ],
          [
           [
            "Thin",
            "Red",
            "Line",
            "Hans",
            "Zimmer"
           ]
          ],
          [
           [
            "Coraline",
            "Movie",
            "HD",
            "Animations",
            "Animation",
            "FullMovie",
            "coraline full movie",
            "coraline full movie english",
            "full movie animation",
            "full movie english",
            "coraline full movie 1080p",
            "coraline full movie hd",
            "coraline full movie free",
            "coraline full movie 2",
            "coraline full movie english hd",
            "coraline full movie coraline jones",
            "coraline other mother",
            "coraline doll",
            "coraline theory",
            "coraline",
            "laika studios",
            "laika",
            "coraline song",
            "other mother",
            "coraline 2",
            "coraline soundtrack",
            "coraline movie"
           ]
          ],
          [
           [
            "The",
            "Nightmare",
            "Before",
            "Christmas",
            "Tim",
            "Burton",
            "Danny",
            "Elfman",
            "Jack",
            "Skellington",
            "Halloween",
            "Holidays",
            "Sally",
            "Soundtrack",
            "Black",
            "cat",
            "HD",
            "HQ",
            "spiritedaway0tutu"
           ]
          ],
          [
           [
            "LEGO",
            "LEGOS",
            "LEGO sets",
            "LEGO build",
            "LEGO make",
            "LEGO animation",
            "LEGO series",
            "LEGO Designer video",
            "designer video",
            "bonsai tree",
            "botanical collection",
            "10281",
            "mindfulness",
            "relax",
            "relaxing",
            "lego designers",
            "lego tree",
            "lego how to build tree",
            "lego blossom",
            "nico vas",
            "carl merriam",
            "bonsai tree lego"
           ]
          ],
          [
           [
            "video",
            "sharing",
            "camera phone",
            "video phone",
            "free",
            "upload"
           ]
          ],
          [
           [
            "Batman",
            "Danny",
            "Elfman"
           ]
          ],
          [
           [
            "Nirvana",
            "Polly",
            "(MTV",
            "Unplugged)",
            "(Live",
            "MTV",
            "Unplugged",
            "1993)",
            "Universal",
            "Music",
            "Group",
            "Rock",
            "NIRVANA POLLY",
            "POLLY NIRVANA",
            "kurt cobain",
            "krist novoselic",
            "dave grohl",
            "dave grohl NIRVANA",
            "NIRVANA dave grohl",
            "POLLY remastered",
            "POLLY remastered video",
            "NIRVANA remastered",
            "NIRVANA remastered videos",
            "remastered music videos",
            "kurt cobain NIRVANA",
            "POLLY NIRVANA official music video",
            "NIRVANA music video",
            "NIRVANA official music video hd",
            "NIRVANA hd"
           ]
          ],
          [
           [
            "Coraline",
            "Movie",
            "HD",
            "Animations",
            "Animation",
            "FullMovie",
            "coraline full movie",
            "coraline full movie english",
            "full movie animation",
            "full movie english",
            "coraline full movie 1080p",
            "coraline full movie hd",
            "coraline full movie free",
            "coraline full movie 2",
            "coraline full movie english hd",
            "coraline full movie coraline jones",
            "coraline other mother",
            "coraline doll",
            "coraline theory",
            "coraline",
            "laika studios",
            "laika",
            "coraline song",
            "other mother",
            "coraline 2",
            "coraline soundtrack",
            "coraline movie"
           ]
          ],
          [
           [
            "the",
            "nightmare",
            "before",
            "christmas",
            "tim",
            "burton",
            "soundtrack",
            "danny",
            "elfman",
            "orchestra"
           ]
          ],
          [
           [
            "LEGO",
            "LEGOS",
            "LEGO sets",
            "LEGO build",
            "LEGO make",
            "LEGO animation",
            "LEGO series",
            "LEGO Designer video",
            "designer video",
            "bonsai tree",
            "botanical collection",
            "10281",
            "mindfulness",
            "relax",
            "relaxing",
            "lego designers",
            "lego tree",
            "lego how to build tree",
            "lego blossom",
            "nico vas",
            "carl merriam",
            "bonsai tree lego"
           ]
          ],
          [
           [
            "Batman",
            "Danny",
            "Elfman"
           ]
          ],
          [
           [
            "Coraline",
            "Movie",
            "HD",
            "Animations",
            "Animation",
            "FullMovie",
            "coraline full movie",
            "coraline full movie english",
            "full movie animation",
            "full movie english",
            "coraline full movie 1080p",
            "coraline full movie hd",
            "coraline full movie free",
            "coraline full movie 2",
            "coraline full movie english hd",
            "coraline full movie coraline jones",
            "coraline other mother",
            "coraline doll",
            "coraline theory",
            "coraline",
            "laika studios",
            "laika",
            "coraline song",
            "other mother",
            "coraline 2",
            "coraline soundtrack",
            "coraline movie"
           ]
          ],
          [
           [
            "the",
            "nightmare",
            "before",
            "christmas",
            "tim",
            "burton",
            "soundtrack",
            "danny",
            "elfman",
            "orchestra"
           ]
          ],
          [
           [
            "LEGO",
            "LEGOS",
            "LEGO sets",
            "LEGO build",
            "LEGO make",
            "LEGO animation",
            "LEGO series"
           ]
          ],
          [
           [
            "video",
            "sharing",
            "camera phone",
            "video phone",
            "free",
            "upload"
           ]
          ],
          [
           [
            "working with lemons",
            "frozen",
            "do you want to build a snowman",
            "For the First Time in Forever",
            "Frozen in real life",
            "mia bagley",
            "anna in real life",
            "lemonreds",
            "Anna",
            "elsa",
            "anna and elsa",
            "bloopers",
            "olaf",
            "disney",
            "let it go",
            "snowman",
            "disney's frozen",
            "cover",
            "live performance",
            "brizzy voices",
            "wanna",
            "little anna",
            "baby anna",
            "robbie bagley",
            "look a like",
            "jean bourne",
            "austin berenyi",
            "video",
            "mia",
            "arianna bagley",
            "music video"
           ]
          ],
          [
           [
            "Batman",
            "Danny",
            "Elfman"
           ]
          ],
          [
           [
            "The Addams Family Morning Routine",
            "The Addams Family Gomez",
            "The Addams Family Clip",
            "The Addams Family 2019",
            "The Addams Family Cartoon",
            "The Addams Family",
            "Addams Family",
            "Animation",
            "Comedy",
            "Family",
            "Family Entertainment",
            "Greg Tiernan",
            "MGM",
            "Joblo Animated Videos",
            "Gomez Addams",
            "Oscar Isaac",
            "Morticia Addams",
            "Charlize Theron",
            "Uncle Fester",
            "Nick Kroll",
            "Addams Wedding",
            "Morning Routine"
           ]
          ],
          [
           [
            "Nightmare Before Christmas",
            "Halloween",
            "LEGO",
            "Stop motion",
            "animation",
            "brickfilm",
            "Christmas",
            "stop-motion",
            "minifigures",
            "LEGO remake",
            "Christmas song",
            "Christmas music",
            "Halloween song",
            "Halloween music",
            "remake",
            "funny",
            "BB-8",
            "Joker",
            "Jack Skellington",
            "Lego minifigure",
            "Disney",
            "Tim Burton",
            "Danny Elfman",
            "This is Halloween",
            "LEGO movie",
            "LEGO stop motion",
            "LEGO brickfilm",
            "LEGO brick film",
            "brick film",
            "Pumpkin King",
            "Jack and Sally",
            "Oogie Boogie",
            "Tim Burton's The Nightmare Before Christmas"
           ]
          ],
          [
           [
            "Batman",
            "Danny",
            "Elfman"
           ]
          ],
          [
           [
            "video",
            "sharing",
            "camera phone",
            "video phone",
            "free",
            "upload"
           ]
          ],
          [
           [
            "nightmare",
            "before",
            "christmas",
            "performance",
            "jack",
            "skellingotn",
            "cosplay",
            "halloween"
           ]
          ],
          [
           [
            "LEGO",
            "LEGO 2016",
            "LEGO Toys",
            "LEGO Group",
            "Legos",
            "Lego 2015",
            "Official Lego",
            "New LEGO",
            "lego minecraft",
            "minecraft",
            "new minecraft sets",
            "steve",
            "zombie",
            "zombies",
            "creeper",
            "creepers",
            "gollum",
            "minecraft game",
            "minecraft sets",
            "designer video",
            "lego designer",
            "unboxing",
            "alex",
            "skeleton",
            "ocelot",
            "sheep",
            "farming",
            "enderman",
            "golem",
            "iron golem",
            "the village",
            "villager",
            "Cosy Cottage",
            "minecraft classic tales",
            "fans",
            "minecraft story"
           ]
          ],
          [
           [
            "Beetlejuice",
            "Critter",
            "Sitters",
            "Clip",
            "Lydia",
            "Deetz",
            "Summoning",
            "Cartoon",
            "Tim",
            "Burton",
            "80's",
            "Pilot"
           ]
          ],
          [
           [
            "The Nightmare Before Christmas (Film)",
            "Lyrics",
            "Song",
            "Entertainment",
            "Animation",
            "Film",
            "Movie",
            "Disney",
            "Kidnap the Sandy Claws",
            "Henry Selick (Film Writer)"
           ]
          ],
          [
           [
            "The Nightmare Before Christmas (Film)",
            "Deleted Scene (Special Film Performance Type)",
            "Film Score (Musical Genre)",
            "Animation (TV Genre)",
            "Short Film",
            "Danny Elfman (Composer)",
            "Tim Burton (Film Director)",
            "Composer (Profession)",
            "Soundtrack (Composition Type)",
            "Cinema",
            "Louisifer",
            "Micciullo",
            "Hyzenborg",
            "New Creature",
            "Fort Collins",
            "Film (Film)"
           ]
          ],
          [
           [
            "Sing",
            "Pig",
            "Rosita",
            "Günther",
            "Buster",
            "Moon",
            "Shake it off",
            "Taylor Swift",
            "animation",
            "movie",
            "watch",
            "online",
            "original",
            "song",
            "full HD",
            "60 fps",
            "despicable me"
           ]
          ],
          [
           [
            "the",
            "nightmare",
            "before",
            "christmas",
            "tim",
            "burton",
            "soundtrack",
            "danny",
            "elfman",
            "orchestra"
           ]
          ],
          [
           [
            "Beetlejuice",
            "Critter",
            "Sitters",
            "Clip",
            "Lydia",
            "Deetz",
            "Summoning",
            "Cartoon",
            "Tim",
            "Burton",
            "80's",
            "Pilot"
           ]
          ],
          [
           [
            "video",
            "sharing",
            "camera phone",
            "video phone",
            "free",
            "upload"
           ]
          ],
          [
           [
            "Nightmare Before Christmas",
            "Live",
            "Jack's Lament",
            "jack skellington",
            "broadway",
            "halloween",
            "NmBC",
            "jack skellington live",
            "nightmare before xmas live",
            "danny elfman",
            "tim burton",
            "matthew patrick davis"
           ]
          ],
          [
           [
            "lego stop motion",
            "lego stop motion animation",
            "lego stop motion commercial",
            "lego stop motion minecraft",
            "lego stop motion minecraft adventures",
            "stop motion kid videos",
            "stop motion kids",
            "stop motion lego",
            "stop motion lego minecraft",
            "lego minecraft ender dragon stop motion",
            "lego minecraft mountain cave stop motion",
            "lego minecraft stop motion movie",
            "lego minecraft the bedrock adventures stop motion",
            "lego power miners stop motion",
            "funny lego",
            "animation",
            "brick",
            "brick film",
            "stopmotion"
           ]
          ],
          [
           [
            "Beetlejuice",
            "Critter",
            "Sitters",
            "Clip",
            "Lydia",
            "Deetz",
            "Summoning",
            "Cartoon",
            "Tim",
            "Burton",
            "80's",
            "Pilot"
           ]
          ],
          [
           [
            "Nightmare",
            "Before",
            "Christmas",
            "Sally",
            "Oogie",
            "Boogie",
            "Finklestein",
            "All",
            "Parts",
            "Body",
            "Arm",
            "Leg",
            "Foot",
            "Tickle",
            "Sew",
            "Dismember",
            "Decoy",
            "Attract",
            "Attractive",
            "Seduce",
            "Seductive",
            "Scene",
            "Rag",
            "Doll"
           ]
          ],
          [
           [
            "The Nightmare Before Christmas (Film)",
            "Henry Selick (Film Writer)",
            "Song",
            "This Is Halloween (Composition)",
            "This is Halloween",
            "Entertainment",
            "Animation",
            "Film",
            "Movie",
            "Disney",
            "Lyrics"
           ]
          ],
          [
           [
            "the",
            "nightmare",
            "before",
            "christmas",
            "tim",
            "burton",
            "soundtrack",
            "danny",
            "elfman",
            "orchestra"
           ]
          ],
          [
           [
            "Thin",
            "Red",
            "Line",
            "Hans",
            "Zimmer"
           ]
          ],
          [
           [
            "The",
            "Nightmare",
            "Before",
            "Christmas",
            "Tim",
            "Burton",
            "Henry",
            "Selick",
            "Danny",
            "Elfman",
            "Pete",
            "Kozachik",
            "Stan",
            "Webb",
            "Caroline",
            "Thompson",
            "Jack",
            "Skellington",
            "Catherine",
            "O'Hara",
            "Sally",
            "Love",
            "Marriage",
            "Togetherness"
           ]
          ],
          [
           [
            "LEGO",
            "LEGO 2016",
            "LEGO Toys",
            "LEGO Group",
            "Legos",
            "Lego 2015",
            "Official Lego",
            "New LEGO",
            "lego minecraft",
            "minecraft",
            "new minecraft sets",
            "steve",
            "zombie",
            "zombies",
            "creeper",
            "creepers",
            "gollum",
            "minecraft game",
            "minecraft sets",
            "designer video",
            "lego designer",
            "unboxing",
            "alex",
            "skeleton",
            "ocelot",
            "sheep",
            "farming",
            "enderman",
            "golem",
            "iron golem",
            "the village",
            "villager",
            "Cosy Cottage",
            "minecraft classic tales",
            "fans",
            "minecraft story"
           ]
          ],
          [
           [
            "Batman",
            "Danny",
            "Elfman"
           ]
          ],
          [
           [
            "Nightmare",
            "Before",
            "Christmas",
            "Sally",
            "Oogie",
            "Boogie",
            "Finklestein",
            "All",
            "Parts",
            "Body",
            "Arm",
            "Leg",
            "Foot",
            "Tickle",
            "Sew",
            "Dismember",
            "Decoy",
            "Attract",
            "Attractive",
            "Seduce",
            "Seductive",
            "Scene",
            "Rag",
            "Doll"
           ]
          ],
          [
           [
            "ts",
            "ygaf"
           ]
          ],
          [
           [
            "Beetlejuice",
            "Critter",
            "Sitters",
            "Clip",
            "Lydia",
            "Deetz",
            "Summoning",
            "Cartoon",
            "Tim",
            "Burton",
            "80's",
            "Pilot"
           ]
          ],
          [
           [
            "video",
            "sharing",
            "camera phone",
            "video phone",
            "free",
            "upload"
           ]
          ],
          [
           [
            "Nightmare Before Christmas",
            "Live",
            "Jack's Lament",
            "jack skellington",
            "broadway",
            "halloween",
            "NmBC",
            "jack skellington live",
            "nightmare before xmas live",
            "danny elfman",
            "tim burton",
            "matthew patrick davis"
           ]
          ],
          [
           [
            "THE NIGHTMARE BEFORE CHRISTMAS",
            "what did santa bring",
            "the nightmare before christmas presents",
            "the nightmare before christmas police",
            "this is halloween",
            "the nightmare before christmas clip",
            "jack skellington",
            "halloween",
            "halloween movies",
            "tim burton movies",
            "disney halloween",
            "christmas",
            "tim burton",
            "halloween movies for kids",
            "stop motion animation",
            "nightmare",
            "halloween cartoons",
            "joblo",
            "joblo animated videos",
            "animation",
            "family",
            "fantasy"
           ]
          ],
          [
           [
            "Batman",
            "Danny",
            "Elfman"
           ]
          ],
          [
           [
            "Nirvana",
            "GEFFEN",
            "Rock",
            "remastered",
            "Nirvana smells like teen spirit",
            "smells like teen spirit nirvana",
            "kurt cobain",
            "krist novoselic",
            "dave grohl",
            "dave grohl nirvana",
            "smells like teen spirit remastered",
            "smells like teen spirit remastered video",
            "nirvana remastered",
            "nirvana remastered videos",
            "kurt cobain nirvana",
            "smells like teen spirit nirvana official music video",
            "nirvana music video",
            "nirvana official music video hd",
            "nirvana hd",
            "nevermind"
           ]
          ],
          [
           [
            "video",
            "sharing",
            "camera phone",
            "video phone",
            "free",
            "upload"
           ]
          ],
          [
           [
            "Universal",
            "Coraline",
            "Henry Selick",
            "Keith David",
            "Dakota Fanning",
            "Teri Hatcher",
            "Dawn French",
            "Jennifer Saunders",
            "stop motion",
            "coraline trailer",
            "animated",
            "animation",
            "halloween",
            "laika",
            "family",
            "kids",
            "children"
           ]
          ],
          [
           [
            "Nightmare Before Christmas",
            "Live",
            "Jack's Lament",
            "jack skellington",
            "broadway",
            "halloween",
            "NmBC",
            "jack skellington live",
            "nightmare before xmas live",
            "danny elfman",
            "tim burton",
            "matthew patrick davis"
           ]
          ],
          [
           [
            "The Nightmare Before Christmas (Film)",
            "Lyrics",
            "Song",
            "Henry Selick (Film Writer)",
            "Movie",
            "Film",
            "Animation",
            "Entertainment",
            "Poor Jack",
            "Disney"
           ]
          ],
          [
           [
            "Beetlejuice",
            "Critter",
            "Sitters",
            "Clip",
            "Lydia",
            "Deetz",
            "Summoning",
            "Cartoon",
            "Tim",
            "Burton",
            "80's",
            "Pilot"
           ]
          ]
         ],
         "hovertemplate": "sessionId=d85a129f-0fbd-4f9a-8b55-b25272942b70<br>timestamp=%{x}<br>videoLength=%{y}<br>keywords=%{customdata[0]}<extra></extra>",
         "legendgroup": "d85a129f-0fbd-4f9a-8b55-b25272942b70",
         "marker": {
          "color": "#EF553B",
          "symbol": "circle"
         },
         "mode": "markers",
         "name": "d85a129f-0fbd-4f9a-8b55-b25272942b70",
         "orientation": "v",
         "showlegend": true,
         "type": "scatter",
         "x": [
          "2021/09/09T20:44:29",
          "2021/09/09T20:44:29",
          "2021/09/09T20:44:30",
          "2021/09/09T20:44:30",
          "2021/09/09T20:44:31",
          "2021/09/09T20:44:31",
          "2021/09/09T20:44:32",
          "2021/09/09T20:44:32",
          "2021/09/09T20:54:50",
          "2021/09/09T20:54:50",
          "2021/09/09T20:54:51",
          "2021/09/09T20:54:51",
          "2021/09/09T20:54:52",
          "2021/09/09T20:54:52",
          "2021/09/09T20:54:53",
          "2021/09/09T20:54:54",
          "2021/09/09T21:04:52",
          "2021/09/09T21:04:52",
          "2021/09/09T21:04:54",
          "2021/09/09T21:14:54",
          "2021/09/09T21:14:54",
          "2021/09/09T21:14:55",
          "2021/09/09T21:25:00",
          "2021/09/09T21:25:01",
          "2021/09/09T21:25:02",
          "2021/09/09T21:34:59",
          "2021/09/09T21:34:59",
          "2021/09/09T21:35:00",
          "2021/09/09T21:44:59",
          "2021/09/09T21:44:59",
          "2021/09/09T21:45:00",
          "2021/09/09T21:54:59",
          "2021/09/09T21:54:59",
          "2021/09/09T21:55:00",
          "2021/09/09T22:04:59",
          "2021/09/09T22:05:00",
          "2021/09/09T22:05:00",
          "2021/09/09T22:05:01",
          "2021/09/09T22:14:59",
          "2021/09/09T22:14:59",
          "2021/09/09T22:15:00",
          "2021/09/09T22:24:59",
          "2021/09/09T22:25:00",
          "2021/09/09T22:25:00",
          "2021/09/09T22:25:01",
          "2021/09/09T22:34:59",
          "2021/09/09T22:35:00",
          "2021/09/09T22:35:00",
          "2021/09/09T22:44:59",
          "2021/09/09T22:45:00",
          "2021/09/09T22:45:00",
          "2021/09/09T22:45:01",
          "2021/09/09T22:54:59",
          "2021/09/09T22:55:00",
          "2021/09/09T22:55:00",
          "2021/09/09T22:55:01",
          "2021/09/09T23:05:00",
          "2021/09/09T23:05:01",
          "2021/09/09T23:05:01",
          "2021/09/09T23:05:02",
          "2021/09/09T23:05:03",
          "2021/09/09T23:05:03",
          "2021/09/09T23:05:04",
          "2021/09/09T23:05:05",
          "2021/09/09T23:15:00",
          "2021/09/09T23:15:00",
          "2021/09/09T23:15:01",
          "2021/09/09T23:15:02",
          "2021/09/09T23:15:03",
          "2021/09/09T23:15:03",
          "2021/09/09T23:15:03",
          "2021/09/09T23:15:04",
          "2021/09/09T23:25:00",
          "2021/09/09T23:25:01",
          "2021/09/09T23:25:02",
          "2021/09/09T23:25:02",
          "2021/09/09T23:25:03",
          "2021/09/09T23:25:03",
          "2021/09/09T23:25:04",
          "2021/09/09T23:25:05"
         ],
         "xaxis": "x",
         "y": [
          null,
          null,
          null,
          null,
          null,
          null,
          null,
          null,
          null,
          null,
          null,
          null,
          null,
          null,
          null,
          null,
          null,
          null,
          null,
          null,
          null,
          null,
          null,
          null,
          null,
          null,
          null,
          null,
          null,
          null,
          null,
          null,
          null,
          null,
          null,
          null,
          null,
          null,
          null,
          null,
          null,
          null,
          null,
          null,
          null,
          null,
          null,
          null,
          null,
          null,
          null,
          null,
          null,
          null,
          null,
          null,
          null,
          null,
          null,
          null,
          null,
          null,
          null,
          null,
          null,
          null,
          null,
          null,
          null,
          null,
          null,
          null,
          null,
          null,
          null,
          null,
          null,
          null,
          null,
          null
         ],
         "yaxis": "y"
        },
        {
         "customdata": [
          [
           [
            "Tim",
            "Burton",
            "The Nightmare Before Christmas",
            "Jack",
            "Skellington",
            "Danny",
            "Elfman",
            "Halloween",
            "Town",
            "The",
            "Nightmare",
            "before",
            "christmas",
            "night",
            "oogie",
            "boogie",
            "rack",
            "shack",
            "barrel",
            "and",
            "kidnap",
            "the",
            "sandy",
            "claws",
            "santa",
            "claus",
            "spiritedaway0tutu",
            "luckymasie"
           ]
          ],
          [
           [
            "house projection mapping",
            "house projection mapping tutorial",
            "halloween projection",
            "projector halloween",
            "projection mapping",
            "video mappings",
            "holiday projection",
            "halloween video projection",
            "3d projection mapping",
            "halloween house projection",
            "digital decorations halloween",
            "projector halloween decorations",
            "digital decoration",
            "3d video mapping",
            "building projection",
            "after effects projection mapping",
            "house projection",
            "digital halloween decorations",
            "digital decorations christmas"
           ]
          ],
          [
           [
            "corpse bride full movie",
            "corpse bride piano",
            "corpse bride soundtrack",
            "corpse bride song",
            "corpse bride piano duet",
            "corpse bride ending",
            "corpse bride trailer",
            "corpse bride makeup",
            "corpse bride a wedding",
            "corpse bride analysis",
            "a corpse bride song",
            "a corpse bride trailer",
            "corpse bride barkis death",
            "corpse bride beginning",
            "corpse bride best scenes",
            "corpse bride bts",
            "full movie",
            "Corpse Bride",
            "Hd Movie",
            "free movie",
            "ölü gelin"
           ]
          ],
          [
           [
            "The",
            "Nightmare",
            "Before",
            "Christmas",
            "Tim",
            "Burton",
            "Danny",
            "Elfman",
            "Stop",
            "Motion",
            "Halloween",
            "Holidays",
            "This",
            "Is",
            "HQ",
            "HD",
            "BluRay",
            "spiritedaway0tutu",
            "luckymasie"
           ]
          ],
          [
           [
            "C++ tutorial",
            "C++ programming tutorial",
            "learn C++",
            "C++ language tutorial",
            "learn C++ programming",
            "learn C++ language",
            "C++ tutorial for beginners",
            "C++ programming tutorials",
            "how to learn C++ language",
            "how to learn C++",
            "c++ programming",
            "c++",
            "c++ basics",
            "c++ language",
            "c++ tutorials",
            "c++ for beginners",
            "C++ Tutorials From Basic to Advance",
            "c++ tutorials complete",
            "c++ video tutorial",
            "c++ programming tutorial complete",
            "c++ programming tutorial for beginners",
            "c plus plus"
           ]
          ],
          [
           [
            "Coraline",
            "Movie",
            "HD",
            "Animations",
            "Animation",
            "FullMovie",
            "coraline full movie",
            "coraline full movie english",
            "full movie animation",
            "full movie english",
            "coraline full movie 1080p",
            "coraline full movie hd",
            "coraline full movie free",
            "coraline full movie 2",
            "coraline full movie english hd",
            "coraline full movie coraline jones",
            "coraline other mother",
            "coraline doll",
            "coraline theory",
            "coraline",
            "laika studios",
            "laika",
            "coraline song",
            "other mother",
            "coraline 2",
            "coraline soundtrack",
            "coraline movie"
           ]
          ],
          [
           [
            "Nightmare",
            "Before",
            "Christmas",
            "Sally",
            "Oogie",
            "Boogie",
            "Finklestein",
            "All",
            "Parts",
            "Body",
            "Arm",
            "Leg",
            "Foot",
            "Tickle",
            "Sew",
            "Dismember",
            "Decoy",
            "Attract",
            "Attractive",
            "Seduce",
            "Seductive",
            "Scene",
            "Rag",
            "Doll"
           ]
          ],
          [
           [
            "metal",
            "gear",
            "solid",
            "die",
            "another",
            "day",
            "snake"
           ]
          ],
          [
           [
            "video",
            "sharing",
            "camera phone",
            "video phone",
            "free",
            "upload"
           ]
          ],
          [
           [
            "nightmare",
            "before",
            "christmas",
            "opening"
           ]
          ],
          [
           [
            "video",
            "sharing",
            "camera phone",
            "video phone",
            "free",
            "upload"
           ]
          ],
          [
           [
            "THE NIGHTMARE BEFORE CHRISTMAS",
            "the nightmare before christmas saving santa",
            "the nightmare before christmas clip",
            "this is halloween",
            "the nightmare before christmas 1993",
            "the nightmare before christmas full movie",
            "jack skellington",
            "halloween",
            "halloween movies for kids",
            "halloween movies",
            "tim burton movies",
            "nightmare",
            "disney halloween",
            "christmas",
            "tim burton",
            "stop motion animation",
            "halloween cartoons",
            "joblo",
            "joblo animated videos",
            "Animation",
            "Family",
            "Fantasy",
            "santa",
            "sally"
           ]
          ],
          [
           [
            "halloween",
            "spooky",
            "hocus pocus",
            "come little children",
            "creepy",
            "cemetery",
            "cover",
            "sarah's theme",
            "trick or treat",
            "all hallows eve",
            "duet",
            "cosplay",
            "costumes"
           ]
          ],
          [
           [
            "video",
            "sharing",
            "camera phone",
            "video phone",
            "free",
            "upload"
           ]
          ],
          [
           [
            "jack skellington",
            "the nightmare before christmas",
            "jack skellington evolution",
            "the nightmare before christmas evolution",
            "evolution of jack skellington",
            "evolution of the nightmare before christmas",
            "jack skeleton",
            "jack skellington games",
            "the nightmare before christmas games",
            "the nightmare before christmas songs",
            "chrismas games",
            "christmas movies",
            "grinch",
            "how grinch stole christmas",
            "home alone",
            "rudolph red nosed reindeer",
            "santa claus"
           ]
          ],
          [
           [
            "Griffin",
            "Family Guy",
            "Tim Burton",
            "Halloween",
            "Nightmare before Christmas",
            "Nightmare",
            "Clip Griffin",
            "Griffin Italiano",
            "risate",
            "epic moment",
            "parodia griffin",
            "Jack Skeletron",
            "4 july",
            "4 luglio",
            "nato il 4 luglio"
           ]
          ],
          [
           [
            "Tim Burton's Corpse Bride Soundtrack-Danny Elfman",
            "Tim Burton's Corpse Bride Original Motion Picture Soundtrack",
            "Remains of the Day"
           ]
          ],
          [
           [
            "casper",
            "casper the ghost",
            "casper the friendly ghost",
            "casper's scare school",
            "casper scare school",
            "casper's haunted christmas",
            "casper's scare school full episodes",
            "casper christmas",
            "kasper",
            "casper full episodes",
            "Casper Classics Full Episodes",
            "cartoons for kids",
            "halloween",
            "halloween for kids",
            "casper movie",
            "casper cartoon",
            "scare school",
            "casper the friendly ghost theme song",
            "casper the friendly ghost movie"
           ]
          ],
          [
           [
            "Nightmare",
            "Before",
            "Christmas",
            "Sally",
            "Oogie",
            "Boogie",
            "Finklestein",
            "All",
            "Parts",
            "Body",
            "Arm",
            "Leg",
            "Foot",
            "Tickle",
            "Sew",
            "Dismember",
            "Decoy",
            "Attract",
            "Attractive",
            "Seduce",
            "Seductive",
            "Scene",
            "Rag",
            "Doll"
           ]
          ],
          [
           [
            "Tim",
            "Burton",
            "The Nightmare Before Christmas",
            "Jack",
            "Skellington",
            "Danny",
            "Elfman",
            "Halloween",
            "Town",
            "The",
            "Nightmare",
            "before",
            "christmas",
            "night",
            "oogie",
            "boogie",
            "rack",
            "shack",
            "barrel",
            "and",
            "kidnap",
            "the",
            "sandy",
            "claws",
            "santa",
            "claus",
            "spiritedaway0tutu",
            "luckymasie"
           ]
          ],
          [
           [
            "video",
            "sharing",
            "camera phone",
            "video phone",
            "free",
            "upload"
           ]
          ],
          [
           [
            "corpse bride full movie",
            "corpse bride piano",
            "corpse bride soundtrack",
            "corpse bride song",
            "corpse bride piano duet",
            "corpse bride ending",
            "corpse bride trailer",
            "corpse bride makeup",
            "corpse bride a wedding",
            "corpse bride analysis",
            "a corpse bride song",
            "a corpse bride trailer",
            "corpse bride barkis death",
            "corpse bride beginning",
            "corpse bride best scenes",
            "corpse bride bts",
            "full movie",
            "Corpse Bride",
            "Hd Movie",
            "free movie",
            "ölü gelin"
           ]
          ],
          [
           [
            "jack skellington",
            "the nightmare before christmas",
            "jack skellington evolution",
            "the nightmare before christmas evolution",
            "evolution of jack skellington",
            "evolution of the nightmare before christmas",
            "jack skeleton",
            "jack skellington games",
            "the nightmare before christmas games",
            "the nightmare before christmas songs",
            "chrismas games",
            "christmas movies",
            "grinch",
            "how grinch stole christmas",
            "home alone",
            "rudolph red nosed reindeer",
            "santa claus"
           ]
          ],
          [
           [
            "batman",
            "burton",
            "keaton",
            "monlight",
            "joker"
           ]
          ],
          [
           [
            "video",
            "sharing",
            "camera phone",
            "video phone",
            "free",
            "upload"
           ]
          ],
          [
           [
            "video",
            "sharing",
            "camera phone",
            "video phone",
            "free",
            "upload"
           ]
          ],
          [
           [
            "Nightmare",
            "Before",
            "Christmas",
            "Sally",
            "Oogie",
            "Boogie",
            "Finklestein",
            "All",
            "Parts",
            "Body",
            "Arm",
            "Leg",
            "Foot",
            "Tickle",
            "Sew",
            "Dismember",
            "Decoy",
            "Attract",
            "Attractive",
            "Seduce",
            "Seductive",
            "Scene",
            "Rag",
            "Doll"
           ]
          ],
          [
           [
            "The Nightmare Before Christmas",
            "Tim",
            "Burton",
            "Jack",
            "Skellington",
            "Halloweentown",
            "Christmas",
            "Halloween",
            "Pumpkin"
           ]
          ],
          [
           [
            "animation lookback",
            "pixar animation studios",
            "electric dragon productions",
            "electricdragon505",
            "animation lookback page",
            "animation",
            "deviantart",
            "animation studios",
            "walt disney animation",
            "disney animation studios",
            "dreamworks animation",
            "-the jungle book",
            "legendary animation studios",
            "-who framed rager",
            "great mouse detective",
            "banana splits adventure",
            "guys",
            "lookback",
            "pixar",
            "studios",
            "toy story",
            "a bug's life",
            "luxo jr",
            "john lasseter",
            "ed catmull",
            "steve jobs",
            "George lucas",
            "knick knack",
            "tin toy"
           ]
          ],
          [
           [
            "Danny Elfman",
            "ダニーエルフマン",
            "ダニー・エルフマン",
            "Дэнни Эльфман",
            "Paul Reubens",
            "Catherine O'Hara",
            "Nightmare Before Christmas Special Edition",
            "Kidnap The Sandy Claws",
            "サンディクローズヲユウカイシロ",
            "サンディ・クローズを誘拐しろ"
           ]
          ],
          [
           [
            "projection mapping tutorial",
            "how to projection map",
            "learn projection mapping",
            "projection mapping",
            "projection mapping davinci resolve",
            "projection mapping after effects",
            "projection mapping halloween",
            "projection mapping christmas",
            "Halloween decoration",
            "christmas decoration"
           ]
          ],
          [
           [
            "Nightmare",
            "Before",
            "Christmas",
            "Sally",
            "Oogie",
            "Boogie",
            "Finklestein",
            "All",
            "Parts",
            "Body",
            "Arm",
            "Leg",
            "Foot",
            "Tickle",
            "Sew",
            "Dismember",
            "Decoy",
            "Attract",
            "Attractive",
            "Seduce",
            "Seductive",
            "Scene",
            "Rag",
            "Doll"
           ]
          ],
          [
           [
            "it",
            "it evolution",
            "evolution of it",
            "pennywise",
            "pennywise evolution",
            "evolution of pennywise",
            "clown",
            "scary clown",
            "scary clown movie",
            "stephen king",
            "stephen king movies",
            "stephen king's it",
            "it 2017",
            "it 1990",
            "pennywise origin",
            "halloween",
            "friday the 13th",
            "michael myers",
            "scream",
            "ghostface",
            "child's play",
            "chucky",
            "jason voorhees",
            "nightmare on elm street",
            "freddy krueger",
            "leatherface",
            "jigsaw",
            "saw",
            "anabelle doll",
            "scary movie",
            "suphero",
            "darwin's media",
            "2018"
           ]
          ],
          [
           [
            "LEGO",
            "LEGOS",
            "LEGO sets",
            "LEGO build",
            "LEGO make",
            "LEGO animation",
            "LEGO series"
           ]
          ],
          [
           [
            "wedding",
            "sallys song",
            "pumpkin",
            "pumpkin jack",
            "jack skellington",
            "the nightmare before christmas",
            "christmas",
            "halloween",
            "disney",
            "cover song",
            "asian",
            "sally",
            "jake and kim photography",
            "disneyland",
            "girl",
            "girl voice",
            "sing",
            "singing",
            "trick or treat",
            "Tim Burton",
            "Danny Elfman",
            "Danny elfmen",
            "remix",
            "jake and kim",
            "spooky",
            "halloween music",
            "pumpkin day",
            "asian girl",
            "makeup",
            "halloween makeup",
            "Sony A7RII",
            "a7rii",
            "a7",
            "son",
            "sony",
            "a7r",
            "line 6",
            "line",
            "ux1",
            "heil",
            "pre20",
            "pr20",
            "heil pr20",
            "garageband",
            "premiere",
            "rokinon",
            "24mm f1.4",
            "4k"
           ]
          ],
          [
           [
            "THE NIGHTMARE BEFORE CHRISTMAS",
            "the nightmare before christmas saving santa",
            "the nightmare before christmas clip",
            "this is halloween",
            "the nightmare before christmas 1993",
            "the nightmare before christmas full movie",
            "jack skellington",
            "halloween",
            "halloween movies for kids",
            "halloween movies",
            "tim burton movies",
            "nightmare",
            "disney halloween",
            "christmas",
            "tim burton",
            "stop motion animation",
            "halloween cartoons",
            "joblo",
            "joblo animated videos",
            "Animation",
            "Family",
            "Fantasy",
            "santa",
            "sally"
           ]
          ],
          [
           [
            "video",
            "sharing",
            "camera phone",
            "video phone",
            "free",
            "upload"
           ]
          ],
          [
           [
            "animation lookback",
            "pixar animation studios",
            "electric dragon productions",
            "electricdragon505",
            "animation lookback page",
            "animation",
            "deviantart",
            "animation studios",
            "walt disney animation",
            "disney animation studios",
            "dreamworks animation",
            "-the jungle book",
            "legendary animation studios",
            "-who framed rager",
            "great mouse detective",
            "banana splits adventure",
            "guys",
            "lookback",
            "pixar",
            "studios",
            "toy story",
            "a bug's life",
            "luxo jr",
            "john lasseter",
            "ed catmull",
            "steve jobs",
            "George lucas",
            "knick knack",
            "tin toy"
           ]
          ],
          [
           [
            "The Nightmare Before Christmas",
            "Animations",
            "FullHd",
            "Films",
            "Disney movies",
            "Full Movie",
            "christmas",
            "the nightmare before christmas evolution",
            "jack skellington",
            "nightmare",
            "fee animation",
            "nightmare before christmas",
            "the nightmare before christmas",
            "disney",
            "disney movies"
           ]
          ],
          [
           [
            "The Nightmare Before Christmas (Film)",
            "Lyrics",
            "Song",
            "Entertainment",
            "Animation",
            "Film",
            "Movie",
            "Disney",
            "Kidnap the Sandy Claws",
            "Henry Selick (Film Writer)"
           ]
          ],
          [
           [
            "LEGO",
            "thanksgiving",
            "legos",
            "stop motion",
            "lego stop motion",
            "animation",
            "lego build",
            "turkey day",
            "lego thanksgiving",
            "lego turkey",
            "lego animation",
            "lego dinner",
            "lego MOC",
            "saving thanksgiving",
            "lego food"
           ]
          ],
          [
           [
            "Griffin",
            "Family Guy",
            "Tim Burton",
            "Halloween",
            "Nightmare before Christmas",
            "Nightmare",
            "Clip Griffin",
            "Griffin Italiano",
            "risate",
            "epic moment",
            "parodia griffin",
            "Jack Skeletron",
            "4 july",
            "4 luglio",
            "nato il 4 luglio"
           ]
          ],
          [
           [
            "Nightmare Before Christmas",
            "Live",
            "Jack's Lament",
            "jack skellington",
            "broadway",
            "halloween",
            "NmBC",
            "jack skellington live",
            "nightmare before xmas live",
            "danny elfman",
            "tim burton",
            "matthew patrick davis"
           ]
          ],
          [
           [
            "Tim",
            "Burton's",
            "Corpse",
            "Bride:",
            "Piano",
            "Duet",
            "music",
            "video"
           ]
          ],
          [
           [
            "nightmare before christmas movie",
            "nightmare before christmas",
            "night before christmas cutscenes",
            "game cutscenes",
            "cutscenes",
            "game movie",
            "kingdom hearts all cutscenes",
            "kingdom hearts cutscenes",
            "kingdom hearts",
            "game",
            "video game",
            "games for kids",
            "game movie full",
            "family video game",
            "kids game",
            "cinematics",
            "full movie",
            "kids movie",
            "wishingtikal",
            "all",
            "dream drop distance",
            "kingdom hearts 3d",
            "kingdom hearts movie",
            "cartoon movie",
            "cartoon game",
            "kids play",
            "disney princess"
           ]
          ],
          [
           [
            "Batman",
            "Danny",
            "Elfman"
           ]
          ],
          [
           [
            "The Nightmare Before Christmas (Film)",
            "Lyrics",
            "Song",
            "Entertainment",
            "Animation",
            "Film",
            "Movie",
            "Disney",
            "Kidnap the Sandy Claws",
            "Henry Selick (Film Writer)"
           ]
          ],
          [
           [
            "universal",
            "universal all access",
            "universal pictures",
            "universal movie",
            "full movie",
            "the grinch",
            "christmas movie",
            "extended preview",
            "how the",
            "how the grinch stole christmas",
            "how the grinch stole christmas full movie",
            "jim carrey",
            "the grinch stole",
            "christmas"
           ]
          ],
          [
           [
            "Animation lookback",
            "animation",
            "cartoon",
            "animat",
            "cartoon network",
            "history",
            "biography",
            "channel",
            "television",
            "TV shows",
            "behind the scenes",
            "making",
            "ted turner",
            "fred seibert",
            "mike lazzo",
            "danny antonucci",
            "turner broadcasting",
            "ed edd n eddy",
            "what a cartoon!",
            "space ghost",
            "space ghost: coast to coast",
            "adult swim",
            "dexter’s laboratory",
            "johnny bravo",
            "cow and chicken",
            "the powerpuff girls",
            "hanna-barbera",
            "courage the cowardly dog",
            "I am weasel",
            "looney tunes",
            "MGM",
            "tom and jerry"
           ]
          ],
          [
           [
            "RangrisGaming",
            "Nightmare Before Christmas",
            "nightmare",
            "before",
            "christmas",
            "Nightmare Before Christmas ps2",
            "playstation",
            "Nightmare Before Christmas no damage",
            "Nightmare Before Christmas final boss",
            "oogie",
            "boogie",
            "all bosses",
            "no damage",
            "all boss fights",
            "boss rush",
            "gameplay",
            "4k",
            "60fps",
            "gaming",
            "ending",
            "final boss",
            "revenge"
           ]
          ],
          [
           [
            "Pokemon",
            "Trickywi",
            "facecam",
            "face",
            "girl gamer",
            "crystal castle",
            "countdowns",
            "predictions",
            "expectations",
            "wifi",
            "rom",
            "top 5",
            "top 10",
            "five",
            "nights",
            "at",
            "freddys",
            "fnaf",
            "five nights",
            "The Nightmare Before Christmas (Film)",
            "sallys song",
            "emily",
            "sally",
            "corpse bride",
            "song",
            "original song",
            "tim burton",
            "medley",
            "piano duet",
            "corpse bride piano duet",
            "corpse bride victor piano",
            "makeup"
           ]
          ],
          [
           [
            "video",
            "sharing",
            "camera phone",
            "video phone",
            "free",
            "upload"
           ]
          ],
          [
           [
            "haunted",
            "mansion",
            "ride",
            "grim",
            "grinning",
            "ghosts"
           ]
          ],
          [
           [
            "animation lookback",
            "pixar animation studios",
            "electric dragon productions",
            "electricdragon505",
            "animation lookback page",
            "animation",
            "deviantart",
            "animation studios",
            "walt disney animation",
            "disney animation studios",
            "dreamworks animation",
            "-the jungle book",
            "legendary animation studios",
            "-who framed rager",
            "great mouse detective",
            "banana splits adventure",
            "guys",
            "lookback",
            "pixar",
            "studios",
            "toy story",
            "a bug's life",
            "luxo jr",
            "john lasseter",
            "ed catmull",
            "steve jobs",
            "George lucas",
            "knick knack",
            "tin toy"
           ]
          ],
          [
           [
            "RangrisGaming",
            "Nightmare Before Christmas",
            "nightmare",
            "before",
            "christmas",
            "Nightmare Before Christmas ps2",
            "playstation",
            "Nightmare Before Christmas no damage",
            "Nightmare Before Christmas final boss",
            "oogie",
            "boogie",
            "all bosses",
            "no damage",
            "all boss fights",
            "boss rush",
            "gameplay",
            "4k",
            "60fps",
            "gaming",
            "ending",
            "final boss",
            "revenge"
           ]
          ],
          [
           [
            "Tim",
            "Burton's",
            "Corpse",
            "Bride:",
            "Piano",
            "Duet",
            "music",
            "video"
           ]
          ],
          [
           [
            "video",
            "sharing",
            "camera phone",
            "video phone",
            "free",
            "upload"
           ]
          ],
          [
           [
            "One Media",
            "One",
            "Cinema",
            "Trailer",
            "Official",
            "Movie",
            "Film",
            "2022",
            "Stranger Things",
            "Season 4",
            "New",
            "Creel House",
            "Stranger Things Season 4",
            "Netflix"
           ]
          ],
          [
           [
            "the nightmare before christmas",
            "oogie boogie",
            "jack skellington",
            "jack skeleton",
            "handmade",
            "polymer clay",
            "sculpey",
            "artist makes",
            "stop motion",
            "puppet",
            "tim burton",
            "henry selick",
            "halloween 2020",
            "halloween",
            "spooky season",
            "how to sculpt",
            "how to model clay"
           ]
          ],
          [
           [
            "The Nightmare Before Christmas (Film)",
            "nightmare",
            "before",
            "christmas",
            "sally",
            "jack",
            "sew",
            "jump"
           ]
          ],
          [
           [
            "Silly Symphonies (Film Series)",
            "the skeleton dance",
            "halloween",
            "disney",
            "disney animation",
            "walt disney",
            "walt disney animation studios"
           ]
          ],
          [
           [
            "Shrek",
            "Memes",
            "Funny",
            "Shrek 5",
            "Movie trailer"
           ]
          ],
          [
           [
            "nightmare before christmas",
            "nightmarebeforechristmas",
            "tim",
            "burton",
            "timburton",
            "oggie",
            "boogie",
            "nesting",
            "doll",
            "dolls",
            "stacking cups",
            "stacking",
            "cups",
            "toy",
            "toys",
            "doityourself",
            "do it yourself",
            "kid",
            "kids",
            "surprise",
            "unbox",
            "mystery",
            "nat",
            "essie",
            "christmas",
            "halloween",
            "holiday",
            "holidays"
           ]
          ],
          [
           [
            "video",
            "sharing",
            "camera phone",
            "video phone",
            "free",
            "upload"
           ]
          ],
          [
           [
            "The",
            "Nightmare",
            "Before",
            "Christmas",
            "Tim",
            "Burton",
            "Danny",
            "Elfman",
            "Jack",
            "Skellington",
            "Halloween",
            "Holidays",
            "Sally",
            "Soundtrack",
            "Black",
            "cat",
            "HD",
            "HQ",
            "spiritedaway0tutu"
           ]
          ],
          [
           [
            "casper",
            "casper the ghost",
            "casper the friendly ghost",
            "casper's scare school",
            "casper scare school",
            "casper's haunted christmas",
            "casper's scare school full episodes",
            "casper christmas",
            "kasper",
            "casper full episodes",
            "Casper Classics Full Episodes",
            "cartoons for kids",
            "halloween",
            "halloween for kids",
            "casper movie",
            "casper cartoon",
            "scare school",
            "casper the friendly ghost theme song",
            "casper the friendly ghost movie"
           ]
          ],
          [
           [
            "jack skellington",
            "the nightmare before christmas",
            "jack skellington evolution",
            "the nightmare before christmas evolution",
            "evolution of jack skellington",
            "evolution of the nightmare before christmas",
            "jack skeleton",
            "jack skellington games",
            "the nightmare before christmas games",
            "the nightmare before christmas songs",
            "chrismas games",
            "christmas movies",
            "grinch",
            "how grinch stole christmas",
            "home alone",
            "rudolph red nosed reindeer",
            "santa claus"
           ]
          ],
          [
           [
            "THE NIGHTMARE BEFORE CHRISTMAS",
            "the nightmare before christmas saving santa",
            "the nightmare before christmas clip",
            "this is halloween",
            "the nightmare before christmas 1993",
            "the nightmare before christmas full movie",
            "jack skellington",
            "halloween",
            "halloween movies for kids",
            "halloween movies",
            "tim burton movies",
            "nightmare",
            "disney halloween",
            "christmas",
            "tim burton",
            "stop motion animation",
            "halloween cartoons",
            "joblo",
            "joblo animated videos",
            "Animation",
            "Family",
            "Fantasy",
            "santa",
            "sally"
           ]
          ],
          [
           [
            "halloween",
            "spooky",
            "hocus pocus",
            "come little children",
            "creepy",
            "cemetery",
            "cover",
            "sarah's theme",
            "trick or treat",
            "all hallows eve",
            "duet",
            "cosplay",
            "costumes"
           ]
          ],
          [
           [
            "corpse bride full movie",
            "corpse bride piano",
            "corpse bride soundtrack",
            "corpse bride song",
            "corpse bride piano duet",
            "corpse bride ending",
            "corpse bride trailer",
            "corpse bride makeup",
            "corpse bride a wedding",
            "corpse bride analysis",
            "a corpse bride song",
            "a corpse bride trailer",
            "corpse bride barkis death",
            "corpse bride beginning",
            "corpse bride best scenes",
            "corpse bride bts",
            "full movie",
            "Corpse Bride",
            "Hd Movie",
            "free movie",
            "ölü gelin"
           ]
          ],
          [
           [
            "this is halloween",
            "this is halloween lyrics",
            "the nightmare before christmas this is halloween",
            "the nightmare before christmas this is halloween lyrics",
            "this is halloween hd",
            "this is halloween 4k",
            "the nightmare before christmas",
            "halloween",
            "jack skellington",
            "jack the pumpkin king",
            "halloween music",
            "this is halloween song"
           ]
          ],
          [
           [
            "Animation lookback",
            "animation",
            "cartoon",
            "animat",
            "cartoon network",
            "history",
            "biography",
            "channel",
            "television",
            "TV shows",
            "behind the scenes",
            "making",
            "ted turner",
            "fred seibert",
            "mike lazzo",
            "danny antonucci",
            "turner broadcasting",
            "ed edd n eddy",
            "what a cartoon!",
            "space ghost",
            "space ghost: coast to coast",
            "adult swim",
            "dexter’s laboratory",
            "johnny bravo",
            "cow and chicken",
            "the powerpuff girls",
            "hanna-barbera",
            "courage the cowardly dog",
            "I am weasel",
            "looney tunes",
            "MGM",
            "tom and jerry"
           ]
          ],
          [
           [
            "the nightmare before christmas",
            "kingdom hearts",
            "the nightmare before christmas video game",
            "jack skellington",
            "jack the pumpkin king",
            "jack and sally",
            "kingdom hearts gameplay",
            "gameplay",
            "game",
            "video game",
            "videogame",
            "video game for kids",
            "family video game",
            "family friendly video game",
            "now toons",
            "halloween town",
            "halloween",
            "christmas",
            "lock shock and barrel",
            "sally",
            "dr finklestein",
            "oogie boogie",
            "sandy claws",
            "this is halloween",
            "zero",
            "disney game",
            "disney video game"
           ]
          ],
          [
           [
            "#2020",
            "Halloween",
            "SpoopySeason",
            "Music",
            "Chill",
            "Party",
            "InfectiousGaming"
           ]
          ],
          [
           [
            "Tim",
            "Burton's",
            "Corpse",
            "Bride:",
            "Piano",
            "Duet",
            "music",
            "video"
           ]
          ]
         ],
         "hovertemplate": "sessionId=e5ede6af-234b-4bc0-b775-b63f1c4bdc96<br>timestamp=%{x}<br>videoLength=%{y}<br>keywords=%{customdata[0]}<extra></extra>",
         "legendgroup": "e5ede6af-234b-4bc0-b775-b63f1c4bdc96",
         "marker": {
          "color": "#00cc96",
          "symbol": "circle"
         },
         "mode": "markers",
         "name": "e5ede6af-234b-4bc0-b775-b63f1c4bdc96",
         "orientation": "v",
         "showlegend": true,
         "type": "scatter",
         "x": [
          "2021/10/05T22:45:46",
          "2021/10/05T22:45:47",
          "2021/10/05T22:45:47",
          "2021/10/05T22:55:49",
          "2021/10/05T22:55:50",
          "2021/10/05T22:55:51",
          "2021/10/05T22:55:51",
          "2021/10/05T22:55:52",
          "2021/10/05T22:55:53",
          "2021/10/05T22:55:53",
          "2021/10/05T22:55:54",
          "2021/10/05T23:05:55",
          "2021/10/05T23:05:55",
          "2021/10/05T23:05:56",
          "2021/10/05T23:05:57",
          "2021/10/05T23:05:57",
          "2021/10/05T23:05:58",
          "2021/10/05T23:05:59",
          "2021/10/05T23:06:01",
          "2021/10/05T23:15:49",
          "2021/10/05T23:15:50",
          "2021/10/05T23:15:50",
          "2021/10/05T23:15:51",
          "2021/10/05T23:15:52",
          "2021/10/05T23:15:52",
          "2021/10/05T23:15:53",
          "2021/10/05T23:15:54",
          "2021/10/05T23:25:50",
          "2021/10/05T23:25:50",
          "2021/10/05T23:25:51",
          "2021/10/05T23:25:52",
          "2021/10/05T23:25:53",
          "2021/10/05T23:25:54",
          "2021/10/05T23:25:54",
          "2021/10/05T23:25:55",
          "2021/10/05T23:35:49",
          "2021/10/05T23:35:50",
          "2021/10/05T23:35:51",
          "2021/10/05T23:35:52",
          "2021/10/05T23:35:53",
          "2021/10/05T23:35:54",
          "2021/10/05T23:35:54",
          "2021/10/05T23:35:55",
          "2021/10/05T23:46:06",
          "2021/10/05T23:46:07",
          "2021/10/05T23:46:08",
          "2021/10/05T23:46:09",
          "2021/10/05T23:46:10",
          "2021/10/05T23:46:11",
          "2021/10/05T23:46:12",
          "2021/10/05T23:46:13",
          "2021/10/05T23:55:53",
          "2021/10/05T23:55:54",
          "2021/10/05T23:55:54",
          "2021/10/05T23:55:55",
          "2021/10/05T23:55:56",
          "2021/10/05T23:55:56",
          "2021/10/05T23:55:57",
          "2021/10/05T23:55:58",
          "2021/10/06T00:06:02",
          "2021/10/06T00:06:03",
          "2021/10/06T00:06:04",
          "2021/10/06T00:06:06",
          "2021/10/06T00:06:06",
          "2021/10/06T00:06:07",
          "2021/10/06T00:06:08",
          "2021/10/06T00:06:09",
          "2021/10/06T00:18:14",
          "2021/10/06T00:18:15",
          "2021/10/06T00:18:16",
          "2021/10/06T00:18:17",
          "2021/10/06T00:18:18",
          "2021/10/06T00:18:19",
          "2021/10/06T00:18:20",
          "2021/10/06T00:18:21"
         ],
         "xaxis": "x",
         "y": [
          "3:00",
          "18:18",
          "0:09",
          "3:08",
          "4:01:19",
          "1:35:06",
          "5:21",
          "4:24",
          "3:13",
          "3:09",
          "1:00:10",
          "6:29",
          "3:03",
          "0:34",
          "5:40",
          "0:27",
          "3:27",
          "1:15:16",
          "5:21",
          "3:00",
          "1:59:09",
          "0:09",
          "5:40",
          "5:24",
          "3:04",
          "1:00:10",
          "5:21",
          "3:01",
          "25:10",
          "3:03",
          "2:14",
          "5:21",
          "2:54",
          "5:39",
          "2:20",
          "6:29",
          "3:13",
          "25:10",
          "1:16:40",
          "4:13",
          "0:55",
          "0:27",
          null,
          "2:08",
          "39:09",
          "3:08",
          "4:13",
          "10:01",
          "26:05",
          "47:37",
          "4:11",
          "4:30",
          "5:33",
          "25:10",
          "47:37",
          "2:08",
          "1:00:11",
          "1:48",
          "17:27",
          "1:42",
          "5:32",
          "2:30",
          "11:06",
          "3:13",
          "1:51",
          "1:15:16",
          "5:40",
          "6:29",
          "3:03",
          "0:09",
          "3:10",
          "26:05",
          "51:51",
          "30:36",
          "2:08"
         ],
         "yaxis": "y"
        },
        {
         "customdata": [
          [
           [
            "DU Recorder"
           ]
          ],
          [
           [
            "video",
            "sharing",
            "camera phone",
            "video phone",
            "free",
            "upload"
           ]
          ],
          [
           [
            "corpse bride full movie",
            "corpse bride piano",
            "corpse bride soundtrack",
            "corpse bride song",
            "corpse bride piano duet",
            "corpse bride ending",
            "corpse bride trailer",
            "corpse bride makeup",
            "corpse bride a wedding",
            "corpse bride analysis",
            "a corpse bride song",
            "a corpse bride trailer",
            "corpse bride barkis death",
            "corpse bride beginning",
            "corpse bride best scenes",
            "corpse bride bts",
            "full movie",
            "Corpse Bride",
            "Hd Movie",
            "free movie",
            "ölü gelin"
           ]
          ],
          [
           [
            "Nightmare Before Christmas",
            "Live",
            "Jack's Lament",
            "jack skellington",
            "broadway",
            "halloween",
            "NmBC",
            "jack skellington live",
            "nightmare before xmas live",
            "danny elfman",
            "tim burton",
            "matthew patrick davis"
           ]
          ],
          [
           [
            "Chucky",
            "Chucky Trailer",
            "Chucky Season 1 Trailer",
            "Chucky S01 Trailer",
            "Chucky Season 1 TV Trailer",
            "Chucky Season 1 Trailer 2021",
            "Chucky Season 1 Official Trailer",
            "Trailer",
            "TV Trailer",
            "2021 Trailer",
            "2021 TV Trailers",
            "Chucky Trailer 2",
            "Chucky Season 1 USA",
            "USA",
            "SyFy",
            "Chucky Season 1 SyFy",
            "RT",
            "RTTV",
            "Rotten Tomatoes TV",
            "Horror",
            "Entertainment",
            "TV Series",
            "Don Mancini",
            "Zackary Arthur",
            "Devon Sawa",
            "Jennifer Tilly",
            "Brad Dourif",
            "Teo Briones"
           ]
          ],
          [
           [
            "RangrisGaming",
            "Nightmare Before Christmas",
            "nightmare",
            "before",
            "christmas",
            "Nightmare Before Christmas ps2",
            "playstation",
            "Nightmare Before Christmas no damage",
            "Nightmare Before Christmas final boss",
            "oogie",
            "boogie",
            "all bosses",
            "no damage",
            "all boss fights",
            "boss rush",
            "gameplay",
            "4k",
            "60fps",
            "gaming",
            "ending",
            "final boss",
            "revenge"
           ]
          ],
          [
           [
            "video",
            "sharing",
            "camera phone",
            "video phone",
            "free",
            "upload"
           ]
          ],
          [
           [
            "Beetlejuice",
            "Critter",
            "Sitters",
            "Clip",
            "Lydia",
            "Deetz",
            "Summoning",
            "Cartoon",
            "Tim",
            "Burton",
            "80's",
            "Pilot"
           ]
          ],
          [
           [
            "The Nightmare Before Christmas (Film)",
            "Song",
            "Entertainment",
            "Animation",
            "Film",
            "Movie",
            "Disney",
            "Lyrics",
            "Town Meeting",
            "Henry Selick (Film Writer)"
           ]
          ],
          [
           [
            "projection mapping tutorial",
            "how to projection map",
            "learn projection mapping",
            "projection mapping",
            "projection mapping davinci resolve",
            "projection mapping after effects",
            "projection mapping halloween",
            "projection mapping christmas",
            "Halloween decoration",
            "christmas decoration"
           ]
          ],
          [
           [
            "Beetlejuice",
            "Critter",
            "Sitters",
            "Clip",
            "Lydia",
            "Deetz",
            "Summoning",
            "Cartoon",
            "Tim",
            "Burton",
            "80's",
            "Pilot"
           ]
          ],
          [
           [
            "Nightmare Before Christmas",
            "Live",
            "Jack's Lament",
            "jack skellington",
            "broadway",
            "halloween",
            "NmBC",
            "jack skellington live",
            "nightmare before xmas live",
            "danny elfman",
            "tim burton",
            "matthew patrick davis"
           ]
          ],
          [
           [
            "Nirvana",
            "GEFFEN",
            "Rock",
            "remastered",
            "Nirvana smells like teen spirit",
            "smells like teen spirit nirvana",
            "kurt cobain",
            "krist novoselic",
            "dave grohl",
            "dave grohl nirvana",
            "smells like teen spirit remastered",
            "smells like teen spirit remastered video",
            "nirvana remastered",
            "nirvana remastered videos",
            "kurt cobain nirvana",
            "smells like teen spirit nirvana official music video",
            "nirvana music video",
            "nirvana official music video hd",
            "nirvana hd",
            "nevermind"
           ]
          ],
          [
           [
            "jack skellington",
            "the nightmare before christmas",
            "jack skellington evolution",
            "the nightmare before christmas evolution",
            "evolution of jack skellington",
            "evolution of the nightmare before christmas",
            "jack skeleton",
            "jack skellington games",
            "the nightmare before christmas games",
            "the nightmare before christmas songs",
            "chrismas games",
            "christmas movies",
            "grinch",
            "how grinch stole christmas",
            "home alone",
            "rudolph red nosed reindeer",
            "santa claus"
           ]
          ],
          [
           [
            "video",
            "sharing",
            "camera phone",
            "video phone",
            "free",
            "upload"
           ]
          ],
          [
           [
            "Pokemon",
            "Trickywi",
            "facecam",
            "face",
            "girl gamer",
            "crystal castle",
            "countdowns",
            "predictions",
            "expectations",
            "wifi",
            "rom",
            "top 5",
            "top 10",
            "five",
            "nights",
            "at",
            "freddys",
            "fnaf",
            "five nights",
            "The Nightmare Before Christmas (Film)",
            "sallys song",
            "emily",
            "sally",
            "corpse bride",
            "song",
            "original song",
            "tim burton",
            "medley",
            "piano duet",
            "corpse bride piano duet",
            "corpse bride victor piano",
            "makeup"
           ]
          ],
          [
           [
            "DU Recorder"
           ]
          ],
          [
           [
            "Nirvana",
            "GEFFEN",
            "Rock",
            "remastered",
            "Nirvana smells like teen spirit",
            "smells like teen spirit nirvana",
            "kurt cobain",
            "krist novoselic",
            "dave grohl",
            "dave grohl nirvana",
            "smells like teen spirit remastered",
            "smells like teen spirit remastered video",
            "nirvana remastered",
            "nirvana remastered videos",
            "kurt cobain nirvana",
            "smells like teen spirit nirvana official music video",
            "nirvana music video",
            "nirvana official music video hd",
            "nirvana hd",
            "nevermind"
           ]
          ],
          [
           [
            "jack skellington",
            "The Nightmare Before Christmas",
            "jack skellington evolution",
            "evolution of jack skellington",
            "the nightmare before christmas evolution",
            "evolution of the nightmare before christmas",
            "jack skellington movies",
            "nightmare before christmas movies",
            "christmas movies",
            "grinch",
            "home alone",
            "rudolph red nosed reindeer",
            "jack skeleton"
           ]
          ],
          [
           [
            "disney+",
            "lizzie mcguire",
            "hilary duff",
            "toy story",
            "mandalorian",
            "baby yoda",
            "the child",
            "star wars",
            "marvel",
            "lucas film",
            "national geographic",
            "nat geo",
            "disney",
            "the simpsons",
            "streaming",
            "series",
            "tv",
            "movies",
            "films",
            "blockbuster",
            "the lion king"
           ]
          ],
          [
           [
            "Pokemon",
            "Trickywi",
            "facecam",
            "face",
            "girl gamer",
            "crystal castle",
            "countdowns",
            "predictions",
            "expectations",
            "wifi",
            "rom",
            "top 5",
            "top 10",
            "five",
            "nights",
            "at",
            "freddys",
            "fnaf",
            "five nights",
            "The Nightmare Before Christmas (Film)",
            "sallys song",
            "emily",
            "sally",
            "corpse bride",
            "song",
            "original song",
            "tim burton",
            "medley",
            "piano duet",
            "corpse bride piano duet",
            "corpse bride victor piano",
            "makeup"
           ]
          ],
          [
           [
            "Venom",
            "carnage",
            "cletus kasady",
            "eddie brock",
            "let there be carnage",
            "marvel",
            "marvel cinematic universe",
            "mcu",
            "pg-13",
            "pitch meeting",
            "plot holes",
            "post-credit",
            "ryan george",
            "screen rant",
            "spider-man",
            "super easy barely an inconvenience",
            "symbiote",
            "tom hardy",
            "tom holland",
            "venom 2",
            "woody harrelson"
           ]
          ],
          [
           [
            "Frightfully Fun Parade",
            "Oogie Boogie Bash",
            "Disneyland",
            "Disney California Adventure",
            "DCA",
            "Disneyland Halloween Party",
            "Disneyland Halloween",
            "Disney California Adventure Halloween Party",
            "Disneyland Parade",
            "Disneyland Parade 2021",
            "Disney California Adventure Parade 2021",
            "Disneyland Halloween Parade",
            "Disneylannd Halloween Parade 2021",
            "Frightfully Fun 2021",
            "Frightfully Fun Parade 2021",
            "Disney California Adventure Parade"
           ]
          ],
          [
           [
            "spoopy",
            "спуки скери скелетонс"
           ]
          ],
          [
           [
            "iMovie",
            "This Is Halloweeen",
            "Nightmare Before Christmas",
            "Trailer",
            "LEGO",
            "Stop-Motion",
            "minifigures",
            "mecabricks",
            "stop motion",
            "brickfilm"
           ]
          ],
          [
           [
            "ghost",
            "louie zong",
            "music",
            "animation",
            "halloween"
           ]
          ],
          [
           [
            "Holiday Lights",
            "Light-O-Rama",
            "LOR",
            "The Nightmare Before Christmas",
            "Rain On Me",
            "Savage Love",
            "Blinding Lights",
            "Dynamite",
            "Eruption"
           ]
          ],
          [
           [
            "The Nightmare Before Christmas",
            "Animations",
            "FullHd",
            "Films",
            "Disney movies",
            "Full Movie",
            "christmas",
            "the nightmare before christmas evolution",
            "jack skellington",
            "nightmare",
            "fee animation",
            "nightmare before christmas",
            "the nightmare before christmas",
            "disney",
            "disney movies"
           ]
          ],
          [
           [
            "animation lookback",
            "pixar animation studios",
            "electric dragon productions",
            "electricdragon505",
            "animation lookback page",
            "animation",
            "deviantart",
            "animation studios",
            "walt disney animation",
            "disney animation studios",
            "dreamworks animation",
            "-the jungle book",
            "legendary animation studios",
            "-who framed rager",
            "great mouse detective",
            "banana splits adventure",
            "guys",
            "lookback",
            "pixar",
            "studios",
            "toy story",
            "a bug's life",
            "luxo jr",
            "john lasseter",
            "ed catmull",
            "steve jobs",
            "George lucas",
            "knick knack",
            "tin toy"
           ]
          ],
          [
           [
            "coraline full game",
            "coraline longplay",
            "coraline full gameplay",
            "coraline full",
            "coraline full movie",
            "coraline walkthrough",
            "wii",
            "game",
            "coraline walkthrough part 1",
            "wishingtikal",
            "coraline",
            "walkthrough",
            "coraline movie",
            "ps2",
            "gameplay",
            "Coraline (Video Game)",
            "watch",
            "full movie",
            "full game",
            "coraline part 1",
            "coraline gameplay"
           ]
          ],
          [
           [
            "Tim",
            "Burton",
            "Danny",
            "Elfman",
            "Jack",
            "Skellington",
            "HD",
            "Nightmare",
            "Before",
            "Christmas",
            "Jack's",
            "Lament",
            "Halloween",
            "Zero",
            "HQ",
            "Blu",
            "Ray"
           ]
          ],
          [
           [
            "the nightmare before christmas",
            "oogie boogie",
            "jack skellington",
            "jack skeleton",
            "handmade",
            "polymer clay",
            "sculpey",
            "artist makes",
            "stop motion",
            "puppet",
            "tim burton",
            "henry selick",
            "halloween 2020",
            "halloween",
            "spooky season",
            "how to sculpt",
            "how to model clay"
           ]
          ],
          [
           [
            "The Nightmare Before Christmas",
            "Tim",
            "Burton",
            "Jack",
            "Skellington",
            "Halloweentown",
            "Christmas",
            "Halloween",
            "Pumpkin"
           ]
          ],
          [
           [
            "video",
            "sharing",
            "camera phone",
            "video phone",
            "free",
            "upload"
           ]
          ],
          [
           [
            "Disney+",
            "Disney Plus",
            "Disney",
            "streaming"
           ]
          ],
          [
           [
            "the nightmare before christmas",
            "oogie boogie",
            "jack skellington",
            "jack skeleton",
            "handmade",
            "polymer clay",
            "sculpey",
            "artist makes",
            "stop motion",
            "puppet",
            "tim burton",
            "henry selick",
            "halloween 2020",
            "halloween",
            "spooky season",
            "how to sculpt",
            "how to model clay"
           ]
          ],
          [
           [
            "Tim",
            "Burton's",
            "Corpse",
            "Bride:",
            "Piano",
            "Duet",
            "music",
            "video"
           ]
          ],
          [
           [
            "michael jackson",
            "michael jackson thriller",
            "thriller michael jackson",
            "maicol jackson",
            "thriller michael jackson lyrics",
            "thriller video michael jackson",
            "maicon jackson",
            "triller",
            "michael jackson songs",
            "michael jackson billie jean",
            "music",
            "mickelson jackson",
            "triler",
            "maikel jackson",
            "spooky season",
            "michael jackson dance",
            "beat it",
            "smooth criminal",
            "man in the mirror",
            "janet jackson",
            "the jacksons",
            "wham!",
            "official michael jackson",
            "official video",
            "pop",
            "Epic"
           ]
          ],
          [
           [
            "THE NIGHTMARE BEFORE CHRISTMAS",
            "the nightmare before christmas saving santa",
            "the nightmare before christmas clip",
            "this is halloween",
            "the nightmare before christmas 1993",
            "the nightmare before christmas full movie",
            "jack skellington",
            "halloween",
            "halloween movies for kids",
            "halloween movies",
            "tim burton movies",
            "nightmare",
            "disney halloween",
            "christmas",
            "tim burton",
            "stop motion animation",
            "halloween cartoons",
            "joblo",
            "joblo animated videos",
            "Animation",
            "Family",
            "Fantasy",
            "santa",
            "sally"
           ]
          ],
          [
           [
            "video",
            "sharing",
            "camera phone",
            "video phone",
            "free",
            "upload"
           ]
          ],
          [
           [
            "video",
            "sharing",
            "camera phone",
            "video phone",
            "free",
            "upload"
           ]
          ],
          [
           [
            "Best Halloween Songs 2020",
            "Halloween Party Music Mix",
            "The Best Halloween Party Playlist 2020",
            "Halloween Songs 2020",
            "Halloween",
            "halloween 2020 music playlist",
            "halloween 2020",
            "halloween 2020 song",
            "Halloween Songs",
            "Best Halloween Songs",
            "best halloween songs 2020",
            "best halloween songs for parties",
            "best halloween songs playlist",
            "best halloween songs of all time",
            "Halloween Party Music",
            "halloween music",
            "halloween music 2020",
            "best sounds",
            "trick or treat music"
           ]
          ],
          [
           [
            "the nightmare before christmas",
            "jack skellington",
            "disney",
            "christmas in disneyland",
            "mad hatter",
            "alice in wonderland",
            "hayes family vlog",
            "disney vlog",
            "family vlog",
            "last day in disneyland",
            "disneyland vlog",
            "disney character meet and greet",
            "disney vloggers"
           ]
          ],
          [
           [
            "Chucky",
            "Chucky Trailer",
            "Chucky Season 1 Trailer",
            "Chucky S01 Trailer",
            "Chucky Season 1 TV Trailer",
            "Chucky Season 1 Trailer 2021",
            "Chucky Season 1 Official Trailer",
            "Trailer",
            "TV Trailer",
            "2021 Trailer",
            "2021 TV Trailers",
            "Chucky Trailer 2",
            "Chucky Season 1 USA",
            "USA",
            "SyFy",
            "Chucky Season 1 SyFy",
            "RT",
            "RTTV",
            "Rotten Tomatoes TV",
            "Horror",
            "Entertainment",
            "TV Series",
            "Don Mancini",
            "Zackary Arthur",
            "Devon Sawa",
            "Jennifer Tilly",
            "Brad Dourif",
            "Teo Briones"
           ]
          ],
          [
           [
            "NightmareBeforeChristmas",
            "Jack",
            "Sally",
            "KellyClarkson",
            "fanvid"
           ]
          ],
          [
           [
            "Disney+",
            "Disney Plus",
            "Disney",
            "streaming"
           ]
          ],
          [
           [
            "video",
            "sharing",
            "camera phone",
            "video phone",
            "free",
            "upload"
           ]
          ],
          [
           [
            "video",
            "sharing",
            "camera phone",
            "video phone",
            "free",
            "upload"
           ]
          ],
          [
           [
            "video",
            "sharing",
            "camera phone",
            "video phone",
            "free",
            "upload"
           ]
          ],
          [
           [
            "Erutan",
            "Come",
            "Little",
            "Children"
           ]
          ],
          [
           [
            "it",
            "it evolution",
            "evolution of it",
            "pennywise",
            "pennywise evolution",
            "evolution of pennywise",
            "clown",
            "scary clown",
            "scary clown movie",
            "stephen king",
            "stephen king movies",
            "stephen king's it",
            "it 2017",
            "it 1990",
            "pennywise origin",
            "halloween",
            "friday the 13th",
            "michael myers",
            "scream",
            "ghostface",
            "child's play",
            "chucky",
            "jason voorhees",
            "nightmare on elm street",
            "freddy krueger",
            "leatherface",
            "jigsaw",
            "saw",
            "anabelle doll",
            "scary movie",
            "suphero",
            "darwin's media",
            "2018"
           ]
          ],
          [
           [
            "the nightmare before christmas",
            "oogie boogie",
            "jack skellington",
            "jack skeleton",
            "handmade",
            "polymer clay",
            "sculpey",
            "artist makes",
            "stop motion",
            "puppet",
            "tim burton",
            "henry selick",
            "halloween 2020",
            "halloween",
            "spooky season",
            "how to sculpt",
            "how to model clay"
           ]
          ],
          [
           [
            "projection mapping tutorial",
            "how to projection map",
            "learn projection mapping",
            "projection mapping",
            "projection mapping davinci resolve",
            "projection mapping after effects",
            "projection mapping halloween",
            "projection mapping christmas",
            "Halloween decoration",
            "christmas decoration"
           ]
          ],
          [
           [
            "coraline full game",
            "coraline longplay",
            "coraline full gameplay",
            "coraline full",
            "coraline full movie",
            "coraline walkthrough",
            "wii",
            "game",
            "coraline walkthrough part 1",
            "wishingtikal",
            "coraline",
            "walkthrough",
            "coraline movie",
            "ps2",
            "gameplay",
            "Coraline (Video Game)",
            "watch",
            "full movie",
            "full game",
            "coraline part 1",
            "coraline gameplay"
           ]
          ],
          [
           [
            "video",
            "sharing",
            "camera phone",
            "video phone",
            "free",
            "upload"
           ]
          ],
          [
           [
            "corpse bride full movie",
            "corpse bride piano",
            "corpse bride soundtrack",
            "corpse bride song",
            "corpse bride piano duet",
            "corpse bride ending",
            "corpse bride trailer",
            "corpse bride makeup",
            "corpse bride a wedding",
            "corpse bride analysis",
            "a corpse bride song",
            "a corpse bride trailer",
            "corpse bride barkis death",
            "corpse bride beginning",
            "corpse bride best scenes",
            "corpse bride bts",
            "full movie",
            "Corpse Bride",
            "Hd Movie",
            "free movie",
            "ölü gelin"
           ]
          ],
          [
           [
            "video",
            "sharing",
            "camera phone",
            "video phone",
            "free",
            "upload"
           ]
          ],
          [
           [
            "king of pop",
            "thriller",
            "quincy jones",
            "Westlake recording studios",
            "epic records",
            "epic",
            "1982",
            "thriller 25",
            "thriller album",
            "best selling",
            "rod temperton",
            "steve porcaro",
            "john bettis",
            "james ingram",
            "MichaelJacksonvevo",
            "vevo",
            "official",
            "video",
            "music video",
            "single",
            "album",
            "pop",
            "Speed Demon",
            "Beat It",
            "Billie Jean",
            "Black or White",
            "Remember the Time",
            "Smooth Criminal",
            "Man In The Mirror",
            "Dont Stop Til You Get Enough",
            "Epic",
            "Michael Jackson",
            "Pop",
            "Thriller"
           ]
          ],
          [
           [
            "LEGO",
            "LEGOS",
            "LEGO sets",
            "LEGO build",
            "LEGO make",
            "LEGO animation",
            "LEGO series"
           ]
          ],
          [
           [
            "jack skellington",
            "the nightmare before christmas",
            "jack skellington evolution",
            "the nightmare before christmas evolution",
            "evolution of jack skellington",
            "evolution of the nightmare before christmas",
            "jack skeleton",
            "jack skellington games",
            "the nightmare before christmas games",
            "the nightmare before christmas songs",
            "chrismas games",
            "christmas movies",
            "grinch",
            "how grinch stole christmas",
            "home alone",
            "rudolph red nosed reindeer",
            "santa claus"
           ]
          ],
          [
           [
            "Beetlejuice",
            "Critter",
            "Sitters",
            "Clip",
            "Lydia",
            "Deetz",
            "Summoning",
            "Cartoon",
            "Tim",
            "Burton",
            "80's",
            "Pilot"
           ]
          ],
          [
           [
            "Cast - The Nightmare Before Christmas",
            "Danny Elfman",
            "ダニーエルフマン",
            "ダニー・エルフマン",
            "Дэнни Эльфман",
            "Nightmare Before Christmas Special Edition",
            "Jack's Obsession",
            "ジャックガヘンダ",
            "ジャックが変だ!"
           ]
          ],
          [
           [
            "corpse bride full movie",
            "corpse bride piano",
            "corpse bride soundtrack",
            "corpse bride song",
            "corpse bride piano duet",
            "corpse bride ending",
            "corpse bride trailer",
            "corpse bride makeup",
            "corpse bride a wedding",
            "corpse bride analysis",
            "a corpse bride song",
            "a corpse bride trailer",
            "corpse bride barkis death",
            "corpse bride beginning",
            "corpse bride best scenes",
            "corpse bride bts",
            "full movie",
            "Corpse Bride",
            "Hd Movie",
            "free movie",
            "ölü gelin"
           ]
          ],
          [
           [
            "video",
            "sharing",
            "camera phone",
            "video phone",
            "free",
            "upload"
           ]
          ],
          [
           [
            "video",
            "sharing",
            "camera phone",
            "video phone",
            "free",
            "upload"
           ]
          ],
          [
           [
            "video",
            "sharing",
            "camera phone",
            "video phone",
            "free",
            "upload"
           ]
          ],
          [
           [
            "Disney+",
            "Disney Plus",
            "Disney",
            "streaming"
           ]
          ],
          [
           [
            "gamingcanbefun",
            "gaming",
            "can",
            "be",
            "fun",
            "gaming can be fun",
            "codester",
            "codester1113",
            "thecodester",
            "thecodester1113",
            "60fps",
            "hd",
            "HD",
            "ps1",
            "ps2",
            "ps3",
            "ps4",
            "kingdom hearts",
            "kingdom",
            "king",
            "heart",
            "hearts",
            "remix",
            "re",
            "mix",
            "final mix",
            "final",
            "movie",
            "cutscene",
            "cutscenes",
            "disney",
            "DISNEY",
            "walt",
            "1.5",
            "2.5",
            "2.8",
            "iii",
            "III",
            "hidden",
            "boss",
            "secret",
            "kingdom hearts 2",
            "kingdom hearts 2 final mix",
            "halloween",
            "town",
            "halloweentown",
            "jack",
            "skellington",
            "jack skellington",
            "oogie",
            "boogie",
            "oogie boogie",
            "lock",
            "shock",
            "barrel",
            "sally",
            "mayor"
           ]
          ],
          [
           [
            "Johnny",
            "Sing",
            "Stage",
            "Animation",
            "Illumination",
            "Motion Pictures",
            "Male",
            "Piano",
            "Elton John",
            "Im still standing",
            "Lyrics",
            "clip",
            "Movie",
            "harambe",
            "gorilla",
            "original",
            "final act",
            "full HD",
            "60 fps",
            "despicable me",
            "johnnys dad",
            "subtitle"
           ]
          ],
          [
           [
            "universal",
            "universal all access",
            "universal pictures",
            "universal movie",
            "full movie",
            "the grinch",
            "christmas movie",
            "extended preview",
            "how the",
            "how the grinch stole christmas",
            "how the grinch stole christmas full movie",
            "jim carrey",
            "the grinch stole",
            "christmas"
           ]
          ],
          [
           [
            "Tim Burton's Corpse Bride Soundtrack",
            "Tim Burton's Corpse Bride Original Motion Picture Soundtrack",
            "The Piano Duet"
           ]
          ],
          [
           [
            "video",
            "sharing",
            "camera phone",
            "video phone",
            "free",
            "upload"
           ]
          ],
          [
           [
            "video",
            "sharing",
            "camera phone",
            "video phone",
            "free",
            "upload"
           ]
          ],
          [
           [
            "hocus pocus",
            "i put a spell on you",
            "Bette Midler",
            "Sarah Jessica Parker",
            "Kathy Najimy",
            "performance",
            "watch halloween movies",
            "31 nights of halloween",
            "halloween costumes",
            "sing along",
            "lyric video",
            "freeform"
           ]
          ],
          [
           [
            "Venom",
            "carnage",
            "cletus kasady",
            "eddie brock",
            "let there be carnage",
            "marvel",
            "marvel cinematic universe",
            "mcu",
            "pg-13",
            "pitch meeting",
            "plot holes",
            "post-credit",
            "ryan george",
            "screen rant",
            "spider-man",
            "super easy barely an inconvenience",
            "symbiote",
            "tom hardy",
            "tom holland",
            "venom 2",
            "woody harrelson"
           ]
          ],
          [
           [
            "spoopy",
            "спуки скери скелетонс"
           ]
          ],
          [
           [
            "video",
            "sharing",
            "camera phone",
            "video phone",
            "free",
            "upload"
           ]
          ],
          [
           [
            "nightmare before christmas",
            "jack skeleton",
            "jack skellington",
            "sally",
            "oogie boogie",
            "oogie",
            "boogie",
            "full",
            "toysunlimited",
            "toys unlimited",
            "surprise",
            "kid",
            "kids",
            "nesting",
            "matryoshka",
            "nesting dolls",
            "diy",
            "do it yourself",
            "toy",
            "toys"
           ]
          ],
          [
           [
            "video",
            "sharing",
            "camera phone",
            "video phone",
            "free",
            "upload"
           ]
          ],
          [
           [
            "the piano duet",
            "corpse bride piano",
            "corpse bride piano duet",
            "tim burton piano",
            "the piano duet cover",
            "the piano duet extended",
            "corpse bride soundtrack",
            "corpse bride theme",
            "corpse bride ost",
            "the wild conductor",
            "corpse bride song",
            "corpse bride piano cover",
            "corpse bride piano solo",
            "piano cover",
            "halloween piano",
            "tim burton",
            "halloween song",
            "corpse bride cover",
            "tim burton song",
            "corpse bride duet",
            "piano horror",
            "nightmare before christmas piano",
            "victor piano solo",
            "creepy",
            "sheet"
           ]
          ],
          [
           [
            "video",
            "sharing",
            "camera phone",
            "video phone",
            "free",
            "upload"
           ]
          ],
          [
           [
            "Best Halloween Songs 2020",
            "Halloween Party Music Mix",
            "The Best Halloween Party Playlist 2020",
            "Halloween Songs 2020",
            "Halloween",
            "halloween 2020 music playlist",
            "halloween 2020",
            "halloween 2020 song",
            "Halloween Songs",
            "Best Halloween Songs",
            "best halloween songs 2020",
            "best halloween songs for parties",
            "best halloween songs playlist",
            "best halloween songs of all time",
            "Halloween Party Music",
            "halloween music",
            "halloween music 2020",
            "best sounds",
            "trick or treat music"
           ]
          ],
          [
           [
            "new",
            "nightmare before christmas",
            "nightmare before christmas happy meal",
            "jack skeleton",
            "jack skellington",
            "sally",
            "oogie",
            "boogie",
            "oogie boogie",
            "mayor",
            "zeri",
            "toysunlimited",
            "toys unlimited",
            "full",
            "set",
            "nightmare befor christmas toys",
            "chracters",
            "best",
            "happy meal",
            "happymeal",
            "full set",
            "2019",
            "mcdonalds",
            "mcdonald;s",
            "mcdonalds happy meal",
            "characters",
            "DIY",
            "Do it yourself"
           ]
          ],
          [
           [
            "Tim Burton's The Nightmare before Christmas",
            "Haunted Mansion Ride",
            "Disneyland",
            "Jack Skellington",
            "tourist destination",
            "Haunted mansion 50th anniversary",
            "Disney parks"
           ]
          ],
          [
           [
            "disney+",
            "lizzie mcguire",
            "hilary duff",
            "toy story",
            "mandalorian",
            "baby yoda",
            "the child",
            "star wars",
            "marvel",
            "lucas film",
            "national geographic",
            "nat geo",
            "disney",
            "the simpsons",
            "streaming",
            "series",
            "tv",
            "movies",
            "films",
            "blockbuster",
            "the lion king"
           ]
          ],
          [
           [
            "it",
            "it evolution",
            "evolution of it",
            "pennywise",
            "pennywise evolution",
            "evolution of pennywise",
            "clown",
            "scary clown",
            "scary clown movie",
            "stephen king",
            "stephen king movies",
            "stephen king's it",
            "it 2017",
            "it 1990",
            "pennywise origin",
            "halloween",
            "friday the 13th",
            "michael myers",
            "scream",
            "ghostface",
            "child's play",
            "chucky",
            "jason voorhees",
            "nightmare on elm street",
            "freddy krueger",
            "leatherface",
            "jigsaw",
            "saw",
            "anabelle doll",
            "scary movie",
            "suphero",
            "darwin's media",
            "2018"
           ]
          ],
          [
           [
            "video",
            "sharing",
            "camera phone",
            "video phone",
            "free",
            "upload"
           ]
          ],
          [
           [
            "Jump Up Calypso",
            "Harry Belafonte",
            "Jump In The Line",
            "Harry Belafonte Jump In The Line",
            "Shake Senora",
            "Beetlejuice",
            "Alec Baldwin",
            "Geena Davis",
            "Michael Keaton",
            "Betelgeuse",
            "Maitland",
            "Lydia Deetz",
            "Winona Ryder",
            "PlayNowPlayL8tr 2",
            "HD",
            "HQ",
            "1080p",
            "music video",
            "song",
            "music",
            "lyrics",
            "film",
            "movie",
            "scene",
            "singing",
            "dancing",
            "soundtrack",
            "Reggae",
            "Pop"
           ]
          ],
          [
           [
            "video",
            "sharing",
            "camera phone",
            "video phone",
            "free",
            "upload"
           ]
          ],
          [
           [
            "coraline full game",
            "coraline longplay",
            "coraline full gameplay",
            "coraline full",
            "coraline full movie",
            "coraline walkthrough",
            "wii",
            "game",
            "coraline walkthrough part 1",
            "wishingtikal",
            "coraline",
            "walkthrough",
            "coraline movie",
            "ps2",
            "gameplay",
            "Coraline (Video Game)",
            "watch",
            "full movie",
            "full game",
            "coraline part 1",
            "coraline gameplay"
           ]
          ],
          [
           [
            "documentary",
            "doc",
            "Screen Rant",
            "ScreenRant",
            "Home Alone",
            "Home Alone 2",
            "My Girl",
            "Macaulay Culkin",
            "Home Alone remake",
            "Christmas Movies",
            "Richie Rich",
            "The Good Child",
            "Uncle Buck",
            "Harry and Marv",
            "Culkin family",
            "Pagemaster"
           ]
          ],
          [
           [
            "Nightmare Before Christmas",
            "Live",
            "Jack's Lament",
            "jack skellington",
            "broadway",
            "halloween",
            "NmBC",
            "jack skellington live",
            "nightmare before xmas live",
            "danny elfman",
            "tim burton",
            "matthew patrick davis"
           ]
          ],
          [
           [
            "The Nightmare Before Christmas",
            "Animations",
            "FullHd",
            "Films",
            "Disney movies",
            "Full Movie",
            "christmas",
            "the nightmare before christmas evolution",
            "jack skellington",
            "nightmare",
            "fee animation",
            "nightmare before christmas",
            "the nightmare before christmas",
            "disney",
            "disney movies"
           ]
          ],
          [
           [
            "Nirvana",
            "GEFFEN",
            "Rock",
            "MTV",
            "Unplugged",
            "Man Who Sold The World",
            "Bowie",
            "NIRVANA THE MAN WHO SOLD THE WORLD",
            "THE MAN WHO SOLD THE WORLD NIRVANA",
            "kurt cobain",
            "krist novoselic",
            "dave grohl",
            "dave grohl NIRVANA",
            "NIRVANA dave grohl",
            "THE MAN WHO SOLD THE WORLD remastered",
            "THE MAN WHO SOLD THE WORLD remastered video",
            "NIRVANA remastered",
            "NIRVANA remastered videos",
            "remastered music videos",
            "kurt cobain NIRVANA",
            "THE",
            "MAN",
            "WHO",
            "SOLD",
            "WORLD",
            "NIRVANA",
            "hd"
           ]
          ],
          [
           [
            "video",
            "sharing",
            "camera phone",
            "video phone",
            "free",
            "upload"
           ]
          ],
          [
           [
            "grinch",
            "grinch evolution",
            "evolution of grinch",
            "mr grinch",
            "mr grinch song",
            "grinch trailer 2018",
            "grinch movie",
            "grinch benedict cumberbatch",
            "grinch jim carrey",
            "how grinch stole christmas",
            "grinch dog",
            "grinch max",
            "grinch max dog",
            "grinch tree",
            "christmas",
            "grinch christmas",
            "grinch 1966",
            "grinch original movie 1966",
            "christmas 2018",
            "christmas 2019",
            "2018",
            "darwin's media",
            "suphero"
           ]
          ],
          [
           [
            "THE NIGHTMARE BEFORE CHRISTMAS",
            "the nightmare before christmas experiments",
            "the nightmare before christmas clip",
            "nightmare before christmas",
            "jack skellington",
            "the nightmare before christmas full movie",
            "disney halloween",
            "nightmare",
            "stop motion animation",
            "christmas",
            "tim burton",
            "tim burton movies",
            "jack skellington and sally",
            "halloween",
            "halloween movies",
            "halloween cartoons",
            "this is halloween",
            "joblo",
            "joblo animated videos",
            "halloween movies for kids",
            "animation",
            "family",
            "fantasy"
           ]
          ],
          [
           [
            "you are my sunshine",
            "song",
            "cover",
            "duet",
            "lullaby album",
            "the hound the fox",
            "songs for sleep",
            "the hound",
            "the fox",
            "the hound + the fox",
            "lullaby song",
            "lullaby music"
           ]
          ],
          [
           [
            "video",
            "sharing",
            "camera phone",
            "video phone",
            "free",
            "upload"
           ]
          ],
          [
           [
            "nightmare before christmas",
            "nightmarebeforechristmas",
            "tim",
            "burton",
            "timburton",
            "oggie",
            "boogie",
            "nesting",
            "doll",
            "dolls",
            "stacking cups",
            "stacking",
            "cups",
            "toy",
            "toys",
            "doityourself",
            "do it yourself",
            "kid",
            "kids",
            "surprise",
            "unbox",
            "mystery",
            "nat",
            "essie",
            "christmas",
            "halloween",
            "holiday",
            "holidays"
           ]
          ],
          [
           [
            "nightmare before christmas final boss",
            "nightmare before christmas all bosses",
            "The Nightmare Before Christmas: Oogie's Revenge All Bosses",
            "jack skellington",
            "Oogie's Revenge",
            "Nightmare Before Christmas",
            "The Nightmare Before Christmas: Oogie's Revenge",
            "Tim Burton's The Nightmare Before Christmas",
            "oogie",
            "bosses",
            "all",
            "ps2",
            "xbox",
            "game",
            "gameplay",
            "wishingtikal",
            "movie game",
            "Boogy no Gyakushuu",
            "boss"
           ]
          ],
          [
           [
            "Frightfully Fun Parade",
            "Oogie Boogie Bash",
            "Disneyland",
            "Disney California Adventure",
            "DCA",
            "Disneyland Halloween Party",
            "Disneyland Halloween",
            "Disney California Adventure Halloween Party",
            "Disneyland Parade",
            "Disneyland Parade 2021",
            "Disney California Adventure Parade 2021",
            "Disneyland Halloween Parade",
            "Disneylannd Halloween Parade 2021",
            "Frightfully Fun 2021",
            "Frightfully Fun Parade 2021",
            "Disney California Adventure Parade"
           ]
          ],
          [
           [
            "video",
            "sharing",
            "camera phone",
            "video phone",
            "free",
            "upload"
           ]
          ],
          [
           [
            "hocus pocus",
            "i put a spell on you",
            "Bette Midler",
            "Sarah Jessica Parker",
            "Kathy Najimy",
            "performance",
            "watch halloween movies",
            "31 nights of halloween",
            "halloween costumes",
            "sing along",
            "lyric video",
            "freeform"
           ]
          ],
          [
           [
            "The Nightmare Before Christmas (Film)",
            "Song",
            "Entertainment",
            "Animation",
            "Film",
            "Movie",
            "Disney",
            "Lyrics",
            "Town Meeting",
            "Henry Selick (Film Writer)"
           ]
          ],
          [
           [
            "video",
            "sharing",
            "camera phone",
            "video phone",
            "free",
            "upload"
           ]
          ],
          [
           [
            "gamingcanbefun",
            "gaming",
            "can",
            "be",
            "fun",
            "gaming can be fun",
            "codester",
            "codester1113",
            "thecodester",
            "thecodester1113",
            "60fps",
            "hd",
            "HD",
            "ps1",
            "ps2",
            "ps3",
            "ps4",
            "kingdom hearts",
            "kingdom",
            "king",
            "heart",
            "hearts",
            "remix",
            "re",
            "mix",
            "final mix",
            "final",
            "movie",
            "cutscene",
            "cutscenes",
            "disney",
            "DISNEY",
            "walt",
            "1.5",
            "2.5",
            "2.8",
            "iii",
            "III",
            "hidden",
            "boss",
            "secret",
            "kingdom hearts 2",
            "kingdom hearts 2 final mix",
            "halloween",
            "town",
            "halloweentown",
            "jack",
            "skellington",
            "jack skellington",
            "oogie",
            "boogie",
            "oogie boogie",
            "lock",
            "shock",
            "barrel",
            "sally",
            "mayor"
           ]
          ],
          [
           [
            "hocus pocus",
            "i put a spell on you",
            "Bette Midler",
            "Sarah Jessica Parker",
            "Kathy Najimy",
            "performance",
            "watch halloween movies",
            "31 nights of halloween",
            "halloween costumes",
            "sing along",
            "lyric video",
            "freeform"
           ]
          ],
          [
           [
            "walgreens",
            "walgreens halloween",
            "nightmare before christmas",
            "nightmare before christmas toys",
            "nightmare before christmas gemmy",
            "halloween decor",
            "halloween decorations",
            "inflatable",
            "inflatables",
            "inflatable sally",
            "sally inflatable",
            "halloween store walkthrough",
            "halloween shopping",
            "halloween store",
            "nbc decorations",
            "nbc halloween",
            "circus maximus",
            "gemmy",
            "gemmy animatronics",
            "gemmy animatronic",
            "the nightmare before christmas",
            "animated plush",
            "the nightmare before christmas animated plush"
           ]
          ],
          [
           [
            "Daniel Radcliffe",
            "Rupert Grint",
            "Emma Watson",
            "Helena Bonham Carter",
            "Jim Broadbent",
            "Robbie Coltrane",
            "Warwick Davis",
            "Tom Felton",
            "Ralph Fiennes",
            "Michael Gambon",
            "Ciarán Hinds",
            "John Hurt",
            "Jason Isaacs",
            "harry",
            "potter"
           ]
          ],
          [
           [
            "video",
            "sharing",
            "camera phone",
            "video phone",
            "free",
            "upload"
           ]
          ],
          [
           [
            "video",
            "sharing",
            "camera phone",
            "video phone",
            "free",
            "upload"
           ]
          ],
          [
           [
            "jack skellington",
            "the nightmare before christmas",
            "jack skellington evolution",
            "the nightmare before christmas evolution",
            "evolution of jack skellington",
            "evolution of the nightmare before christmas",
            "jack skeleton",
            "jack skellington games",
            "the nightmare before christmas games",
            "the nightmare before christmas songs",
            "chrismas games",
            "christmas movies",
            "grinch",
            "how grinch stole christmas",
            "home alone",
            "rudolph red nosed reindeer",
            "santa claus"
           ]
          ],
          [
           [
            "The Addams Family The Addams Monsters",
            "The Addams Family Gomez",
            "The Addams Family Clip",
            "The Addams Family 2019",
            "The Addams Family Cartoon",
            "The Addams Family",
            "Addams Family",
            "Animation",
            "Comedy",
            "Family",
            "Family Entertainment",
            "Greg Tiernan",
            "MGM",
            "Joblo Animated Videos",
            "Gomez Addams",
            "Oscar Isaac",
            "Morticia Addams",
            "Charlize Theron",
            "Uncle Fester",
            "Nick Kroll",
            "The Addams Monsters"
           ]
          ],
          [
           [
            "matthew patrick davis",
            "matt davis",
            "mpd",
            "comedy songs",
            "musical comedy",
            "parody songs",
            "radiohead",
            "jonny greenwood",
            "thom yorke",
            "katy perry",
            "high and dry",
            "ok computer",
            "kid a",
            "ucb",
            "upright citizens brigade",
            "matthew davis",
            "sprint zombie",
            "musical theatre",
            "weird al",
            "Tom Lehrer (Musical Artist)",
            "Stephen Sondheim (Composer)"
           ]
          ],
          [
           [
            "nightmare before christmas movie",
            "nightmare before christmas",
            "night before christmas cutscenes",
            "game cutscenes",
            "cutscenes",
            "game movie",
            "kingdom hearts all cutscenes",
            "kingdom hearts cutscenes",
            "kingdom hearts",
            "game",
            "video game",
            "games for kids",
            "game movie full",
            "family video game",
            "kids game",
            "cinematics",
            "full movie",
            "kids movie",
            "wishingtikal",
            "all",
            "dream drop distance",
            "kingdom hearts 3d",
            "kingdom hearts movie",
            "cartoon movie",
            "cartoon game",
            "kids play",
            "disney princess"
           ]
          ],
          [
           [
            "Tim",
            "Burton's",
            "Corpse",
            "Bride:",
            "Piano",
            "Duet",
            "music",
            "video"
           ]
          ],
          [
           [
            "Daily bumps",
            "daily",
            "bumps",
            "nightmare before Christmas",
            "2017",
            "halloween special",
            "halloween",
            "skit",
            "Christmas",
            "Disney",
            "Pixar",
            "animation",
            "new",
            "surprise",
            "special",
            "captain Jake",
            "Oliver Lanning",
            "playtime",
            "toy play",
            "family friendly",
            "family",
            "fun",
            "mom",
            "dad",
            "group costume",
            "costume",
            "jack skellington",
            "toy story 4",
            "holiday",
            "oogie boogie",
            "cc",
            "closed caption"
           ]
          ],
          [
           [
            "disney+",
            "lizzie mcguire",
            "hilary duff",
            "toy story",
            "mandalorian",
            "baby yoda",
            "the child",
            "star wars",
            "marvel",
            "lucas film",
            "national geographic",
            "nat geo",
            "disney",
            "the simpsons",
            "streaming",
            "series",
            "tv",
            "movies",
            "films",
            "blockbuster",
            "the lion king"
           ]
          ],
          [
           [
            "RangrisGaming",
            "Nightmare Before Christmas",
            "nightmare",
            "before",
            "christmas",
            "Nightmare Before Christmas ps2",
            "playstation",
            "Nightmare Before Christmas no damage",
            "Nightmare Before Christmas final boss",
            "oogie",
            "boogie",
            "all bosses",
            "no damage",
            "all boss fights",
            "boss rush",
            "gameplay",
            "4k",
            "60fps",
            "gaming",
            "ending",
            "final boss",
            "revenge"
           ]
          ],
          [
           [
            "DU Recorder"
           ]
          ],
          [
           [
            "How Far I'll Go (from Moana/Official Video)",
            "Auli'i Cravalho"
           ]
          ],
          [
           [
            "RangrisGaming",
            "Nightmare Before Christmas",
            "nightmare",
            "before",
            "christmas",
            "Nightmare Before Christmas ps2",
            "playstation",
            "Nightmare Before Christmas no damage",
            "Nightmare Before Christmas final boss",
            "oogie",
            "boogie",
            "all bosses",
            "no damage",
            "all boss fights",
            "boss rush",
            "gameplay",
            "4k",
            "60fps",
            "gaming",
            "ending",
            "final boss",
            "revenge"
           ]
          ],
          [
           [
            "The Addams Family 2 Featurette What Makes A Family 2021",
            "The Addams Family 2 Featurette What Makes A Family",
            "The Addams Family 2",
            "The Addams Family 2 2021",
            "The Addams Family",
            "Morticia Addams",
            "Charlize Theron",
            "Wednesday Addams",
            "Chloë Grace Moretz",
            "Gomez Addams",
            "Oscar Isaac",
            "Uncle Fester",
            "Nick Kroll",
            "Snoop Dogg",
            "It",
            "Pugsley Addams",
            "Javon 'Wanna' Walton",
            "Grandma",
            "Bette Midler",
            "Joblo Animated Videos",
            "The Addams Family 2 Trailer",
            "Force Of Nature",
            "The Addams Camper"
           ]
          ],
          [
           [
            "gamingcanbefun",
            "gaming",
            "can",
            "be",
            "fun",
            "gaming can be fun",
            "codester",
            "codester1113",
            "thecodester",
            "thecodester1113",
            "60fps",
            "hd",
            "HD",
            "ps1",
            "ps2",
            "ps3",
            "ps4",
            "kingdom hearts",
            "kingdom",
            "king",
            "heart",
            "hearts",
            "remix",
            "re",
            "mix",
            "final mix",
            "final",
            "movie",
            "cutscene",
            "cutscenes",
            "disney",
            "DISNEY",
            "walt",
            "1.5",
            "2.5",
            "2.8",
            "iii",
            "III",
            "hidden",
            "boss",
            "secret",
            "kingdom hearts 2",
            "kingdom hearts 2 final mix",
            "halloween",
            "town",
            "halloweentown",
            "jack",
            "skellington",
            "jack skellington",
            "oogie",
            "boogie",
            "oogie boogie",
            "lock",
            "shock",
            "barrel",
            "sally",
            "mayor"
           ]
          ],
          [
           [
            "video",
            "sharing",
            "camera phone",
            "video phone",
            "free",
            "upload"
           ]
          ],
          [
           [
            "Best Halloween Songs 2020",
            "Halloween Party Music Mix",
            "The Best Halloween Party Playlist 2020",
            "Halloween Songs 2020",
            "Halloween",
            "halloween 2020 music playlist",
            "halloween 2020",
            "halloween 2020 song",
            "Halloween Songs",
            "Best Halloween Songs",
            "best halloween songs 2020",
            "best halloween songs for parties",
            "best halloween songs playlist",
            "best halloween songs of all time",
            "Halloween Party Music",
            "halloween music",
            "halloween music 2020",
            "best sounds",
            "trick or treat music"
           ]
          ],
          [
           [
            "nightmare",
            "before",
            "christmas",
            "jack",
            "and",
            "sally",
            "montage",
            "piano",
            "instrumental",
            "cover",
            "tutorial",
            "how",
            "to",
            "play",
            "synthesia"
           ]
          ],
          [
           [
            "The Nightmare Before Christmas (Film)",
            "nightmare",
            "before",
            "Christmas (Holiday)",
            "Halloween (Holiday)",
            "oogie",
            "boogie",
            "tickle",
            "grope",
            "caress",
            "sally",
            "foot",
            "leg",
            "santa",
            "rescue",
            "shoe",
            "Feet"
           ]
          ],
          [
           [
            "video",
            "sharing",
            "camera phone",
            "video phone",
            "free",
            "upload"
           ]
          ],
          [
           [
            "THE NIGHTMARE BEFORE CHRISTMAS",
            "the nightmare before christmas experiments",
            "the nightmare before christmas clip",
            "nightmare before christmas",
            "jack skellington",
            "the nightmare before christmas full movie",
            "disney halloween",
            "nightmare",
            "stop motion animation",
            "christmas",
            "tim burton",
            "tim burton movies",
            "jack skellington and sally",
            "halloween",
            "halloween movies",
            "halloween cartoons",
            "this is halloween",
            "joblo",
            "joblo animated videos",
            "halloween movies for kids",
            "animation",
            "family",
            "fantasy"
           ]
          ],
          [
           [
            "video",
            "sharing",
            "camera phone",
            "video phone",
            "free",
            "upload"
           ]
          ],
          [
           [
            "the",
            "nightmare",
            "before",
            "christmas",
            "tim",
            "burton",
            "soundtrack",
            "danny",
            "elfman",
            "orchestra"
           ]
          ],
          [
           [
            "coraline full game",
            "coraline longplay",
            "coraline full gameplay",
            "coraline full",
            "coraline full movie",
            "coraline walkthrough",
            "wii",
            "game",
            "coraline walkthrough part 1",
            "wishingtikal",
            "coraline",
            "walkthrough",
            "coraline movie",
            "ps2",
            "gameplay",
            "Coraline (Video Game)",
            "watch",
            "full movie",
            "full game",
            "coraline part 1",
            "coraline gameplay"
           ]
          ],
          [
           [
            "nightmare before christmas game",
            "kingdom hearts",
            "jack skellington",
            "jack the pumpkin king",
            "jack and sally",
            "nightmare before christmas",
            "nightmare before christmas video game",
            "kids videogame movie",
            "game",
            "video game",
            "videogame",
            "family video game",
            "family videogame",
            "family friendly video game",
            "now toons",
            "oogie boogie",
            "halloween town",
            "halloween",
            "christmas",
            "sandy claws",
            "sally",
            "dr finklestein",
            "lock shock and barrel",
            "disney game",
            "disney video game",
            "video game movie",
            "game cutscenes"
           ]
          ],
          [
           [
            "it",
            "it evolution",
            "evolution of it",
            "pennywise",
            "pennywise evolution",
            "evolution of pennywise",
            "clown",
            "scary clown",
            "scary clown movie",
            "stephen king",
            "stephen king movies",
            "stephen king's it",
            "it 2017",
            "it 1990",
            "pennywise origin",
            "halloween",
            "friday the 13th",
            "michael myers",
            "scream",
            "ghostface",
            "child's play",
            "chucky",
            "jason voorhees",
            "nightmare on elm street",
            "freddy krueger",
            "leatherface",
            "jigsaw",
            "saw",
            "anabelle doll",
            "scary movie",
            "suphero",
            "darwin's media",
            "2018"
           ]
          ],
          [
           [
            "video",
            "sharing",
            "camera phone",
            "video phone",
            "free",
            "upload"
           ]
          ],
          [
           [
            "halloween",
            "flapper",
            "jazz age",
            "prohibition",
            "vintage",
            "scary",
            "horror",
            "big band",
            "costume party",
            "dorothy parker",
            "downton abbey",
            "ghost",
            "frankenstein",
            "the shining",
            "victrola",
            "dracula",
            "vampire",
            "witch",
            "magic",
            "devil",
            "haunted house",
            "1920's",
            "1930's",
            "speak easy",
            "cab calloway",
            "minnie the moocher",
            "masquerade"
           ]
          ],
          [
           [
            "gamingcanbefun",
            "gaming",
            "can",
            "be",
            "fun",
            "gaming can be fun",
            "codester",
            "codester1113",
            "thecodester",
            "thecodester1113",
            "60fps",
            "hd",
            "HD",
            "ps1",
            "ps2",
            "ps3",
            "ps4",
            "kingdom hearts",
            "kingdom",
            "king",
            "heart",
            "hearts",
            "remix",
            "re",
            "mix",
            "final mix",
            "final",
            "movie",
            "cutscene",
            "cutscenes",
            "disney",
            "DISNEY",
            "walt",
            "1.5",
            "2.5",
            "2.8",
            "iii",
            "III",
            "hidden",
            "boss",
            "secret",
            "kingdom hearts 2",
            "kingdom hearts 2 final mix",
            "halloween",
            "town",
            "halloweentown",
            "jack",
            "skellington",
            "jack skellington",
            "oogie",
            "boogie",
            "oogie boogie",
            "lock",
            "shock",
            "barrel",
            "sally",
            "mayor"
           ]
          ],
          [
           [
            "tim burton",
            "introduction",
            "intro",
            "nightmare before christmas",
            "blu-ray",
            "blu ray",
            "high definition",
            "hd",
            "hq",
            "christmas",
            "halloween",
            "holidays",
            "disney",
            "halloween town",
            "408nate08"
           ]
          ],
          [
           [
            "RangrisGaming",
            "Nightmare Before Christmas",
            "nightmare",
            "before",
            "christmas",
            "Nightmare Before Christmas ps2",
            "playstation",
            "Nightmare Before Christmas no damage",
            "Nightmare Before Christmas final boss",
            "oogie",
            "boogie",
            "all bosses",
            "no damage",
            "all boss fights",
            "boss rush",
            "gameplay",
            "4k",
            "60fps",
            "gaming",
            "ending",
            "final boss",
            "revenge"
           ]
          ],
          [
           [
            "Venom",
            "carnage",
            "cletus kasady",
            "eddie brock",
            "let there be carnage",
            "marvel",
            "marvel cinematic universe",
            "mcu",
            "pg-13",
            "pitch meeting",
            "plot holes",
            "post-credit",
            "ryan george",
            "screen rant",
            "spider-man",
            "super easy barely an inconvenience",
            "symbiote",
            "tom hardy",
            "tom holland",
            "venom 2",
            "woody harrelson"
           ]
          ],
          [
           [
            "Beetlejuice",
            "Critter",
            "Sitters",
            "Clip",
            "Lydia",
            "Deetz",
            "Summoning",
            "Cartoon",
            "Tim",
            "Burton",
            "80's",
            "Pilot"
           ]
          ],
          [
           [
            "nightmare",
            "before",
            "christmas",
            "jack",
            "and",
            "sally",
            "montage",
            "piano",
            "instrumental",
            "cover",
            "tutorial",
            "how",
            "to",
            "play",
            "synthesia"
           ]
          ],
          [
           [
            "video",
            "sharing",
            "camera phone",
            "video phone",
            "free",
            "upload"
           ]
          ],
          [
           [
            "Ghostbusters",
            "theme",
            "song",
            "original",
            "game",
            "tune",
            "main",
            "spooky",
            "meme"
           ]
          ],
          [
           [
            "Danny Elfman",
            "ダニーエルフマン",
            "ダニー・エルフマン",
            "Дэнни Эльфман",
            "Nightmare Before Christmas Special Edition",
            "What's This?",
            "クリスマスッテ",
            "クリスマスって?"
           ]
          ],
          [
           [
            "minuscule movie",
            "minuscule",
            "miniscule clip",
            "ladybug",
            "insects",
            "animation",
            "minúsculo",
            "the black ant",
            "animated series",
            "minuscule movie trailer",
            "minuscule ants",
            "minuscule animation movie",
            "minuscule valley lost ants",
            "valley of the lost ants",
            "joblo",
            "joblo animated videos",
            "adventure",
            "family"
           ]
          ],
          [
           [
            "One Media",
            "One",
            "Cinema",
            "Trailer",
            "Official",
            "Movie",
            "Film",
            "Hotel Transylvania 4 Trailer",
            "Hotel Transylvania 4 Trailer 2",
            "Transformania",
            "Animation",
            "Transylvania 4",
            "selena gomez",
            "New",
            "2021",
            "Dracula",
            "Trailer 2"
           ]
          ],
          [
           [
            "THE NIGHTMARE BEFORE CHRISTMAS Trick or Treaters",
            "the nightmare before christmas",
            "nightmare",
            "christmas",
            "the nightmare before christmas clip",
            "nightmare before christmas",
            "disney halloween",
            "the nightmare before christmas full movie",
            "halloween",
            "jack skellington and sally",
            "jack skellington",
            "tim burton",
            "halloween movies for kids",
            "tim burton movies",
            "halloween movies",
            "stop motion animation",
            "this is halloween",
            "halloween cartoons",
            "joblo",
            "joblo animated videos",
            "animation",
            "fantasy",
            "family"
           ]
          ],
          [
           [
            "Nightmare",
            "Before",
            "Christmas",
            "Sally",
            "Oogie",
            "Boogie",
            "Finklestein",
            "All",
            "Parts",
            "Body",
            "Arm",
            "Leg",
            "Foot",
            "Tickle",
            "Sew",
            "Dismember",
            "Decoy",
            "Attract",
            "Attractive",
            "Seduce",
            "Seductive",
            "Scene",
            "Rag",
            "Doll"
           ]
          ],
          [
           [
            "hocus pocus",
            "i put a spell on you",
            "Bette Midler",
            "Sarah Jessica Parker",
            "Kathy Najimy",
            "performance",
            "watch halloween movies",
            "31 nights of halloween",
            "halloween costumes",
            "sing along",
            "lyric video",
            "freeform"
           ]
          ],
          [
           [
            "The Nightmare Before Christmas (Film)",
            "Lyrics",
            "Song",
            "Entertainment",
            "Animation",
            "Film",
            "Movie",
            "Disney",
            "Kidnap the Sandy Claws",
            "Henry Selick (Film Writer)"
           ]
          ],
          [
           [
            "Luis",
            "Ángel",
            "Gómez",
            "Jaramillo",
            "Gael",
            "García",
            "Bernal",
            "Poco",
            "Loco",
            "Walt",
            "Disney",
            "Records",
            "Soundtrack"
           ]
          ],
          [
           [
            "it",
            "it evolution",
            "evolution of it",
            "pennywise",
            "pennywise evolution",
            "evolution of pennywise",
            "clown",
            "scary clown",
            "scary clown movie",
            "stephen king",
            "stephen king movies",
            "stephen king's it",
            "it 2017",
            "it 1990",
            "pennywise origin",
            "halloween",
            "friday the 13th",
            "michael myers",
            "scream",
            "ghostface",
            "child's play",
            "chucky",
            "jason voorhees",
            "nightmare on elm street",
            "freddy krueger",
            "leatherface",
            "jigsaw",
            "saw",
            "anabelle doll",
            "scary movie",
            "suphero",
            "darwin's media",
            "2018"
           ]
          ],
          [
           [
            "video",
            "sharing",
            "camera phone",
            "video phone",
            "free",
            "upload"
           ]
          ],
          [
           [
            "Ray Parker",
            "Jr. レイパーカージュニア Ghostbusters (Original Motion Picture Soundtrack) Ghostbusters"
           ]
          ],
          [
           [
            "Frightfully Fun Parade",
            "Mickey's Halloween Party",
            "Jack Skellington",
            "Disney Villains",
            "Disneyland",
            "HalloweenTime",
            "Disney Halloween",
            "Gaston",
            "Haunted Mansion",
            "Hitchhiking Ghosts",
            "Mickey Mouse",
            "Ursula",
            "Disneyland Parade",
            "Red Queen",
            "Jack and Sally",
            "Dr. Facilier",
            "Captain Hook",
            "Minnie Mouse",
            "Evil Queen",
            "Jafar",
            "Disneyland Halloween Parade",
            "Disney Halloween Parade",
            "Nightmare Before Christmas",
            "Haunted Mansion Float",
            "Main Street",
            "Lady Tremaine",
            "Cruella DeVil",
            "Boo to You",
            "Not So Scary"
           ]
          ],
          [
           [
            "jack skellington",
            "the nightmare before christmas",
            "jack skellington evolution",
            "the nightmare before christmas evolution",
            "evolution of jack skellington",
            "evolution of the nightmare before christmas",
            "jack skeleton",
            "jack skellington games",
            "the nightmare before christmas games",
            "the nightmare before christmas songs",
            "chrismas games",
            "christmas movies",
            "grinch",
            "how grinch stole christmas",
            "home alone",
            "rudolph red nosed reindeer",
            "santa claus"
           ]
          ],
          [
           [
            "video",
            "sharing",
            "camera phone",
            "video phone",
            "free",
            "upload"
           ]
          ],
          [
           [
            "DU Recorder"
           ]
          ],
          [
           [
            "video",
            "sharing",
            "camera phone",
            "video phone",
            "free",
            "upload"
           ]
          ],
          [
           [
            "the",
            "nightmare",
            "before",
            "christmas",
            "tim",
            "burton",
            "soundtrack",
            "danny",
            "elfman",
            "orchestra"
           ]
          ],
          [
           [
            "video",
            "sharing",
            "camera phone",
            "video phone",
            "free",
            "upload"
           ]
          ],
          [
           [
            "nightmare before christmas",
            "nightmarebeforechristmas",
            "tim",
            "burton",
            "timburton",
            "oggie",
            "boogie",
            "nesting",
            "doll",
            "dolls",
            "stacking cups",
            "stacking",
            "cups",
            "toy",
            "toys",
            "doityourself",
            "do it yourself",
            "kid",
            "kids",
            "surprise",
            "unbox",
            "mystery",
            "nat",
            "essie",
            "christmas",
            "halloween",
            "holiday",
            "holidays"
           ]
          ],
          [
           [
            "Cruella",
            "Cruella Movie",
            "Cruella 2021",
            "Cruella Movie 2021",
            "Cruella Scene",
            "Cruella Scenes",
            "Cruella Scene Movie",
            "Cruella Movie Scene",
            "Cruella Best Moments",
            "Cruella Best Moment",
            "Cruella Best Scenes",
            "Cruella Best Scene",
            "Cruella Ending Scene",
            "Cruella Ending",
            "Cruella Funeral Scene",
            "Cruella Funeral",
            "Cruella Estella Funeral Scene",
            "Cruella Estella Funeral",
            "Cruella Baroness Gets Arrested Scene",
            "Cruella Baroness Gets Arrested",
            "Estella Funeral Scene",
            "Emma Stone",
            "Emma Thompson"
           ]
          ],
          [
           [
            "Beetlejuice",
            "halloween",
            "Michael keaton",
            "its showtime",
            "2020",
            "halloween decorations",
            "ghost",
            "halloween house",
            "house projection",
            "best decorations",
            "cool",
            "movie",
            "Tim burton",
            "lydia",
            "Winona ryder",
            "Beetlejuice 2",
            "snake",
            "Alec baldwin",
            "the nightmare before Christmas",
            "jack skellington",
            "spooky",
            "scary",
            "fun"
           ]
          ],
          [
           [
            "video",
            "sharing",
            "camera phone",
            "video phone",
            "free",
            "upload"
           ]
          ],
          [
           [
            "Nightmare Before Christmas",
            "Live",
            "Jack's Lament",
            "jack skellington",
            "broadway",
            "halloween",
            "NmBC",
            "jack skellington live",
            "nightmare before xmas live",
            "danny elfman",
            "tim burton",
            "matthew patrick davis"
           ]
          ],
          [
           [
            "it",
            "it evolution",
            "evolution of it",
            "pennywise",
            "pennywise evolution",
            "evolution of pennywise",
            "clown",
            "scary clown",
            "scary clown movie",
            "stephen king",
            "stephen king movies",
            "stephen king's it",
            "it 2017",
            "it 1990",
            "pennywise origin",
            "halloween",
            "friday the 13th",
            "michael myers",
            "scream",
            "ghostface",
            "child's play",
            "chucky",
            "jason voorhees",
            "nightmare on elm street",
            "freddy krueger",
            "leatherface",
            "jigsaw",
            "saw",
            "anabelle doll",
            "scary movie",
            "suphero",
            "darwin's media",
            "2018"
           ]
          ],
          [
           [
            "gamingcanbefun",
            "gaming",
            "can",
            "be",
            "fun",
            "gaming can be fun",
            "codester",
            "codester1113",
            "thecodester",
            "thecodester1113",
            "60fps",
            "hd",
            "HD",
            "ps1",
            "ps2",
            "ps3",
            "ps4",
            "kingdom hearts",
            "kingdom",
            "king",
            "heart",
            "hearts",
            "remix",
            "re",
            "mix",
            "final mix",
            "final",
            "movie",
            "cutscene",
            "cutscenes",
            "disney",
            "DISNEY",
            "walt",
            "1.5",
            "2.5",
            "2.8",
            "iii",
            "III",
            "hidden",
            "boss",
            "secret",
            "kingdom hearts 2",
            "kingdom hearts 2 final mix",
            "halloween",
            "town",
            "halloweentown",
            "jack",
            "skellington",
            "jack skellington",
            "oogie",
            "boogie",
            "oogie boogie",
            "lock",
            "shock",
            "barrel",
            "sally",
            "mayor"
           ]
          ],
          [
           [
            "video",
            "sharing",
            "camera phone",
            "video phone",
            "free",
            "upload"
           ]
          ],
          [
           [
            "monster",
            "in",
            "paris",
            "Sean",
            "Lennon",
            "monsterinparis",
            "cartoon",
            "songs"
           ]
          ],
          [
           [
            "nightmare",
            "before",
            "christmas",
            "jack",
            "and",
            "sally",
            "montage",
            "piano",
            "instrumental",
            "cover",
            "tutorial",
            "how",
            "to",
            "play",
            "synthesia"
           ]
          ],
          [
           [
            "video",
            "sharing",
            "camera phone",
            "video phone",
            "free",
            "upload"
           ]
          ],
          [
           [
            "The Nightmare Before Christmas",
            "Animations",
            "FullHd",
            "Films",
            "Disney movies",
            "Full Movie",
            "christmas",
            "the nightmare before christmas evolution",
            "jack skellington",
            "nightmare",
            "fee animation",
            "nightmare before christmas",
            "the nightmare before christmas",
            "disney",
            "disney movies"
           ]
          ],
          [
           [
            "Nightmare Before Christmas",
            "Live",
            "Jack's Lament",
            "jack skellington",
            "broadway",
            "halloween",
            "NmBC",
            "jack skellington live",
            "nightmare before xmas live",
            "danny elfman",
            "tim burton",
            "matthew patrick davis"
           ]
          ],
          [
           [
            "scooby-doo unmasked walkthrough",
            "unmasked",
            "100%",
            "Scooby-Doo! Unmasked (Video Game)",
            "scooby-doo",
            "100% walkthrough",
            "walkthrough",
            "gameplay",
            "ps2",
            "gamecube",
            "game",
            "xbox",
            "wishingtikal",
            "cartoon",
            "watch",
            "all episodes",
            "Scooby-Doo! Unmasked longplay",
            "full game",
            "full movie"
           ]
          ],
          [
           [
            "THE NIGHTMARE BEFORE CHRISTMAS",
            "the nightmare before christmas experiments",
            "the nightmare before christmas clip",
            "nightmare before christmas",
            "jack skellington",
            "the nightmare before christmas full movie",
            "disney halloween",
            "nightmare",
            "stop motion animation",
            "christmas",
            "tim burton",
            "tim burton movies",
            "jack skellington and sally",
            "halloween",
            "halloween movies",
            "halloween cartoons",
            "this is halloween",
            "joblo",
            "joblo animated videos",
            "halloween movies for kids",
            "animation",
            "family",
            "fantasy"
           ]
          ],
          [
           [
            "sonic 2 official trailer",
            "sonic 2",
            "sonic the hedgehog 2",
            "sonic the hedgehog 2 official trailer",
            "sonic the hedgehog new movie",
            "sonic the hedgehog 2021",
            "new sonic movie",
            "sonic 2 movie",
            "sonic chapter 2",
            "new sonic movie 2021",
            "sonic 2 fan trailer",
            "sonic 2 trailer",
            "official trailer",
            "trailer sonic",
            "sonic two official trailer",
            "sonic movie 2",
            "shadow sonic tails movie",
            "sonic",
            "two",
            "sonic 2021",
            "new official trailer",
            "SONIC: THE HEDGEHOG 2 (2021) - Official Trailer",
            "hedgehog 2 trailer"
           ]
          ],
          [
           [
            "nightmare before christmas",
            "jack skeleton",
            "jack skellington",
            "sally",
            "oogie boogie",
            "oogie",
            "boogie",
            "full",
            "toysunlimited",
            "toys unlimited",
            "surprise",
            "kid",
            "kids",
            "nesting",
            "matryoshka",
            "nesting dolls",
            "diy",
            "do it yourself",
            "toy",
            "toys"
           ]
          ],
          [
           [
            "video",
            "sharing",
            "camera phone",
            "video phone",
            "free",
            "upload"
           ]
          ],
          [
           [
            "Disney+",
            "Disney Plus",
            "Disney",
            "streaming"
           ]
          ],
          [
           [
            "video",
            "sharing",
            "camera phone",
            "video phone",
            "free",
            "upload"
           ]
          ],
          [
           [
            "Nightmare Before Christmas",
            "Live",
            "Jack's Lament",
            "jack skellington",
            "broadway",
            "halloween",
            "NmBC",
            "jack skellington live",
            "nightmare before xmas live",
            "danny elfman",
            "tim burton",
            "matthew patrick davis"
           ]
          ],
          [
           [
            "TEEJ",
            "shrek 5 trailer",
            "shrek 5 full movie",
            "shrek 5 official trailer",
            "shrek 5 minutes",
            "shrek 5 full movie english",
            "shrek 5/10",
            "shrek 5 movie",
            "shrek 5 movie trailer",
            "shrek 5 trailer 2021",
            "shrek 5 animation",
            "shrek 5 about",
            "shrek 5 announced",
            "shrek 5 a new beginning",
            "shrek 5 art style",
            "shrek 5 aparat",
            "shrek 5 bande annonce français",
            "shrek 5 bande annonce vf",
            "shrek 5 but it's not shrek",
            "shrek 5 budget",
            "shrek 5 bg audio",
            "shrek but in 5 seconds",
            "shrek but every 5 seconds"
           ]
          ],
          [
           [
            "RangrisGaming",
            "Nightmare Before Christmas",
            "nightmare",
            "before",
            "christmas",
            "Nightmare Before Christmas ps2",
            "playstation",
            "Nightmare Before Christmas no damage",
            "Nightmare Before Christmas final boss",
            "oogie",
            "boogie",
            "all bosses",
            "no damage",
            "all boss fights",
            "boss rush",
            "gameplay",
            "4k",
            "60fps",
            "gaming",
            "ending",
            "final boss",
            "revenge"
           ]
          ],
          [
           [
            "Venom",
            "carnage",
            "cletus kasady",
            "eddie brock",
            "let there be carnage",
            "marvel",
            "marvel cinematic universe",
            "mcu",
            "pg-13",
            "pitch meeting",
            "plot holes",
            "post-credit",
            "ryan george",
            "screen rant",
            "spider-man",
            "super easy barely an inconvenience",
            "symbiote",
            "tom hardy",
            "tom holland",
            "venom 2",
            "woody harrelson"
           ]
          ],
          [
           [
            "video",
            "sharing",
            "camera phone",
            "video phone",
            "free",
            "upload"
           ]
          ],
          [
           [
            "new",
            "nightmare before christmas",
            "nightmare before christmas toys",
            "pez",
            "candy",
            "candies",
            "pez candies",
            "pez dispenser",
            "dispenser",
            "duspensers",
            "toy",
            "toys",
            "surprise",
            "surprises",
            "mashems",
            "jack skeleton",
            "jack skellington",
            "sally",
            "oggie",
            "oogie",
            "boogie",
            "oogie boogie",
            "mayor",
            "pumkpin king",
            "vampire teddy",
            "funko",
            "pop",
            "funko pez",
            "nightmare before christmas pez",
            "nightmare before christmas mashems",
            "best",
            "characters",
            "full",
            "set",
            "toysunlimited",
            "toys unlimited"
           ]
          ],
          [
           [
            "The Nightmare Before Christmas",
            "Animations",
            "FullHd",
            "Films",
            "Disney movies",
            "Full Movie",
            "christmas",
            "the nightmare before christmas evolution",
            "jack skellington",
            "nightmare",
            "fee animation",
            "nightmare before christmas",
            "the nightmare before christmas",
            "disney",
            "disney movies"
           ]
          ],
          [
           [
            "video",
            "sharing",
            "camera phone",
            "video phone",
            "free",
            "upload"
           ]
          ],
          [
           [
            "Nightmare Before Christmas",
            "Live",
            "Jack's Lament",
            "jack skellington",
            "broadway",
            "halloween",
            "NmBC",
            "jack skellington live",
            "nightmare before xmas live",
            "danny elfman",
            "tim burton",
            "matthew patrick davis"
           ]
          ],
          [
           [
            "video",
            "sharing",
            "camera phone",
            "video phone",
            "free",
            "upload"
           ]
          ],
          [
           [
            "gamingcanbefun",
            "gaming",
            "can",
            "be",
            "fun",
            "gaming can be fun",
            "codester",
            "codester1113",
            "thecodester",
            "thecodester1113",
            "60fps",
            "hd",
            "HD",
            "ps1",
            "ps2",
            "ps3",
            "ps4",
            "kingdom hearts",
            "kingdom",
            "king",
            "heart",
            "hearts",
            "remix",
            "re",
            "mix",
            "final mix",
            "final",
            "movie",
            "cutscene",
            "cutscenes",
            "disney",
            "DISNEY",
            "walt",
            "1.5",
            "2.5",
            "2.8",
            "iii",
            "III",
            "hidden",
            "boss",
            "secret",
            "kingdom hearts 2",
            "kingdom hearts 2 final mix",
            "halloween",
            "town",
            "halloweentown",
            "jack",
            "skellington",
            "jack skellington",
            "oogie",
            "boogie",
            "oogie boogie",
            "lock",
            "shock",
            "barrel",
            "sally",
            "mayor"
           ]
          ],
          [
           [
            "Tim Burton's Corpse Bride Soundtrack",
            "Tim Burton's Corpse Bride Original Motion Picture Soundtrack",
            "The Piano Duet"
           ]
          ],
          [
           [
            "Screen Rant",
            "ScreenRant",
            "Zootopia",
            "Aladdin",
            "The Little Mermaid",
            "The Incredibles",
            "Monsters Inc",
            "Frozen",
            "Toy Story",
            "Robin Hood",
            "Mulan",
            "UP!",
            "Inside Out",
            "The Lion King",
            "Finding Dory",
            "Alice in Wonderland",
            "Moana"
           ]
          ],
          [
           [
            "The Nightmare Before Christmas (Film)",
            "Lyrics",
            "Song",
            "Film",
            "Movie",
            "Henry Selick (Film Writer)",
            "Disney",
            "Entertainment",
            "Animation",
            "Finale"
           ]
          ],
          [
           [
            "nightmare before christmas",
            "nightmarebeforechristmas",
            "tim",
            "burton",
            "timburton",
            "oggie",
            "boogie",
            "nesting",
            "doll",
            "dolls",
            "stacking cups",
            "stacking",
            "cups",
            "toy",
            "toys",
            "doityourself",
            "do it yourself",
            "kid",
            "kids",
            "surprise",
            "unbox",
            "mystery",
            "nat",
            "essie",
            "christmas",
            "halloween",
            "holiday",
            "holidays"
           ]
          ],
          [
           [
            "Primus",
            "Interscope",
            "Rock"
           ]
          ],
          [
           [
            "The Nightmare Before Christmas (Film)",
            "nightmare",
            "before",
            "christmas",
            "sally",
            "jack",
            "sew",
            "jump"
           ]
          ],
          [
           [
            "Silly Symphonies (Film Series)",
            "the skeleton dance",
            "halloween",
            "disney",
            "disney animation",
            "walt disney",
            "walt disney animation studios"
           ]
          ],
          [
           [
            "halloween kills trailer",
            "halloween kills",
            "trailer",
            "halloween kills teaser",
            "footage",
            "halloween kills opening",
            "jamie lee curtis",
            "michael myers",
            "laurie strode",
            "michael myers fire",
            "halloween 2018",
            "halloween kills official trailer",
            "2020",
            "official trailer",
            "halloween kills clip",
            "joblo",
            "trailer 2",
            "new trailer",
            "2021",
            "halloween kills trailer 2",
            "tv spot",
            "halloween kills tv spot",
            "b-roll",
            "halloween kills b-roll",
            "behind the scenes",
            "halloween kills behind the scenes",
            "featurette",
            "outtakes"
           ]
          ],
          [
           [
            "nightmare before christmas movie",
            "nightmare before christmas",
            "night before christmas cutscenes",
            "game cutscenes",
            "cutscenes",
            "game movie",
            "kingdom hearts all cutscenes",
            "kingdom hearts cutscenes",
            "kingdom hearts",
            "game",
            "video game",
            "games for kids",
            "game movie full",
            "family video game",
            "kids game",
            "cinematics",
            "full movie",
            "kids movie",
            "wishingtikal",
            "all",
            "dream drop distance",
            "kingdom hearts 3d",
            "kingdom hearts movie",
            "cartoon movie",
            "cartoon game",
            "kids play",
            "disney princess"
           ]
          ],
          [
           [
            "video",
            "sharing",
            "camera phone",
            "video phone",
            "free",
            "upload"
           ]
          ],
          [
           [
            "disney+",
            "lizzie mcguire",
            "hilary duff",
            "toy story",
            "mandalorian",
            "baby yoda",
            "the child",
            "star wars",
            "marvel",
            "lucas film",
            "national geographic",
            "nat geo",
            "disney",
            "the simpsons",
            "streaming",
            "series",
            "tv",
            "movies",
            "films",
            "blockbuster",
            "the lion king"
           ]
          ],
          [
           [
            "Nightmare Before Christmas",
            "Live",
            "Jack's Lament",
            "jack skellington",
            "broadway",
            "halloween",
            "NmBC",
            "jack skellington live",
            "nightmare before xmas live",
            "danny elfman",
            "tim burton",
            "matthew patrick davis"
           ]
          ],
          [
           [
            "halloween music",
            "relaxing halloween music",
            "relaxing music",
            "relaxing dark music",
            "relaxing gothic music",
            "halloween",
            "relaxing spooky music",
            "spooky halloween music",
            "halloween instrumental music",
            "relaxing autumn music",
            "music",
            "halloween autumn music",
            "halloween fall music",
            "instrumental music",
            "dark lullaby music",
            "halloween ambience",
            "soothing halloween music",
            "halloween music mix",
            "scary halloween music",
            "haunted halloween music",
            "halloween sleep music",
            "halloween background music"
           ]
          ],
          [
           [
            "video",
            "sharing",
            "camera phone",
            "video phone",
            "free",
            "upload"
           ]
          ],
          [
           [
            "Jim Henson",
            "Fantasy Channel",
            "Labryinth",
            "Jennifer Connelly",
            "David Bowie",
            "puppets",
            "goblin king",
            "sarah",
            "jareth",
            "magic dance",
            "80s",
            "cult classic",
            "80s film",
            "vintage",
            "throwback",
            "flashback",
            "magic",
            "magical",
            "fantasy",
            "goblins",
            "jim henson workshop",
            "dark magic",
            "baby",
            "bowie",
            "toby",
            "hoggle",
            "ludo",
            "labyrinth soundtrack",
            "labyrinth music"
           ]
          ],
          [
           [
            "The",
            "Nightmare",
            "Before",
            "Christmas",
            "Tim",
            "Burton",
            "Henry",
            "Selick",
            "Danny",
            "Elfman",
            "Pete",
            "Kozachik",
            "Stan",
            "Webb",
            "Caroline",
            "Thompson",
            "Jack",
            "Skellington",
            "Catherine",
            "O'Hara",
            "Sally",
            "Love",
            "Marriage",
            "Togetherness"
           ]
          ],
          [
           [
            "grinch",
            "grinch evolution",
            "evolution of grinch",
            "mr grinch",
            "mr grinch song",
            "grinch trailer 2018",
            "grinch movie",
            "grinch benedict cumberbatch",
            "grinch jim carrey",
            "how grinch stole christmas",
            "grinch dog",
            "grinch max",
            "grinch max dog",
            "grinch tree",
            "christmas",
            "grinch christmas",
            "grinch 1966",
            "grinch original movie 1966",
            "christmas 2018",
            "christmas 2019",
            "2018",
            "darwin's media",
            "suphero"
           ]
          ],
          [
           [
            "gamingcanbefun",
            "gaming",
            "can",
            "be",
            "fun",
            "gaming can be fun",
            "codester",
            "codester1113",
            "thecodester",
            "thecodester1113",
            "60fps",
            "hd",
            "HD",
            "ps1",
            "ps2",
            "ps3",
            "ps4",
            "kingdom hearts",
            "kingdom",
            "king",
            "heart",
            "hearts",
            "remix",
            "re",
            "mix",
            "final mix",
            "final",
            "movie",
            "cutscene",
            "cutscenes",
            "disney",
            "DISNEY",
            "walt",
            "1.5",
            "2.5",
            "2.8",
            "iii",
            "III",
            "hidden",
            "boss",
            "secret",
            "kingdom hearts 2",
            "kingdom hearts 2 final mix",
            "halloween",
            "town",
            "halloweentown",
            "jack",
            "skellington",
            "jack skellington",
            "oogie",
            "boogie",
            "oogie boogie",
            "lock",
            "shock",
            "barrel",
            "sally",
            "mayor"
           ]
          ],
          [
           [
            "Nirvana",
            "GEFFEN",
            "Rock",
            "remastered",
            "Nirvana smells like teen spirit",
            "smells like teen spirit nirvana",
            "kurt cobain",
            "krist novoselic",
            "dave grohl",
            "dave grohl nirvana",
            "smells like teen spirit remastered",
            "smells like teen spirit remastered video",
            "nirvana remastered",
            "nirvana remastered videos",
            "kurt cobain nirvana",
            "smells like teen spirit nirvana official music video",
            "nirvana music video",
            "nirvana official music video hd",
            "nirvana hd",
            "nevermind"
           ]
          ],
          [
           [
            "Nightmare Before Christmas",
            "Live",
            "Jack's Lament",
            "jack skellington",
            "broadway",
            "halloween",
            "NmBC",
            "jack skellington live",
            "nightmare before xmas live",
            "danny elfman",
            "tim burton",
            "matthew patrick davis"
           ]
          ],
          [
           [
            "video",
            "sharing",
            "camera phone",
            "video phone",
            "free",
            "upload"
           ]
          ]
         ],
         "hovertemplate": "sessionId=6a24c05f-d0d5-4aeb-b899-464b7b5e8fac<br>timestamp=%{x}<br>videoLength=%{y}<br>keywords=%{customdata[0]}<extra></extra>",
         "legendgroup": "6a24c05f-d0d5-4aeb-b899-464b7b5e8fac",
         "marker": {
          "color": "#ab63fa",
          "symbol": "circle"
         },
         "mode": "markers",
         "name": "6a24c05f-d0d5-4aeb-b899-464b7b5e8fac",
         "orientation": "v",
         "showlegend": true,
         "type": "scatter",
         "x": [
          "2021/10/06T01:40:20",
          "2021/10/06T01:40:21",
          "2021/10/06T01:40:21",
          "2021/10/06T01:40:22",
          "2021/10/06T01:40:23",
          "2021/10/06T01:40:23",
          "2021/10/06T01:40:24",
          "2021/10/06T01:40:24",
          "2021/10/06T01:45:18",
          "2021/10/06T01:45:19",
          "2021/10/06T01:45:19",
          "2021/10/06T01:45:20",
          "2021/10/06T01:45:21",
          "2021/10/06T01:45:22",
          "2021/10/06T01:45:22",
          "2021/10/06T01:45:23",
          "2021/10/06T01:50:20",
          "2021/10/06T01:50:21",
          "2021/10/06T01:50:22",
          "2021/10/06T01:50:22",
          "2021/10/06T01:50:23",
          "2021/10/06T01:50:23",
          "2021/10/06T01:50:24",
          "2021/10/06T01:50:25",
          "2021/10/06T01:55:18",
          "2021/10/06T01:55:19",
          "2021/10/06T01:55:20",
          "2021/10/06T01:55:20",
          "2021/10/06T01:55:21",
          "2021/10/06T01:55:22",
          "2021/10/06T01:55:23",
          "2021/10/06T01:55:24",
          "2021/10/06T02:00:45",
          "2021/10/06T02:00:45",
          "2021/10/06T02:00:46",
          "2021/10/06T02:00:47",
          "2021/10/06T02:00:47",
          "2021/10/06T02:00:48",
          "2021/10/06T02:00:49",
          "2021/10/06T02:00:50",
          "2021/10/06T02:05:45",
          "2021/10/06T02:05:45",
          "2021/10/06T02:05:46",
          "2021/10/06T02:05:47",
          "2021/10/06T02:05:48",
          "2021/10/06T02:05:48",
          "2021/10/06T02:05:50",
          "2021/10/06T02:05:51",
          "2021/10/06T02:10:43",
          "2021/10/06T02:10:44",
          "2021/10/06T02:10:45",
          "2021/10/06T02:10:45",
          "2021/10/06T02:10:46",
          "2021/10/06T02:10:47",
          "2021/10/06T02:10:48",
          "2021/10/06T02:10:48",
          "2021/10/06T02:15:46",
          "2021/10/06T02:15:48",
          "2021/10/06T02:15:48",
          "2021/10/06T02:15:50",
          "2021/10/06T02:15:51",
          "2021/10/06T02:15:51",
          "2021/10/06T02:15:52",
          "2021/10/06T02:15:53",
          "2021/10/06T02:20:45",
          "2021/10/06T02:20:46",
          "2021/10/06T02:20:47",
          "2021/10/06T02:20:48",
          "2021/10/06T02:20:49",
          "2021/10/06T02:20:50",
          "2021/10/06T02:20:51",
          "2021/10/06T02:20:53",
          "2021/10/06T02:25:48",
          "2021/10/06T02:25:48",
          "2021/10/06T02:25:49",
          "2021/10/06T02:25:50",
          "2021/10/06T02:25:52",
          "2021/10/06T02:25:53",
          "2021/10/06T02:25:54",
          "2021/10/06T02:25:55",
          "2021/10/06T02:31:13",
          "2021/10/06T02:31:14",
          "2021/10/06T02:31:14",
          "2021/10/06T02:31:15",
          "2021/10/06T02:31:16",
          "2021/10/06T02:31:17",
          "2021/10/06T02:31:17",
          "2021/10/06T02:31:18",
          "2021/10/06T03:11:06",
          "2021/10/06T03:11:07",
          "2021/10/06T03:11:07",
          "2021/10/06T03:11:08",
          "2021/10/06T03:11:09",
          "2021/10/06T03:11:10",
          "2021/10/06T03:11:10",
          "2021/10/06T03:11:11",
          "2021/10/06T03:16:16",
          "2021/10/06T03:16:16",
          "2021/10/06T03:16:17",
          "2021/10/06T03:16:18",
          "2021/10/06T03:16:19",
          "2021/10/06T03:16:19",
          "2021/10/06T03:16:20",
          "2021/10/06T03:16:21",
          "2021/10/06T03:21:09",
          "2021/10/06T03:21:10",
          "2021/10/06T03:21:10",
          "2021/10/06T03:21:11",
          "2021/10/06T03:21:12",
          "2021/10/06T03:21:13",
          "2021/10/06T03:21:13",
          "2021/10/06T03:21:14",
          "2021/10/06T03:26:35",
          "2021/10/06T03:26:36",
          "2021/10/06T03:26:37",
          "2021/10/06T03:26:38",
          "2021/10/06T03:26:39",
          "2021/10/06T03:26:40",
          "2021/10/06T03:26:40",
          "2021/10/06T03:26:41",
          "2021/10/06T03:31:27",
          "2021/10/06T03:31:32",
          "2021/10/06T03:31:34",
          "2021/10/06T03:31:35",
          "2021/10/06T03:31:37",
          "2021/10/06T03:31:38",
          "2021/10/06T03:31:40",
          "2021/10/06T03:31:41",
          "2021/10/06T03:36:19",
          "2021/10/06T03:36:20",
          "2021/10/06T03:36:21",
          "2021/10/06T03:36:22",
          "2021/10/06T03:36:23",
          "2021/10/06T03:36:23",
          "2021/10/06T03:36:24",
          "2021/10/06T03:36:25",
          "2021/10/06T03:41:22",
          "2021/10/06T03:41:23",
          "2021/10/06T03:41:24",
          "2021/10/06T03:41:25",
          "2021/10/06T03:41:25",
          "2021/10/06T03:41:26",
          "2021/10/06T03:41:27",
          "2021/10/06T03:41:28",
          "2021/10/06T03:46:20",
          "2021/10/06T03:46:21",
          "2021/10/06T03:46:22",
          "2021/10/06T03:46:23",
          "2021/10/06T03:46:23",
          "2021/10/06T03:46:25",
          "2021/10/06T03:46:26",
          "2021/10/06T03:46:27",
          "2021/10/06T03:52:44",
          "2021/10/06T03:52:45",
          "2021/10/06T03:52:46",
          "2021/10/06T03:52:47",
          "2021/10/06T03:52:48",
          "2021/10/06T03:52:48",
          "2021/10/06T03:52:49",
          "2021/10/06T03:52:50",
          "2021/10/06T03:58:01",
          "2021/10/06T03:58:01",
          "2021/10/06T03:58:02",
          "2021/10/06T03:58:03",
          "2021/10/06T03:58:03",
          "2021/10/06T03:58:04",
          "2021/10/06T03:58:05",
          "2021/10/06T03:58:06",
          "2021/10/06T04:07:58",
          "2021/10/06T04:07:59",
          "2021/10/06T04:07:59",
          "2021/10/06T04:08:00",
          "2021/10/06T04:08:01",
          "2021/10/06T04:08:02",
          "2021/10/06T04:08:03",
          "2021/10/06T04:08:04",
          "2021/10/06T04:13:54",
          "2021/10/06T04:13:55",
          "2021/10/06T04:13:56",
          "2021/10/06T04:13:56",
          "2021/10/06T04:13:57",
          "2021/10/06T04:13:58",
          "2021/10/06T04:13:59",
          "2021/10/06T04:13:59",
          "2021/10/06T04:17:22",
          "2021/10/06T04:17:23",
          "2021/10/06T04:17:24",
          "2021/10/06T04:17:24",
          "2021/10/06T04:17:25",
          "2021/10/06T04:17:26",
          "2021/10/06T04:17:26",
          "2021/10/06T04:17:27",
          "2021/10/06T04:29:52",
          "2021/10/06T04:29:53",
          "2021/10/06T04:29:53",
          "2021/10/06T04:29:54",
          "2021/10/06T04:29:55",
          "2021/10/06T04:29:56",
          "2021/10/06T04:29:56",
          "2021/10/06T04:29:58",
          "2021/10/06T04:38:35",
          "2021/10/06T04:38:36",
          "2021/10/06T04:38:37",
          "2021/10/06T04:38:38",
          "2021/10/06T04:38:39",
          "2021/10/06T04:38:40",
          "2021/10/06T04:38:41",
          "2021/10/06T04:38:41",
          "2021/10/06T04:43:38",
          "2021/10/06T04:43:42",
          "2021/10/06T04:43:43",
          "2021/10/06T04:43:44",
          "2021/10/06T04:43:45",
          "2021/10/06T04:43:46",
          "2021/10/06T04:43:47",
          "2021/10/06T04:43:48"
         ],
         "xaxis": "x",
         "y": [
          "1:33",
          "3:13",
          "0:09",
          null,
          "2:25",
          "47:37",
          "0:36",
          "0:54",
          "3:55",
          "2:14",
          "0:54",
          null,
          null,
          "5:40",
          "1:39",
          "4:11",
          "1:33",
          null,
          "4:23",
          "1:02",
          "4:11",
          "6:33",
          "11:49",
          "5:15",
          "0:26",
          "1:30",
          "17:30",
          "1:16:40",
          "25:10",
          "2:24:49",
          "3:53",
          "17:27",
          "3:01",
          "3:13",
          "0:40",
          "17:27",
          "2:08",
          "13:43",
          "6:29",
          "5:30",
          "3:32",
          "1:00:15",
          "15:37",
          "2:25",
          "4:10",
          "0:35",
          "2:20",
          "1:25",
          "2:48",
          "2:56",
          "2:54",
          "17:27",
          "2:14",
          "2:24:49",
          "3:01",
          "0:09",
          "3:14",
          "3:22",
          "5:39",
          "5:40",
          "0:54",
          "2:47",
          "0:09",
          "5:30",
          "4:00",
          "1:00:11",
          "0:40",
          "46:18",
          "2:38",
          "10:01",
          "1:54",
          "3:32",
          "4:30",
          "2:27",
          "6:33",
          "5:15",
          "3:27",
          "10:03",
          "3:04",
          "4:54",
          "3:32",
          "1:00:15",
          "6:49",
          "6:56",
          "1:02",
          "2:54",
          "1:19",
          "3:41",
          "2:48",
          "2:24:49",
          "20:20",
          null,
          "1:16:40",
          "3:38",
          "1:25",
          "6:20",
          "6:55",
          "3:25",
          "3:32",
          "11:06",
          "31:59",
          "11:49",
          "2:20",
          "2:27",
          "3:55",
          "3:13",
          "46:18",
          "2:27",
          "12:13",
          "3:46:25",
          "3:34",
          "2:47",
          "5:40",
          "5:11",
          "3:37",
          "39:09",
          "2:08",
          "9:05",
          "1:02",
          "47:37",
          "1:33",
          "2:36",
          "47:37",
          "3:30",
          "46:18",
          "4:30",
          "1:00:15",
          "5:15",
          "0:50",
          "1:00:11",
          "6:55",
          "3:01",
          "3:17",
          "2:24:49",
          "8:43",
          "2:54",
          "0:17",
          "39:40",
          "46:18",
          "4:29",
          "47:37",
          "6:33",
          "0:54",
          "5:15",
          "1:59",
          "4:04",
          "3:06",
          "13:10",
          "2:47",
          "4:38",
          "5:21",
          "2:27",
          "4:13",
          "2:19",
          "2:54",
          "4:00",
          "4:06",
          "13:32",
          "5:40",
          "3:13",
          "1:33",
          "3:13",
          "3:17",
          "3:05",
          "11:06",
          "2:06",
          "5:20",
          "1:25",
          null,
          "2:54",
          "46:18",
          "0:19",
          "2:21",
          "5:15",
          "4:21",
          "1:16:40",
          null,
          "3:59:46",
          "6:55",
          "1:51",
          "10:03",
          "3:13",
          "0:35",
          "2:47",
          null,
          "2:26",
          "47:37",
          "6:33",
          "3:32",
          "8:56",
          "1:16:40",
          "7:54",
          null,
          "1:39",
          "46:18",
          "1:54",
          "15:19",
          "2:59",
          "11:06",
          "4:36",
          "1:42",
          "5:32",
          "5:08",
          "39:09",
          "4:29",
          "1:02",
          null,
          "1:00:47",
          "2:54",
          "3:48",
          "1:21",
          "6:20",
          "46:18",
          null,
          null,
          "3:04"
         ],
         "yaxis": "y"
        }
       ],
       "layout": {
        "legend": {
         "title": {
          "text": "sessionId"
         },
         "tracegroupgap": 0
        },
        "margin": {
         "t": 60
        },
        "template": {
         "data": {
          "bar": [
           {
            "error_x": {
             "color": "#2a3f5f"
            },
            "error_y": {
             "color": "#2a3f5f"
            },
            "marker": {
             "line": {
              "color": "#E5ECF6",
              "width": 0.5
             }
            },
            "type": "bar"
           }
          ],
          "barpolar": [
           {
            "marker": {
             "line": {
              "color": "#E5ECF6",
              "width": 0.5
             }
            },
            "type": "barpolar"
           }
          ],
          "carpet": [
           {
            "aaxis": {
             "endlinecolor": "#2a3f5f",
             "gridcolor": "white",
             "linecolor": "white",
             "minorgridcolor": "white",
             "startlinecolor": "#2a3f5f"
            },
            "baxis": {
             "endlinecolor": "#2a3f5f",
             "gridcolor": "white",
             "linecolor": "white",
             "minorgridcolor": "white",
             "startlinecolor": "#2a3f5f"
            },
            "type": "carpet"
           }
          ],
          "choropleth": [
           {
            "colorbar": {
             "outlinewidth": 0,
             "ticks": ""
            },
            "type": "choropleth"
           }
          ],
          "contour": [
           {
            "colorbar": {
             "outlinewidth": 0,
             "ticks": ""
            },
            "colorscale": [
             [
              0,
              "#0d0887"
             ],
             [
              0.1111111111111111,
              "#46039f"
             ],
             [
              0.2222222222222222,
              "#7201a8"
             ],
             [
              0.3333333333333333,
              "#9c179e"
             ],
             [
              0.4444444444444444,
              "#bd3786"
             ],
             [
              0.5555555555555556,
              "#d8576b"
             ],
             [
              0.6666666666666666,
              "#ed7953"
             ],
             [
              0.7777777777777778,
              "#fb9f3a"
             ],
             [
              0.8888888888888888,
              "#fdca26"
             ],
             [
              1,
              "#f0f921"
             ]
            ],
            "type": "contour"
           }
          ],
          "contourcarpet": [
           {
            "colorbar": {
             "outlinewidth": 0,
             "ticks": ""
            },
            "type": "contourcarpet"
           }
          ],
          "heatmap": [
           {
            "colorbar": {
             "outlinewidth": 0,
             "ticks": ""
            },
            "colorscale": [
             [
              0,
              "#0d0887"
             ],
             [
              0.1111111111111111,
              "#46039f"
             ],
             [
              0.2222222222222222,
              "#7201a8"
             ],
             [
              0.3333333333333333,
              "#9c179e"
             ],
             [
              0.4444444444444444,
              "#bd3786"
             ],
             [
              0.5555555555555556,
              "#d8576b"
             ],
             [
              0.6666666666666666,
              "#ed7953"
             ],
             [
              0.7777777777777778,
              "#fb9f3a"
             ],
             [
              0.8888888888888888,
              "#fdca26"
             ],
             [
              1,
              "#f0f921"
             ]
            ],
            "type": "heatmap"
           }
          ],
          "heatmapgl": [
           {
            "colorbar": {
             "outlinewidth": 0,
             "ticks": ""
            },
            "colorscale": [
             [
              0,
              "#0d0887"
             ],
             [
              0.1111111111111111,
              "#46039f"
             ],
             [
              0.2222222222222222,
              "#7201a8"
             ],
             [
              0.3333333333333333,
              "#9c179e"
             ],
             [
              0.4444444444444444,
              "#bd3786"
             ],
             [
              0.5555555555555556,
              "#d8576b"
             ],
             [
              0.6666666666666666,
              "#ed7953"
             ],
             [
              0.7777777777777778,
              "#fb9f3a"
             ],
             [
              0.8888888888888888,
              "#fdca26"
             ],
             [
              1,
              "#f0f921"
             ]
            ],
            "type": "heatmapgl"
           }
          ],
          "histogram": [
           {
            "marker": {
             "colorbar": {
              "outlinewidth": 0,
              "ticks": ""
             }
            },
            "type": "histogram"
           }
          ],
          "histogram2d": [
           {
            "colorbar": {
             "outlinewidth": 0,
             "ticks": ""
            },
            "colorscale": [
             [
              0,
              "#0d0887"
             ],
             [
              0.1111111111111111,
              "#46039f"
             ],
             [
              0.2222222222222222,
              "#7201a8"
             ],
             [
              0.3333333333333333,
              "#9c179e"
             ],
             [
              0.4444444444444444,
              "#bd3786"
             ],
             [
              0.5555555555555556,
              "#d8576b"
             ],
             [
              0.6666666666666666,
              "#ed7953"
             ],
             [
              0.7777777777777778,
              "#fb9f3a"
             ],
             [
              0.8888888888888888,
              "#fdca26"
             ],
             [
              1,
              "#f0f921"
             ]
            ],
            "type": "histogram2d"
           }
          ],
          "histogram2dcontour": [
           {
            "colorbar": {
             "outlinewidth": 0,
             "ticks": ""
            },
            "colorscale": [
             [
              0,
              "#0d0887"
             ],
             [
              0.1111111111111111,
              "#46039f"
             ],
             [
              0.2222222222222222,
              "#7201a8"
             ],
             [
              0.3333333333333333,
              "#9c179e"
             ],
             [
              0.4444444444444444,
              "#bd3786"
             ],
             [
              0.5555555555555556,
              "#d8576b"
             ],
             [
              0.6666666666666666,
              "#ed7953"
             ],
             [
              0.7777777777777778,
              "#fb9f3a"
             ],
             [
              0.8888888888888888,
              "#fdca26"
             ],
             [
              1,
              "#f0f921"
             ]
            ],
            "type": "histogram2dcontour"
           }
          ],
          "mesh3d": [
           {
            "colorbar": {
             "outlinewidth": 0,
             "ticks": ""
            },
            "type": "mesh3d"
           }
          ],
          "parcoords": [
           {
            "line": {
             "colorbar": {
              "outlinewidth": 0,
              "ticks": ""
             }
            },
            "type": "parcoords"
           }
          ],
          "pie": [
           {
            "automargin": true,
            "type": "pie"
           }
          ],
          "scatter": [
           {
            "marker": {
             "colorbar": {
              "outlinewidth": 0,
              "ticks": ""
             }
            },
            "type": "scatter"
           }
          ],
          "scatter3d": [
           {
            "line": {
             "colorbar": {
              "outlinewidth": 0,
              "ticks": ""
             }
            },
            "marker": {
             "colorbar": {
              "outlinewidth": 0,
              "ticks": ""
             }
            },
            "type": "scatter3d"
           }
          ],
          "scattercarpet": [
           {
            "marker": {
             "colorbar": {
              "outlinewidth": 0,
              "ticks": ""
             }
            },
            "type": "scattercarpet"
           }
          ],
          "scattergeo": [
           {
            "marker": {
             "colorbar": {
              "outlinewidth": 0,
              "ticks": ""
             }
            },
            "type": "scattergeo"
           }
          ],
          "scattergl": [
           {
            "marker": {
             "colorbar": {
              "outlinewidth": 0,
              "ticks": ""
             }
            },
            "type": "scattergl"
           }
          ],
          "scattermapbox": [
           {
            "marker": {
             "colorbar": {
              "outlinewidth": 0,
              "ticks": ""
             }
            },
            "type": "scattermapbox"
           }
          ],
          "scatterpolar": [
           {
            "marker": {
             "colorbar": {
              "outlinewidth": 0,
              "ticks": ""
             }
            },
            "type": "scatterpolar"
           }
          ],
          "scatterpolargl": [
           {
            "marker": {
             "colorbar": {
              "outlinewidth": 0,
              "ticks": ""
             }
            },
            "type": "scatterpolargl"
           }
          ],
          "scatterternary": [
           {
            "marker": {
             "colorbar": {
              "outlinewidth": 0,
              "ticks": ""
             }
            },
            "type": "scatterternary"
           }
          ],
          "surface": [
           {
            "colorbar": {
             "outlinewidth": 0,
             "ticks": ""
            },
            "colorscale": [
             [
              0,
              "#0d0887"
             ],
             [
              0.1111111111111111,
              "#46039f"
             ],
             [
              0.2222222222222222,
              "#7201a8"
             ],
             [
              0.3333333333333333,
              "#9c179e"
             ],
             [
              0.4444444444444444,
              "#bd3786"
             ],
             [
              0.5555555555555556,
              "#d8576b"
             ],
             [
              0.6666666666666666,
              "#ed7953"
             ],
             [
              0.7777777777777778,
              "#fb9f3a"
             ],
             [
              0.8888888888888888,
              "#fdca26"
             ],
             [
              1,
              "#f0f921"
             ]
            ],
            "type": "surface"
           }
          ],
          "table": [
           {
            "cells": {
             "fill": {
              "color": "#EBF0F8"
             },
             "line": {
              "color": "white"
             }
            },
            "header": {
             "fill": {
              "color": "#C8D4E3"
             },
             "line": {
              "color": "white"
             }
            },
            "type": "table"
           }
          ]
         },
         "layout": {
          "annotationdefaults": {
           "arrowcolor": "#2a3f5f",
           "arrowhead": 0,
           "arrowwidth": 1
          },
          "coloraxis": {
           "colorbar": {
            "outlinewidth": 0,
            "ticks": ""
           }
          },
          "colorscale": {
           "diverging": [
            [
             0,
             "#8e0152"
            ],
            [
             0.1,
             "#c51b7d"
            ],
            [
             0.2,
             "#de77ae"
            ],
            [
             0.3,
             "#f1b6da"
            ],
            [
             0.4,
             "#fde0ef"
            ],
            [
             0.5,
             "#f7f7f7"
            ],
            [
             0.6,
             "#e6f5d0"
            ],
            [
             0.7,
             "#b8e186"
            ],
            [
             0.8,
             "#7fbc41"
            ],
            [
             0.9,
             "#4d9221"
            ],
            [
             1,
             "#276419"
            ]
           ],
           "sequential": [
            [
             0,
             "#0d0887"
            ],
            [
             0.1111111111111111,
             "#46039f"
            ],
            [
             0.2222222222222222,
             "#7201a8"
            ],
            [
             0.3333333333333333,
             "#9c179e"
            ],
            [
             0.4444444444444444,
             "#bd3786"
            ],
            [
             0.5555555555555556,
             "#d8576b"
            ],
            [
             0.6666666666666666,
             "#ed7953"
            ],
            [
             0.7777777777777778,
             "#fb9f3a"
            ],
            [
             0.8888888888888888,
             "#fdca26"
            ],
            [
             1,
             "#f0f921"
            ]
           ],
           "sequentialminus": [
            [
             0,
             "#0d0887"
            ],
            [
             0.1111111111111111,
             "#46039f"
            ],
            [
             0.2222222222222222,
             "#7201a8"
            ],
            [
             0.3333333333333333,
             "#9c179e"
            ],
            [
             0.4444444444444444,
             "#bd3786"
            ],
            [
             0.5555555555555556,
             "#d8576b"
            ],
            [
             0.6666666666666666,
             "#ed7953"
            ],
            [
             0.7777777777777778,
             "#fb9f3a"
            ],
            [
             0.8888888888888888,
             "#fdca26"
            ],
            [
             1,
             "#f0f921"
            ]
           ]
          },
          "colorway": [
           "#636efa",
           "#EF553B",
           "#00cc96",
           "#ab63fa",
           "#FFA15A",
           "#19d3f3",
           "#FF6692",
           "#B6E880",
           "#FF97FF",
           "#FECB52"
          ],
          "font": {
           "color": "#2a3f5f"
          },
          "geo": {
           "bgcolor": "white",
           "lakecolor": "white",
           "landcolor": "#E5ECF6",
           "showlakes": true,
           "showland": true,
           "subunitcolor": "white"
          },
          "hoverlabel": {
           "align": "left"
          },
          "hovermode": "closest",
          "mapbox": {
           "style": "light"
          },
          "paper_bgcolor": "white",
          "plot_bgcolor": "#E5ECF6",
          "polar": {
           "angularaxis": {
            "gridcolor": "white",
            "linecolor": "white",
            "ticks": ""
           },
           "bgcolor": "#E5ECF6",
           "radialaxis": {
            "gridcolor": "white",
            "linecolor": "white",
            "ticks": ""
           }
          },
          "scene": {
           "xaxis": {
            "backgroundcolor": "#E5ECF6",
            "gridcolor": "white",
            "gridwidth": 2,
            "linecolor": "white",
            "showbackground": true,
            "ticks": "",
            "zerolinecolor": "white"
           },
           "yaxis": {
            "backgroundcolor": "#E5ECF6",
            "gridcolor": "white",
            "gridwidth": 2,
            "linecolor": "white",
            "showbackground": true,
            "ticks": "",
            "zerolinecolor": "white"
           },
           "zaxis": {
            "backgroundcolor": "#E5ECF6",
            "gridcolor": "white",
            "gridwidth": 2,
            "linecolor": "white",
            "showbackground": true,
            "ticks": "",
            "zerolinecolor": "white"
           }
          },
          "shapedefaults": {
           "line": {
            "color": "#2a3f5f"
           }
          },
          "ternary": {
           "aaxis": {
            "gridcolor": "white",
            "linecolor": "white",
            "ticks": ""
           },
           "baxis": {
            "gridcolor": "white",
            "linecolor": "white",
            "ticks": ""
           },
           "bgcolor": "#E5ECF6",
           "caxis": {
            "gridcolor": "white",
            "linecolor": "white",
            "ticks": ""
           }
          },
          "title": {
           "x": 0.05
          },
          "xaxis": {
           "automargin": true,
           "gridcolor": "white",
           "linecolor": "white",
           "ticks": "",
           "title": {
            "standoff": 15
           },
           "zerolinecolor": "white",
           "zerolinewidth": 2
          },
          "yaxis": {
           "automargin": true,
           "gridcolor": "white",
           "linecolor": "white",
           "ticks": "",
           "title": {
            "standoff": 15
           },
           "zerolinecolor": "white",
           "zerolinewidth": 2
          }
         }
        },
        "xaxis": {
         "anchor": "y",
         "domain": [
          0,
          1
         ],
         "title": {
          "text": "timestamp"
         }
        },
        "yaxis": {
         "anchor": "x",
         "domain": [
          0,
          1
         ],
         "title": {
          "text": "videoLength"
         }
        }
       }
      }
     },
     "metadata": {},
     "output_type": "display_data"
    }
   ],
   "source": [
    "rec_fig = px.scatter(rec_frame, x='timestamp', y='videoLength', hover_data=['keywords'], color='sessionId')\n",
    "rec_fig.show()"
   ]
  },
  {
   "cell_type": "code",
   "execution_count": null,
   "metadata": {},
   "outputs": [],
   "source": []
  }
 ],
 "metadata": {
  "interpreter": {
   "hash": "23bf319c3d7c361e81690086e514966621fd243169f1ae38b144281349936c97"
  },
  "kernelspec": {
   "display_name": "Python 3.7.6 64-bit ('base': conda)",
   "name": "python3"
  },
  "language_info": {
   "codemirror_mode": {
    "name": "ipython",
    "version": 3
   },
   "file_extension": ".py",
   "mimetype": "text/x-python",
   "name": "python",
   "nbconvert_exporter": "python",
   "pygments_lexer": "ipython3",
   "version": "3.7.6"
  },
  "orig_nbformat": 4
 },
 "nbformat": 4,
 "nbformat_minor": 2
}
